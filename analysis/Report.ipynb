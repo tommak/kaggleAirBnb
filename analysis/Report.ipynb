{
 "cells": [
  {
   "cell_type": "markdown",
   "metadata": {},
   "source": [
    "# AirBnb New User Bookings"
   ]
  },
  {
   "cell_type": "markdown",
   "metadata": {},
   "source": [
    "* [AirBnb New User Bookings](#AirBnb-New-User-Bookings)\n",
    "\t* [Introduction](#Introduction)\n",
    "\t* [Data Description](#Data-Description)\n",
    "\t* [Evaluation method](#Evaluation-method)\n",
    "\t* [Data Preprocessing](#Data-Preprocessing)\n",
    "\t\t* [Data Exploration](#Data-Exploration)\n",
    "\t\t\t* [Unbalanced Variables](#Unbalanced-Variables)\n",
    "\t\t\t* [Missing Values](#Missing-Values)\n",
    "\t\t\t* [Continuous Variables and Outliers](#Continuous-Variables-and-Outliers)\n",
    "\t\t* [Data Aggregation](#Data-Aggregation)\n",
    "\t\t* [Cleaning and Feature Engeneering](#Cleaning-and-Feature-Engeneering)\n",
    "\t* [Building a model](#Building-a-model)\n",
    "\t\t* [Data portioning](#Data-portioning)\n",
    "\t\t* [Cross Validation Results](#Cross-Validation-Results)\n",
    "\t* [Evaluation](#Evaluation)\n",
    "\t\t* [Model Performance for Different Classes](#Model-Performance-for-Different-Classes)\n",
    "\t\t* [Comparison with Simple Decision rules: Random and Fixed](#Comparison-with-Simple-Decision-rules:-Random-and-Fixed)\n",
    "\t\t* [Two step classification problem](#Two-step-classification-problem)\n",
    "\t\t\t* [Classification Report for each Class](#Classification-Report-for-each-Class)\n",
    "\t\t\t* [Test Hypotheses about Class Ranks](#Test-Hypotheses-about-Class-Ranks)\n",
    "\t\t* [Feature Importance](#Feature-Importance)\n",
    "\t* [Summary](#Summary)\n"
   ]
  },
  {
   "cell_type": "markdown",
   "metadata": {},
   "source": [
    "## Introduction"
   ]
  },
  {
   "cell_type": "markdown",
   "metadata": {},
   "source": [
    "New users on Airbnb can book a place to stay in 34,000+ cities across 190+ countries. By accurately predicting where a new user will book their first travel experience, Airbnb can share more personalized content with their community, decrease the average time to first booking, and better forecast demand.\n",
    "\n",
    "As a part of [Kaggle competition](https://www.kaggle.com/c/airbnb-recruiting-new-user-bookings) AirBnb provided a list of users along with their demographics, web session records, and some summary statistics. The goal of the project was to predict in which country a new user will make his or her first booking.\n",
    "\n",
    "Described solution got 160th place being in top 11% among all participants and got 0.88484 score on unseen test data, profile can be found [here](https://www.kaggle.com/tmakarova). "
   ]
  },
  {
   "cell_type": "markdown",
   "metadata": {},
   "source": [
    "## Data Description"
   ]
  },
  {
   "cell_type": "markdown",
   "metadata": {},
   "source": [
    "There are 12 possible outcomes of the destination country: &#39;US&#39;, &#39;FR&#39;, &#39;CA&#39;, &#39;GB&#39;, &#39;ES&#39;, &#39;IT&#39;, &#39;PT&#39;, &#39;NL&#39;,&#39;DE&#39;, &#39;AU&#39;, &#39;NDF&#39; (no destination found), and &#39;other&#39;. The training and test sets are split by dates. Test data set is used for submissions in competition. Test data set contains all users with first activities after  **7/1/2014**. In the sessions dataset, the data only dates back to 1/1/2014, while the users dataset dates back to 2010.\n",
    "\n",
    "In total, there are 4 data files provided for training:\n",
    "- User data file contain information about 213451 users and 15 features including target variable. Features describe the user (age, gender), devices and applications she uses and etc.\n",
    "- Session data file is the biggest among all provided files (nearly 600 Mb) and contain information about web session records for users. In total, it has 10567737 records and 6 features.\n",
    "- Other two files (countries and age_gender_bkts) contain some information about countries (geographical information, language) and distribution of age - gender groups in different countries."
   ]
  },
  {
   "cell_type": "markdown",
   "metadata": {},
   "source": [
    "## Evaluation method"
   ]
  },
  {
   "cell_type": "markdown",
   "metadata": {},
   "source": [
    "The goal was to predict five most probable destinations for the user. Performance was evaluated by Normalized Discounted Cumulative Gain (NDCG), which measures the performance of a recommendation system based on the graded relevance of the recommended entities. It varies from 0.0 to 1.0, with 1.0 representing the ideal ranking of the entities. Some details on the metric can be found [here](https://en.wikipedia.org/wiki/Discounted_cumulative_gain#Normalized_DCG) .\n",
    "\n",
    "During evaluation of an algorithm on some test data set, NDCG is calculated for each test observation and than all values are averaged in order to generate one score value."
   ]
  },
  {
   "cell_type": "markdown",
   "metadata": {},
   "source": [
    "## Data Preprocessing "
   ]
  },
  {
   "cell_type": "markdown",
   "metadata": {},
   "source": [
    "### Data Exploration"
   ]
  },
  {
   "cell_type": "markdown",
   "metadata": {},
   "source": [
    "In this section we will perform very brief data exploration in order to highlight important characteristics of underlying data."
   ]
  },
  {
   "cell_type": "code",
   "execution_count": 1,
   "metadata": {
    "collapsed": true
   },
   "outputs": [],
   "source": [
    "import warnings"
   ]
  },
  {
   "cell_type": "code",
   "execution_count": 43,
   "metadata": {
    "collapsed": false
   },
   "outputs": [],
   "source": [
    "import sys\n",
    "import pandas as pd\n",
    "import numpy as np\n",
    "import seaborn as sns\n",
    "import matplotlib.pyplot as plt\n",
    "\n",
    "sys.path.append(\"../\")\n",
    "import ModelValidation.utils as mv_utils \n",
    "\n",
    "\n",
    "% matplotlib inline\n",
    "warnings.filterwarnings('ignore') \n"
   ]
  },
  {
   "cell_type": "code",
   "execution_count": 3,
   "metadata": {
    "collapsed": false
   },
   "outputs": [],
   "source": [
    "users = pd.read_csv(\"../data/users.csv\")\n",
    "sessions = pd.read_csv(\"../data/sessions.csv\")"
   ]
  },
  {
   "cell_type": "markdown",
   "metadata": {},
   "source": [
    "#### Unbalanced Variables"
   ]
  },
  {
   "cell_type": "markdown",
   "metadata": {},
   "source": [
    "Target variable _country destination_ is highly unbalanced, most cases correspond to either NDF class (no booking) or US (travel whithin US)."
   ]
  },
  {
   "cell_type": "code",
   "execution_count": 4,
   "metadata": {
    "collapsed": false,
    "scrolled": true
   },
   "outputs": [
    {
     "data": {
      "text/plain": [
       "<matplotlib.text.Text at 0x105e2c210>"
      ]
     },
     "execution_count": 4,
     "metadata": {},
     "output_type": "execute_result"
    },
    {
     "data": {
      "image/png": "[encoded data removed]",
      "text/plain": [
       "<matplotlib.figure.Figure at 0x110c69cd0>"
      ]
     },
     "metadata": {},
     "output_type": "display_data"
    }
   ],
   "source": [
    "counts_dest = users.country_destination.value_counts(dropna=False)\n",
    "perc_dest = 100 * counts_dest/users.shape[0]\n",
    "ax = sns.barplot(y=perc_dest.index, x=perc_dest.values)\n",
    "ax.set_ylabel(\"Country Destination\")\n",
    "ax.set_xlabel(\"Percent of cases\")\n",
    "ax.set_title(\"Distribution of Target Class\\n\")"
   ]
  },
  {
   "cell_type": "markdown",
   "metadata": {},
   "source": [
    "Number of cases and percent in each target class"
   ]
  },
  {
   "cell_type": "code",
   "execution_count": 5,
   "metadata": {
    "collapsed": false,
    "scrolled": false
   },
   "outputs": [
    {
     "data": {
      "text/html": [
       "<div>\n",
       "<table border=\"1\" class=\"dataframe\">\n",
       "  <thead>\n",
       "    <tr style=\"text-align: right;\">\n",
       "      <th></th>\n",
       "      <th>NDF</th>\n",
       "      <th>US</th>\n",
       "      <th>other</th>\n",
       "      <th>FR</th>\n",
       "      <th>IT</th>\n",
       "      <th>GB</th>\n",
       "      <th>ES</th>\n",
       "      <th>CA</th>\n",
       "      <th>DE</th>\n",
       "      <th>NL</th>\n",
       "      <th>AU</th>\n",
       "      <th>PT</th>\n",
       "    </tr>\n",
       "  </thead>\n",
       "  <tbody>\n",
       "    <tr>\n",
       "      <th># cases</th>\n",
       "      <td>124543</td>\n",
       "      <td>62376</td>\n",
       "      <td>10094</td>\n",
       "      <td>5023</td>\n",
       "      <td>2835</td>\n",
       "      <td>2324</td>\n",
       "      <td>2249</td>\n",
       "      <td>1428</td>\n",
       "      <td>1061</td>\n",
       "      <td>762</td>\n",
       "      <td>539</td>\n",
       "      <td>217</td>\n",
       "    </tr>\n",
       "    <tr>\n",
       "      <th>% cases</th>\n",
       "      <td>58.3473</td>\n",
       "      <td>29.2226</td>\n",
       "      <td>4.72895</td>\n",
       "      <td>2.35323</td>\n",
       "      <td>1.32817</td>\n",
       "      <td>1.08877</td>\n",
       "      <td>1.05364</td>\n",
       "      <td>0.669006</td>\n",
       "      <td>0.49707</td>\n",
       "      <td>0.356991</td>\n",
       "      <td>0.252517</td>\n",
       "      <td>0.101663</td>\n",
       "    </tr>\n",
       "  </tbody>\n",
       "</table>\n",
       "</div>"
      ],
      "text/plain": [
       "             NDF       US    other       FR       IT       GB       ES  \\\n",
       "# cases   124543    62376    10094     5023     2835     2324     2249   \n",
       "% cases  58.3473  29.2226  4.72895  2.35323  1.32817  1.08877  1.05364   \n",
       "\n",
       "               CA       DE        NL        AU        PT  \n",
       "# cases      1428     1061       762       539       217  \n",
       "% cases  0.669006  0.49707  0.356991  0.252517  0.101663  "
      ]
     },
     "execution_count": 5,
     "metadata": {},
     "output_type": "execute_result"
    }
   ],
   "source": [
    "pd.DataFrame({\"# cases\" : counts_dest.apply(lambda v : \"%d\" % v), \"% cases\" : perc_dest}).transpose()"
   ]
  },
  {
   "cell_type": "markdown",
   "metadata": {},
   "source": [
    "Target variable country_destination is quite unbalanced. Most cases (nearly 60%) correspons to 'NDF' - situation when booking was not made. The second destination is 'US' - nearly 30 % of all trainig cases. This means that only 10% of cases corresponds to other destinations, where 5% relates to not listed destination ('other' group)."
   ]
  },
  {
   "cell_type": "markdown",
   "metadata": {},
   "source": [
    "Some categorical features are also unbalanced. In the following chart each dot correspond to the level of categorical feature, on the x-axis percent of cases corresponding to the level are shown.  "
   ]
  },
  {
   "cell_type": "code",
   "execution_count": 6,
   "metadata": {
    "collapsed": false
   },
   "outputs": [
    {
     "data": {
      "text/plain": [
       "<matplotlib.text.Text at 0x110e24c90>"
      ]
     },
     "execution_count": 6,
     "metadata": {},
     "output_type": "execute_result"
    },
    {
     "data": {
      "image/png": "[encoded data removed]",
      "text/plain": [
       "<matplotlib.figure.Figure at 0x105e68fd0>"
      ]
     },
     "metadata": {},
     "output_type": "display_data"
    }
   ],
   "source": [
    "excl_vars = [\"id\",\"age\", \"date_account_created\", \"date_first_active\", \\\n",
    "             \"timestamp_first_active\", \"date_first_booking\", \"country_destination\"]\n",
    "fields_stat = mv_utils.get_levels_stat(users, excl_vars)\n",
    "\n",
    "fig, ax = plt.subplots(figsize=(10,7))\n",
    "sns.stripplot(y=\"field\", x=\"perc\", data=fields_stat, size=8, ax=ax)\n",
    "ax.set_xlabel(\"Percent of cases\")\n",
    "ax.set_ylabel(\"Categorical feature\")\n",
    "ax.set_title(\"Percent of Cases Corresponding to Different Levels of Categorical Features\\n\", \\\n",
    "            fontsize=14)"
   ]
  },
  {
   "cell_type": "markdown",
   "metadata": {},
   "source": [
    "For example, _language_ variable has 25 levels, but more than 97% correspond to English ('en')."
   ]
  },
  {
   "cell_type": "markdown",
   "metadata": {},
   "source": [
    "Next we consider level distribution for session categorical variables."
   ]
  },
  {
   "cell_type": "code",
   "execution_count": 7,
   "metadata": {
    "collapsed": false,
    "scrolled": false
   },
   "outputs": [
    {
     "data": {
      "text/plain": [
       "<matplotlib.text.Text at 0x110ee0e90>"
      ]
     },
     "execution_count": 7,
     "metadata": {},
     "output_type": "execute_result"
    },
    {
     "data": {
      "image/png": "[encoded data removed]",
      "text/plain": [
       "<matplotlib.figure.Figure at 0x1070f1190>"
      ]
     },
     "metadata": {},
     "output_type": "display_data"
    }
   ],
   "source": [
    "ses_fields_stat = mv_utils.get_levels_stat(sessions, [\"user_id\", \"secs_elapsed\"])\n",
    "\n",
    "fig, ax = plt.subplots(figsize=(10,4))\n",
    "sns.stripplot(y=\"field\", x=\"perc\", data=ses_fields_stat, size=8, ax=ax)\n",
    "ax.set_xlabel(\"Percent of cases\")\n",
    "ax.set_ylabel(\"Categorical feature\")\n",
    "ax.set_title(\"Percent of Cases Corresponding to Different Levels of Categorical Features\\n\", \\\n",
    "            fontsize=14)"
   ]
  },
  {
   "cell_type": "markdown",
   "metadata": {},
   "source": [
    "Unbalance of target variable can make prediction of rare classes quite difficult. One solution is try to resample cases for rare classes and therefor increase presence of these classes in the data. It can help to make rare classes more noticeable for classification algorithm. "
   ]
  },
  {
   "cell_type": "markdown",
   "metadata": {},
   "source": [
    "We started with initial data distribution without resampling. We have tried to introduce some groupings for levels of categorical variables (in order to make them more balanced), however, this did not improve model performance, so in final solution no groupings was used."
   ]
  },
  {
   "cell_type": "markdown",
   "metadata": {},
   "source": [
    "#### Missing Values"
   ]
  },
  {
   "cell_type": "markdown",
   "metadata": {},
   "source": [
    "Percent of missed cases for categorical features in users and sessions data sets (including categories like \"unknown\")"
   ]
  },
  {
   "cell_type": "code",
   "execution_count": 8,
   "metadata": {
    "collapsed": false,
    "scrolled": true
   },
   "outputs": [
    {
     "name": "stdout",
     "output_type": "stream",
     "text": [
      "Missing values in users data set\n",
      "****************************************\n",
      "field\n",
      "first_affiliate_tracked    54.015676\n",
      "first_browser              12.773892\n",
      "first_device_type           4.997400\n",
      "gender                     44.829024\n",
      "Name: perc, dtype: float64\n",
      "\n",
      "Missing values in sessions data set\n",
      "****************************************\n",
      "field\n",
      "action            0.753482\n",
      "action_detail    20.414446\n",
      "action_type      20.414721\n",
      "device_type       1.999283\n",
      "Name: perc, dtype: float64\n"
     ]
    }
   ],
   "source": [
    "not_specified_levels = [\"-unknown-\", \"untracked\", \"other/unknown\", \"unknown\", \"nan\"]\n",
    "print \"Missing values in users data set\\n\" + \"*\"*40\n",
    "print fields_stat[fields_stat.level.str.lower().isin(not_specified_levels) | fields_stat.level.isnull()] \\\n",
    "                .groupby(\"field\").perc.sum()\n",
    "print \"\\nMissing values in sessions data set\\n\" + \"*\"*40\n",
    "print ses_fields_stat[ses_fields_stat.level.str.lower().isin(not_specified_levels) | ses_fields_stat.level.isnull()] \\\n",
    "                .groupby(\"field\").perc.sum()"
   ]
  },
  {
   "cell_type": "markdown",
   "metadata": {},
   "source": [
    "Percent of missed cases for  continuous and date features in users and sessions data sets"
   ]
  },
  {
   "cell_type": "code",
   "execution_count": 9,
   "metadata": {
    "collapsed": false,
    "scrolled": false
   },
   "outputs": [
    {
     "data": {
      "text/plain": [
       "age                       41.222576\n",
       "date_account_created       0.000000\n",
       "timestamp_first_active     0.000000\n",
       "dtype: float64"
      ]
     },
     "execution_count": 9,
     "metadata": {},
     "output_type": "execute_result"
    }
   ],
   "source": [
    "100 * users[[\"age\", \"date_account_created\", \"timestamp_first_active\" ]].isnull().sum() / users.shape[0]"
   ]
  },
  {
   "cell_type": "code",
   "execution_count": 10,
   "metadata": {
    "collapsed": false,
    "scrolled": true
   },
   "outputs": [
    {
     "data": {
      "text/plain": [
       "secs_elapsed    63.729381\n",
       "dtype: float64"
      ]
     },
     "execution_count": 10,
     "metadata": {},
     "output_type": "execute_result"
    }
   ],
   "source": [
    "100 * sessions[[\"secs_elapsed\"]].isnull().sum() / users.shape[0]"
   ]
  },
  {
   "cell_type": "markdown",
   "metadata": {},
   "source": [
    "A large part of age and gender data is missed, in nearly 45* of cases gender is not specified and in 41% of cases age is missed. Considering action variables, variables 'action' is presented for most cases, but 'action_detail' and 'action_type' can be missed (nearly in 20% of cases, considering them separately)   "
   ]
  },
  {
   "cell_type": "markdown",
   "metadata": {},
   "source": [
    "####  Continuous Variables and Outliers"
   ]
  },
  {
   "cell_type": "code",
   "execution_count": 11,
   "metadata": {
    "collapsed": false,
    "scrolled": false
   },
   "outputs": [
    {
     "data": {
      "text/plain": [
       "<matplotlib.text.Text at 0x112704390>"
      ]
     },
     "execution_count": 11,
     "metadata": {},
     "output_type": "execute_result"
    },
    {
     "data": {
      "image/png": "[encoded data removed]",
      "text/plain": [
       "<matplotlib.figure.Figure at 0x110f50a90>"
      ]
     },
     "metadata": {},
     "output_type": "display_data"
    }
   ],
   "source": [
    "keep = (users.age.notnull()) \n",
    "fig, ax = plt.subplots(1,2, figsize=(13,5))\n",
    "ax[0].set_xscale('log')\n",
    "ax[1].set_xscale('log')\n",
    "sns.distplot(users[keep].age, ax=ax[0], bins=1000, kde=False, color= sns.xkcd_rgb[\"denim blue\"])\n",
    "sns.boxplot('age', data=users[keep], ax=ax[1])\n",
    "fig.suptitle(\"Distribution of Age\\n(User Data Set)\\n\", fontsize=14)"
   ]
  },
  {
   "cell_type": "code",
   "execution_count": 12,
   "metadata": {
    "collapsed": false,
    "scrolled": false
   },
   "outputs": [
    {
     "data": {
      "text/plain": [
       "<matplotlib.text.Text at 0x112759290>"
      ]
     },
     "execution_count": 12,
     "metadata": {},
     "output_type": "execute_result"
    },
    {
     "data": {
      "image/png": "[encoded data removed]",
      "text/plain": [
       "<matplotlib.figure.Figure at 0x1070f1210>"
      ]
     },
     "metadata": {},
     "output_type": "display_data"
    }
   ],
   "source": [
    "sessions[\"secs_elapsed_min\"] = sessions.secs_elapsed / 60.\n",
    "keep = (sessions.secs_elapsed_min.notnull()) \n",
    "fig, ax = plt.subplots(1,2, figsize=(13,5))\n",
    "ax[0].set_xscale('log')\n",
    "ax[1].set_xscale('log')\n",
    "sns.distplot(sessions[keep].secs_elapsed_min, ax=ax[0], bins=1500, kde=False, color= sns.xkcd_rgb[\"denim blue\"])\n",
    "sns.boxplot('secs_elapsed_min', data=sessions[keep], ax=ax[1])\n",
    "fig.suptitle(\"Distribution of Session Duration (in min)\\n(Sessions Data Set)\\n\", fontsize=14)"
   ]
  },
  {
   "cell_type": "markdown",
   "metadata": {},
   "source": [
    "Age variable contain some improper values: too small or too large, these values should be filtered out. Note that some large age values can be a \"wrong input\" when data of birth is used instead of age. Session duration also have some large outliers, however there is no obvious reason for filtering.\n",
    "\n",
    "We will remove ages less than 14 and greater than 95 (replace with null values). Since we are going to use decision trees which are quite robust to outliers, we will not preprocess and filter outliers from security duration variable. "
   ]
  },
  {
   "cell_type": "markdown",
   "metadata": {},
   "source": [
    "### Data Aggregation"
   ]
  },
  {
   "cell_type": "markdown",
   "metadata": {},
   "source": [
    "Session actions are presented in 3 variables. However, considering them separately often does not clarify what user actually did and if it could be important.\n",
    "\n",
    "For example, there is a _action_ : personalize with _action-type_ : data. However, variable _action-detail_ is very clear - wishlist\\_content\\_update, which is definitely can be an action which users who made a booking performed.\n",
    "\n",
    "We combine all three variables in one aggregated variable _aggr-action_ of specified format.\n",
    "\n",
    "For each _aggr-action_ we will define a short name (agg\\_action\\_number). We will create a table with full and short names for actions. Giving number for each action we will order them by percent of users, who used that action (agg\\_action\\_0 is the most common action among users). This kind of renaming is not important for the algorithm, but can be useful for further exploration and interpretation.\n",
    "\n",
    "In total there are 467 unique aggregated actions. Some part of these actions were used quite rarely by the users.\n",
    "\n",
    "We will add some simple classification of actions mostly to exclude those which were rarely used. All actions which were used by less than 1% of users were combined in special &quot;other&quot; group (called &quot;agg\\_action\\_other&quot;). However, some rarely used actions could still be related to booking activity. In order not to lose this information, actions from &quot;other&quot; group were further combined if they contained the same key\\_word (called &quot;agg\\_action\\_other\\_[key\\_word]&quot;). A simple list of key words were used: [&quot;host&quot;, &quot;book&quot;, &quot;wishlist&quot;, &quot;reserv&quot;, &quot;transl&quot;, &quot;coupon&quot;].\n",
    "\n",
    "Note that all actions which were used by more than 1% of users, were not grouped in any way.  After grouping there were 150 unique action groups. Note that use of 1% threshold is quite arbitrary and can be reconsidered in further analysis.\n",
    "\n",
    "Pivot sessions dataset and merge it with users data by user\\_id field. As a result, in combined dataset for each user\\_id there are:\n",
    "\n",
    "- 15 variable coming from users data (age, gender, etc);\n",
    "- 150 actions (coded aggregated and grouped) with corresponding number of uses (number of sessions). If a user did not perform an action, value is set to NaN.\n",
    "- 14 types of devices with corresponding number of uses (number of sessions). If a user did not use specific type of device, value is set to NaN.\n",
    "- Total duration of all sessions for a user\n",
    "- Total number of actions\n",
    "\n",
    "In total, combined dataset has 213451 lines (users) and 182 variables.\n",
    "\n",
    "Note that, only around 35% of users have session data. It is not clear how to impute missing data for all other users and if it makes sense at all. This fact imposes certain restrictions on the choice of classification algorithm."
   ]
  },
  {
   "cell_type": "markdown",
   "metadata": {},
   "source": [
    "### Cleaning and Feature Engeneering"
   ]
  },
  {
   "cell_type": "markdown",
   "metadata": {},
   "source": [
    "Simple basic cleaning was performed. "
   ]
  },
  {
   "cell_type": "markdown",
   "metadata": {},
   "source": [
    "- Date account created was transformed into three variables : year, date, month;\n",
    "- Date first active was transformed into three variables : year, date, month;\n",
    "- Session duration is transformed into days\n",
    "- Action variables are transformed to percentages – percentage of times when specific action was performed by the user\n",
    "- Clean age variable and remove age below 14 and over 95.\n",
    "- Fill Na values with -1\n"
   ]
  },
  {
   "cell_type": "markdown",
   "metadata": {},
   "source": [
    "## Building a model"
   ]
  },
  {
   "cell_type": "markdown",
   "metadata": {},
   "source": [
    "Note that, only around 35% of users have session data. It is not clear how to impute missing data for all other users and if it makes sense at all. This fact imposes certain restrictions on the choice of classification algorithm.\n",
    "\n",
    "Decision trees are known be good in handling data of mixed type with outliers and data with missing values. Decision trees are also known to have often weaker predictive power in comparison with some other algorithms. However, using of various ensemble methods (like boosting or random forest) can significantly improve predictive power. \n",
    "\n",
    "We will use Gradient Boosted Trees (GBT) and Random Forest (RF) for multiclass classification. "
   ]
  },
  {
   "cell_type": "markdown",
   "metadata": {},
   "source": [
    "### Data portioning"
   ]
  },
  {
   "cell_type": "markdown",
   "metadata": {},
   "source": [
    "We randomly split the data into two groups: train and evaluation (90% and 10%). Train part is used for model training and optimization of parameters with cross validation. During cross validation part of the data is used for training and part of the data is used for evaluation, so that model performance is always estimated on unseen data. Cross validation has a few iterations when data is split in different ways, at the end scores can be averaged and give single performance estimation.\n",
    "\n",
    "Once models and parameters are selected, they can be trained on the whole train data and applied to untouched evaluation data part. Evaluation step is important in order to provide estimate about model performance in real conditions.\n"
   ]
  },
  {
   "cell_type": "markdown",
   "metadata": {},
   "source": [
    "### Cross Validation Results"
   ]
  },
  {
   "cell_type": "code",
   "execution_count": 13,
   "metadata": {
    "collapsed": false
   },
   "outputs": [],
   "source": [
    "xgb_parvar = pd.read_csv(\"../ModelValidation/xgb_parvar_add.csv\")\n",
    "rf_parvar = pd.read_csv(\"../ModelValidation/rf_parvar.csv\")"
   ]
  },
  {
   "cell_type": "markdown",
   "metadata": {},
   "source": [
    "For GBT three parameters were considered for tuning: number of estimators, learning rate and tree depth. \n",
    "\n",
    "First for fixed tree depth (equal to 6) learning rate and number of estimators were varied in ranges:\n",
    " * learning rate : 0.1, 0.15, 0.2, 0.3\n",
    " * number of estimators: 20, 25, 30:10:100\n",
    " \n",
    " Once best learning rate and number of estimators were fixed, a few values of tree depth were considerd:\n",
    " * tree depth: 3, 6, 8, 10 "
   ]
  },
  {
   "cell_type": "markdown",
   "metadata": {},
   "source": [
    "Next results of 3-fold cross validation on training data set are presented"
   ]
  },
  {
   "cell_type": "code",
   "execution_count": 42,
   "metadata": {
    "collapsed": false
   },
   "outputs": [
    {
     "data": {
      "text/plain": [
       "<matplotlib.text.Text at 0x11c373750>"
      ]
     },
     "execution_count": 42,
     "metadata": {},
     "output_type": "execute_result"
    },
    {
     "data": {
      "image/png": "[encoded data removed]",
      "text/plain": [
       "<matplotlib.figure.Figure at 0x11ea7ec10>"
      ]
     },
     "metadata": {},
     "output_type": "display_data"
    }
   ],
   "source": [
    "fig, ax = plt.subplots(1,2, figsize=(10,5), sharey=True)\n",
    "colormap = plt.cm.gist_ncar\n",
    "plt.gca().set_color_cycle([colormap(i) for i in np.linspace(0, 0.9, 3)])\n",
    "\n",
    "sns.set_style(\"darkgrid\")\n",
    "sns.pointplot(x=\"n_estimators\", y=\"score\", data=xgb_parvar[xgb_parvar.max_depth==6],\n",
    "              hue=\"learning_rate\", scale=0.5, ax=ax[0])\n",
    "sns.pointplot(x=\"max_depth\", y=\"score\", data=xgb_parvar[(xgb_parvar.n_estimators==90) &\n",
    "                                (xgb_parvar.learning_rate==0.1)], scale=0.5, ax=ax[1])\n",
    "\n",
    "fig.suptitle(\"Cross Validation Results for Gradient Boosted Trees\\n\", fontsize=14)\n",
    "ax[0].set_ylabel(\"Average Score\")\n",
    "ax[0].set_xlabel(\"Number of Features\")\n",
    "ax[1].set_ylabel(\"Average Score\")\n",
    "ax[1].set_xlabel(\"Max Tree Depth\")\n"
   ]
  },
  {
   "cell_type": "markdown",
   "metadata": {},
   "source": [
    "Learning rates 0.1 and 0.15 with number of estimators greater or equal to 40 outperformed other model runs. \n",
    "Pair (0.1, 90) was selected as the best option from performed calculatiom, note that it is quite stable and performance in close neighborhood almost doest not change. Next, for fixed pair of learning rate and number of estimators I calculated a few values of tree depth and selected max_deapth = 8 as optimal.\n",
    "\n",
    "This two step procedure was performed only because of computational issues, since it takes time to calculated a lot of model runs."
   ]
  },
  {
   "cell_type": "markdown",
   "metadata": {},
   "source": [
    "For Random Forest Model two parameters were considered:\n",
    " * number of estimators : 100, 200, 300, 400\n",
    " * number of features : 15, 50, 100, 150\n"
   ]
  },
  {
   "cell_type": "code",
   "execution_count": 38,
   "metadata": {
    "collapsed": false
   },
   "outputs": [
    {
     "data": {
      "text/plain": [
       "<matplotlib.legend.Legend at 0x11d4efd10>"
      ]
     },
     "execution_count": 38,
     "metadata": {},
     "output_type": "execute_result"
    },
    {
     "data": {
      "image/png": "[encoded data removed]",
      "text/plain": [
       "<matplotlib.figure.Figure at 0x11d4e4610>"
      ]
     },
     "metadata": {},
     "output_type": "display_data"
    }
   ],
   "source": [
    "ax = sns.pointplot(x=\"max_features\", y=\"score\", data=rf_parvar, hue=\"n_estimators\", scale=0.5)\n",
    "ax.set_title(\"Cross Validation Results for Random Forest\\n\", fontsize=14)\n",
    "ax.set_ylabel(\"Average Score\")\n",
    "ax.set_xlabel(\"Number of Features\")\n",
    "plt.legend(title=\"Number of Estimators\")"
   ]
  },
  {
   "cell_type": "markdown",
   "metadata": {},
   "source": [
    "As a final model GBM with 0.1 learning rate, 90 estimators and tree depth of 8 will be used. Please note that selected here parameters differ a little bit from those used in Kaggle competition (0.15 learning rate, 40 estimators and 8 max tree depth)."
   ]
  },
  {
   "cell_type": "markdown",
   "metadata": {},
   "source": [
    "## Evaluation"
   ]
  },
  {
   "cell_type": "markdown",
   "metadata": {},
   "source": [
    "After cross validation GBM was selected and then it was run on the whole train set, trained classifier was applied to unseen evaluation data set."
   ]
  },
  {
   "cell_type": "code",
   "execution_count": 16,
   "metadata": {
    "collapsed": true
   },
   "outputs": [],
   "source": [
    "eval_res = pd.read_csv(\"../evaluations/eval_clf_md8.csv\")"
   ]
  },
  {
   "cell_type": "code",
   "execution_count": 17,
   "metadata": {
    "collapsed": false,
    "scrolled": true
   },
   "outputs": [
    {
     "data": {
      "text/plain": [
       "0.83331260022685094"
      ]
     },
     "execution_count": 17,
     "metadata": {},
     "output_type": "execute_result"
    }
   ],
   "source": [
    "eval_res.ndcg_5.mean()"
   ]
  },
  {
   "cell_type": "markdown",
   "metadata": {},
   "source": [
    "The model had nearly 0.833 score on evaluation data set, which is quite close to cross validation results."
   ]
  },
  {
   "cell_type": "markdown",
   "metadata": {},
   "source": [
    "### Model Performance for Different Classes"
   ]
  },
  {
   "cell_type": "markdown",
   "metadata": {},
   "source": [
    "Next chart and table shows average score for each value of true class. NDCG score value measures relevance of top 5 ranked predictions to the true class value. "
   ]
  },
  {
   "cell_type": "code",
   "execution_count": 18,
   "metadata": {
    "collapsed": false
   },
   "outputs": [
    {
     "data": {
      "text/plain": [
       "<matplotlib.text.Text at 0x12826c990>"
      ]
     },
     "execution_count": 18,
     "metadata": {},
     "output_type": "execute_result"
    },
    {
     "data": {
      "image/png": "[encoded data removed]",
      "text/plain": [
       "<matplotlib.figure.Figure at 0x110cd10d0>"
      ]
     },
     "metadata": {},
     "output_type": "display_data"
    }
   ],
   "source": [
    "v = eval_res.groupby(\"true_destination\").ndcg_5.mean()\n",
    "v.sort(ascending=False)\n",
    "classes_dist = users.country_destination.value_counts(normalize=True)\n",
    "\n",
    "fig, ax = plt.subplots(1,2, figsize=(10,5), sharey=True)\n",
    "ax[1].set_xscale('log')\n",
    "sns.barplot(y=\"true_destination\", x=\"ndcg_5\", data=eval_res, order=v.index, color=\"steelblue\", ax=ax[0])\n",
    "sns.barplot(y=classes_dist.index, x=classes_dist.values, color=\"steelblue\", ax=ax[1])\n",
    "ax[0].set_ylabel(\"True Destination\")\n",
    "ax[0].set_xlabel(\"Mean NDCG of Top 5 Predictions\")\n",
    "ax[1].set_xlabel(\"Class Frequency in Data\")\n"
   ]
  },
  {
   "cell_type": "code",
   "execution_count": 19,
   "metadata": {
    "collapsed": false,
    "scrolled": false
   },
   "outputs": [
    {
     "data": {
      "text/html": [
       "<div>\n",
       "<table border=\"1\" class=\"dataframe\">\n",
       "  <thead>\n",
       "    <tr style=\"text-align: right;\">\n",
       "      <th></th>\n",
       "      <th>NDF</th>\n",
       "      <th>US</th>\n",
       "      <th>other</th>\n",
       "      <th>FR</th>\n",
       "      <th>IT</th>\n",
       "      <th>ES</th>\n",
       "      <th>GB</th>\n",
       "      <th>CA</th>\n",
       "      <th>DE</th>\n",
       "      <th>AU</th>\n",
       "      <th>NL</th>\n",
       "      <th>PT</th>\n",
       "    </tr>\n",
       "  </thead>\n",
       "  <tbody>\n",
       "    <tr>\n",
       "      <th>ndcg_5</th>\n",
       "      <td>0.950206</td>\n",
       "      <td>0.821756</td>\n",
       "      <td>0.500852</td>\n",
       "      <td>0.427165</td>\n",
       "      <td>0.252902</td>\n",
       "      <td>0.114766</td>\n",
       "      <td>0.073671</td>\n",
       "      <td>0.012184</td>\n",
       "      <td>0.010647</td>\n",
       "      <td>0.008789</td>\n",
       "      <td>0.00000</td>\n",
       "      <td>0.000000</td>\n",
       "    </tr>\n",
       "    <tr>\n",
       "      <th>classes_frequencies</th>\n",
       "      <td>0.583473</td>\n",
       "      <td>0.292226</td>\n",
       "      <td>0.047290</td>\n",
       "      <td>0.023532</td>\n",
       "      <td>0.013282</td>\n",
       "      <td>0.010536</td>\n",
       "      <td>0.010888</td>\n",
       "      <td>0.006690</td>\n",
       "      <td>0.004971</td>\n",
       "      <td>0.002525</td>\n",
       "      <td>0.00357</td>\n",
       "      <td>0.001017</td>\n",
       "    </tr>\n",
       "  </tbody>\n",
       "</table>\n",
       "</div>"
      ],
      "text/plain": [
       "                          NDF        US     other        FR        IT  \\\n",
       "ndcg_5               0.950206  0.821756  0.500852  0.427165  0.252902   \n",
       "classes_frequencies  0.583473  0.292226  0.047290  0.023532  0.013282   \n",
       "\n",
       "                           ES        GB        CA        DE        AU  \\\n",
       "ndcg_5               0.114766  0.073671  0.012184  0.010647  0.008789   \n",
       "classes_frequencies  0.010536  0.010888  0.006690  0.004971  0.002525   \n",
       "\n",
       "                          NL        PT  \n",
       "ndcg_5               0.00000  0.000000  \n",
       "classes_frequencies  0.00357  0.001017  "
      ]
     },
     "execution_count": 19,
     "metadata": {},
     "output_type": "execute_result"
    }
   ],
   "source": [
    "classes_dist.name = \"classes_frequencies\"\n",
    "pd.concat([v.to_frame(), classes_dist.to_frame()], axis=1 ) \\\n",
    "                    .transpose().sort_values(\"ndcg_5\", axis=1, ascending=False)"
   ]
  },
  {
   "cell_type": "markdown",
   "metadata": {},
   "source": [
    "We can see that for NDF ans US classes classification model gives more relevant results than for other classes. We can also note that relevance score decreases as decrease presence of a class in the data. Rare classes can have very low or even zero (they were not predicted in top 5) average relevance.\n",
    "\n",
    "In accordance with this observation, we can consider the following questions:\n",
    " * Is the model smarter that some naive decision rules? \n",
    "   Next we will consider two decision rules: \n",
    "     * Random decision. Top 5 classes are randomly sampled from all classes in accordance with classes frequencies in the train data set. After that selected 5 classes are ranked in accordance with frequencies.\n",
    "     * Fixed decision. Top 5 classes are always predicted as 5 most frequent classes according to the train data set.\n",
    "     \n",
    "     \n",
    " * We can separate classification problem into two parts: \n",
    "     * Define if a user made any booking or not (NDF vs non-NDF)\n",
    "     * If the user made booking, predict country destination\n",
    "     \n",
    "   The question is if model works efficiently in both parts of the problem. We see that model works better for NDF and US classes, does that mean that it can predict only if user made a booking or not."
   ]
  },
  {
   "cell_type": "markdown",
   "metadata": {},
   "source": [
    "### Comparison with Simple Decision rules: Random and Fixed"
   ]
  },
  {
   "cell_type": "markdown",
   "metadata": {},
   "source": [
    "Next we will consider two simple decision rules and compare them with the model. \n",
    "First we will consider random decision. Top 5 classes are randomly sampled from all classes in accordance with classes frequencies in the train data set. After that selected 5 classes are ranked in accordance with frequencies.\n",
    "Next we will consider fixed decision. Top 5 classes are always predicted as 5 most frequent classes according to the train data set.\n",
    "\n",
    "The question is if the model outperforms simple decision rules."
   ]
  },
  {
   "cell_type": "code",
   "execution_count": 20,
   "metadata": {
    "collapsed": false,
    "scrolled": true
   },
   "outputs": [
    {
     "name": "stdout",
     "output_type": "stream",
     "text": [
      "Load from mean_rnd_df.csv\n"
     ]
    }
   ],
   "source": [
    "eval_rnd = mv_utils.get_rnd_eval(\"mean_rnd_df.csv\", eval_res)\n",
    "v_rnd = eval_rnd.groupby(\"true_destination\").mean_rnd_score.mean()\n",
    "v_rnd = v_rnd.sort_values(ascending=False)"
   ]
  },
  {
   "cell_type": "code",
   "execution_count": 21,
   "metadata": {
    "collapsed": false,
    "scrolled": true
   },
   "outputs": [],
   "source": [
    "eval_fixed = mv_utils.get_fixed_eval(classes_dist.index, eval_res)\n",
    "v_fixed = eval_fixed.groupby(\"true_destination\").ndcg_5.mean()\n",
    "v_fixed = v_fixed.sort_values(ascending=False)"
   ]
  },
  {
   "cell_type": "code",
   "execution_count": 22,
   "metadata": {
    "collapsed": false,
    "scrolled": true
   },
   "outputs": [
    {
     "data": {
      "text/html": [
       "<div>\n",
       "<table border=\"1\" class=\"dataframe\">\n",
       "  <thead>\n",
       "    <tr style=\"text-align: right;\">\n",
       "      <th></th>\n",
       "      <th>NDF</th>\n",
       "      <th>US</th>\n",
       "      <th>other</th>\n",
       "      <th>FR</th>\n",
       "      <th>IT</th>\n",
       "      <th>ES</th>\n",
       "      <th>GB</th>\n",
       "      <th>CA</th>\n",
       "      <th>DE</th>\n",
       "      <th>AU</th>\n",
       "      <th>NL</th>\n",
       "      <th>PT</th>\n",
       "      <th>score</th>\n",
       "    </tr>\n",
       "  </thead>\n",
       "  <tbody>\n",
       "    <tr>\n",
       "      <th>model</th>\n",
       "      <td>0.950206</td>\n",
       "      <td>0.821756</td>\n",
       "      <td>0.500852</td>\n",
       "      <td>0.427165</td>\n",
       "      <td>0.252902</td>\n",
       "      <td>0.114766</td>\n",
       "      <td>0.073671</td>\n",
       "      <td>0.012184</td>\n",
       "      <td>0.010647</td>\n",
       "      <td>0.008789</td>\n",
       "      <td>0.000000</td>\n",
       "      <td>0.000000</td>\n",
       "      <td>0.833313</td>\n",
       "    </tr>\n",
       "    <tr>\n",
       "      <th>rnd decision</th>\n",
       "      <td>0.999787</td>\n",
       "      <td>0.629405</td>\n",
       "      <td>0.408748</td>\n",
       "      <td>0.260460</td>\n",
       "      <td>0.163682</td>\n",
       "      <td>0.124764</td>\n",
       "      <td>0.132657</td>\n",
       "      <td>0.081181</td>\n",
       "      <td>0.060354</td>\n",
       "      <td>0.029432</td>\n",
       "      <td>0.044462</td>\n",
       "      <td>0.011992</td>\n",
       "      <td>0.798150</td>\n",
       "    </tr>\n",
       "    <tr>\n",
       "      <th>fixed decision</th>\n",
       "      <td>1.000000</td>\n",
       "      <td>0.630930</td>\n",
       "      <td>0.500000</td>\n",
       "      <td>0.430677</td>\n",
       "      <td>0.386853</td>\n",
       "      <td>0.000000</td>\n",
       "      <td>0.000000</td>\n",
       "      <td>0.000000</td>\n",
       "      <td>0.000000</td>\n",
       "      <td>0.000000</td>\n",
       "      <td>0.000000</td>\n",
       "      <td>0.000000</td>\n",
       "      <td>0.806038</td>\n",
       "    </tr>\n",
       "  </tbody>\n",
       "</table>\n",
       "</div>"
      ],
      "text/plain": [
       "                     NDF        US     other        FR        IT        ES  \\\n",
       "model           0.950206  0.821756  0.500852  0.427165  0.252902  0.114766   \n",
       "rnd decision    0.999787  0.629405  0.408748  0.260460  0.163682  0.124764   \n",
       "fixed decision  1.000000  0.630930  0.500000  0.430677  0.386853  0.000000   \n",
       "\n",
       "                      GB        CA        DE        AU        NL        PT  \\\n",
       "model           0.073671  0.012184  0.010647  0.008789  0.000000  0.000000   \n",
       "rnd decision    0.132657  0.081181  0.060354  0.029432  0.044462  0.011992   \n",
       "fixed decision  0.000000  0.000000  0.000000  0.000000  0.000000  0.000000   \n",
       "\n",
       "                   score  \n",
       "model           0.833313  \n",
       "rnd decision    0.798150  \n",
       "fixed decision  0.806038  "
      ]
     },
     "execution_count": 22,
     "metadata": {},
     "output_type": "execute_result"
    }
   ],
   "source": [
    "df = pd.concat([v, v_rnd, v_fixed], axis=1)\n",
    "df.columns = [\"model\", \"rnd decision\", \"fixed decision\"]\n",
    "df = df.sort_values(\"model\", ascending=False).transpose()\n",
    "df[\"score\"] = [eval_res.ndcg_5.mean(), eval_rnd.mean_rnd_score.mean(), eval_fixed.ndcg_5.mean()]\n",
    "df"
   ]
  },
  {
   "cell_type": "markdown",
   "metadata": {},
   "source": [
    "From the table above we can see that model outperforms random decision and fixed decision (see score column which corresponds to average NDCG score for all cases in evaluation data set). Considering classes separately, we see that model gives slightly worse score for NDF class (because by definition random and fixed decisions give more preference to NDF class), but for US class it outperforms other variants. However, for all other classes model is the same or worse than considered simple decision rules."
   ]
  },
  {
   "cell_type": "code",
   "execution_count": 23,
   "metadata": {
    "collapsed": false,
    "scrolled": true
   },
   "outputs": [],
   "source": [
    "melted_df = pd.melt(df.iloc[:,:-1].transpose().reset_index(), id_vars=[\"index\"], \\\n",
    "                    value_vars=[\"model\", \"rnd decision\", \"fixed decision\"])\n",
    "melted_df.columns = [\"Country Destination\", \"Decision\", \"Score\"]"
   ]
  },
  {
   "cell_type": "code",
   "execution_count": 24,
   "metadata": {
    "collapsed": false
   },
   "outputs": [
    {
     "data": {
      "text/plain": [
       "<matplotlib.text.Text at 0x11a6f8850>"
      ]
     },
     "execution_count": 24,
     "metadata": {},
     "output_type": "execute_result"
    },
    {
     "data": {
      "image/png": "[encoded data removed]",
      "text/plain": [
       "<matplotlib.figure.Figure at 0x11a995150>"
      ]
     },
     "metadata": {},
     "output_type": "display_data"
    }
   ],
   "source": [
    "fig, ax = plt.subplots(figsize=(10,8))\n",
    "sns.barplot(y=\"Country Destination\", x=\"Score\", hue=\"Decision\", data=melted_df, ax=ax, orient=\"h\", palette=\"GnBu_d\")\n",
    "ax.set_title(\"Comparison of the Model with Random and Fixed Decisions\\n\", fontsize=14)\n",
    "ax.set_xlabel(\"Average Relevance Score (NDCG)\")\n",
    "\n"
   ]
  },
  {
   "cell_type": "markdown",
   "metadata": {},
   "source": [
    "### Two step classification problem"
   ]
  },
  {
   "cell_type": "markdown",
   "metadata": {},
   "source": [
    "We can separate classification problem into two parts:\n",
    "\n",
    " * Define if a user made any booking or not (NDF vs non-NDF)\n",
    " * If the user made booking, predict country destination\n",
    "\n",
    "The question is if model works efficiently in both parts of the problem. We see that model works better for NDF and US classes, does that mean that it can predict only \"booking\" and \"not booking\" events?."
   ]
  },
  {
   "cell_type": "markdown",
   "metadata": {},
   "source": [
    "#### Classification Report for each Class "
   ]
  },
  {
   "cell_type": "markdown",
   "metadata": {},
   "source": [
    "Next we will consider standard classification report which compares true and predicted values of a class. Since it considers only one value as class prediction (not a list of predictions), we will use prediction with highest probability. "
   ]
  },
  {
   "cell_type": "code",
   "execution_count": 25,
   "metadata": {
    "collapsed": false
   },
   "outputs": [
    {
     "name": "stdout",
     "output_type": "stream",
     "text": [
      "             precision    recall  f1-score   support\n",
      "\n",
      "         AU       0.00      0.00      0.00        49\n",
      "         CA       0.00      0.00      0.00       127\n",
      "         DE       0.00      0.00      0.00       109\n",
      "         ES       0.00      0.00      0.00       235\n",
      "         FR       0.00      0.00      0.00       510\n",
      "         GB       0.00      0.00      0.00       247\n",
      "         IT       0.00      0.00      0.00       269\n",
      "        NDF       0.71      0.87      0.78     12434\n",
      "         NL       0.00      0.00      0.00        83\n",
      "         PT       0.00      0.00      0.00        20\n",
      "         US       0.52      0.52      0.52      6236\n",
      "      other       0.00      0.00      0.00      1027\n",
      "\n",
      "avg / total       0.57      0.66      0.61     21346\n",
      "\n"
     ]
    }
   ],
   "source": [
    "from sklearn.metrics import classification_report\n",
    "print classification_report(eval_res.true_destination, eval_res.pred_0)"
   ]
  },
  {
   "cell_type": "markdown",
   "metadata": {},
   "source": [
    "Considering only one best prediction, we can see that model predicted only NDF and US classes. For NDF class model shows more or less high recall and precision, meaning that model is able to identity \"user did not make booking\" situations. Among all users who did not make booking (NDF class) model identified 87% correctly (recall = 87%), among all users with predicted class \"NDF\" 71% did not make booking (precision = 71%). Note that fixed decision, when NDF is always predicted, gives 100% recall, but only 58% precision (frequency of NDF in data).\n",
    "\n",
    "Class \"US\" is likely to be \"made booking\" prediction rather than prediction of certain destination."
   ]
  },
  {
   "cell_type": "markdown",
   "metadata": {},
   "source": [
    "#### Test Hypotheses about Class Ranks"
   ]
  },
  {
   "cell_type": "markdown",
   "metadata": {},
   "source": [
    "We'd like to understand whether model is capable to predict concrete destination rather than \"booking\" and \"not booking\" cases. \n",
    "\n",
    "For each case in evaluation data set we will consider position (rank) of correct prediction in the list of predicted classes. List of predicted classes is formed based on prediction probabilities defined by the model. \n",
    "\n",
    "For NDF class we will consider the following hypotheses:\n",
    " * H0: There is no difference in position of NDF class in ranked list of predictions in situations when booking was made and when booking was not made;\n",
    " * H1: Position of NDF class in ranked list of predictions is higher in situation when booking was not made.\n",
    "    \n",
    "For a classes 'A' corresponding to specific destination we will consider the following hypotheses:\n",
    " * H0: There is no difference in position of 'A' class in ranked list of predictions in situations when 'A' destination was booked and when other destination was booked (latter assumes that booking was made, but with other country destination);\n",
    " * H1: Position of 'A' class in ranked list of predictions is higher in situation when 'A' destination was booked.\n",
    " \n",
    "Next we will perform Mann-Whitney rank test and calculate effect sizes based on Common language effect size and Rank-biserial correlation.\n",
    "\n",
    "We will also consider these hypotheses in terms of average ranks and perform t-test. \n",
    "\n",
    "Note that in technical implementation we consider ranks from 0 to num_classes-1, where rank=0 means most probable prediction. Therefor rank decrease actually means \"good\" situation when class become more probable in comparison with other classes."
   ]
  },
  {
   "cell_type": "code",
   "execution_count": 26,
   "metadata": {
    "collapsed": false
   },
   "outputs": [],
   "source": [
    "class_labels = eval_res.true_destination.unique()\n",
    "ranks = pd.DataFrame(map(lambda row: [list(row).index(cl) for cl in class_labels ], eval_res.iloc[:,:-2].values),\n",
    "             columns = class_labels)\n",
    "ranks[\"true_destination\"] = eval_res[\"true_destination\"]"
   ]
  },
  {
   "cell_type": "code",
   "execution_count": 27,
   "metadata": {
    "collapsed": false,
    "scrolled": true
   },
   "outputs": [],
   "source": [
    "mannwhit = mv_utils.perform_rank_test(ranks)\n",
    "mannwhit = mannwhit.sort_values(\"pval\")"
   ]
  },
  {
   "cell_type": "code",
   "execution_count": 28,
   "metadata": {
    "collapsed": true
   },
   "outputs": [],
   "source": [
    "ttest = mv_utils.perform_ttest(ranks)\n",
    "ttest = ttest.sort_values(\"cohen_d\", ascending=False)"
   ]
  },
  {
   "cell_type": "markdown",
   "metadata": {},
   "source": [
    "Below are results of Mann-Whitney rank test with Common language effect size (clez) and Rank-biserial correlation (rb_corr)."
   ]
  },
  {
   "cell_type": "code",
   "execution_count": 29,
   "metadata": {
    "collapsed": false,
    "scrolled": true
   },
   "outputs": [
    {
     "data": {
      "text/html": [
       "<div>\n",
       "<table border=\"1\" class=\"dataframe\">\n",
       "  <thead>\n",
       "    <tr style=\"text-align: right;\">\n",
       "      <th></th>\n",
       "      <th>country_destination</th>\n",
       "      <th>smpl1_size</th>\n",
       "      <th>smpl2_size</th>\n",
       "      <th>stat</th>\n",
       "      <th>pval</th>\n",
       "      <th>clez</th>\n",
       "      <th>rb_corr</th>\n",
       "    </tr>\n",
       "  </thead>\n",
       "  <tbody>\n",
       "    <tr>\n",
       "      <th>1</th>\n",
       "      <td>NDF</td>\n",
       "      <td>12434.0</td>\n",
       "      <td>8912.0</td>\n",
       "      <td>34232426.5</td>\n",
       "      <td>0.0</td>\n",
       "      <td>0.448269</td>\n",
       "      <td>0.382152</td>\n",
       "    </tr>\n",
       "  </tbody>\n",
       "</table>\n",
       "</div>"
      ],
      "text/plain": [
       "  country_destination  smpl1_size  smpl2_size        stat  pval      clez  \\\n",
       "1                 NDF     12434.0      8912.0  34232426.5   0.0  0.448269   \n",
       "\n",
       "    rb_corr  \n",
       "1  0.382152  "
      ]
     },
     "execution_count": 29,
     "metadata": {},
     "output_type": "execute_result"
    }
   ],
   "source": [
    "mannwhit[mannwhit.country_destination == 'NDF']"
   ]
  },
  {
   "cell_type": "markdown",
   "metadata": {},
   "source": [
    "For NDF class we can reject Null hypothesis in favor of alternative, position of NDF class in ranked list of predictions is significantly higher (rank is significantly lower) in situation when booking was not made in comparison with situation when booking was made.\n",
    "\n",
    "Next we consider comparison of average ranks and test hypothesis if average ranks are equal. Below are results of t-test and Cohen`s D effect size (cohen_d)."
   ]
  },
  {
   "cell_type": "code",
   "execution_count": 30,
   "metadata": {
    "collapsed": false,
    "scrolled": true
   },
   "outputs": [
    {
     "data": {
      "text/html": [
       "<div>\n",
       "<table border=\"1\" class=\"dataframe\">\n",
       "  <thead>\n",
       "    <tr style=\"text-align: right;\">\n",
       "      <th></th>\n",
       "      <th>country_destination</th>\n",
       "      <th>smpl1_size</th>\n",
       "      <th>smpl2_size</th>\n",
       "      <th>avg_rank1</th>\n",
       "      <th>avg_rank2</th>\n",
       "      <th>stat</th>\n",
       "      <th>pval</th>\n",
       "      <th>cohen_d</th>\n",
       "    </tr>\n",
       "  </thead>\n",
       "  <tbody>\n",
       "    <tr>\n",
       "      <th>1</th>\n",
       "      <td>NDF</td>\n",
       "      <td>12434.0</td>\n",
       "      <td>8912.0</td>\n",
       "      <td>0.135918</td>\n",
       "      <td>0.547352</td>\n",
       "      <td>-65.302507</td>\n",
       "      <td>0.0</td>\n",
       "      <td>0.871369</td>\n",
       "    </tr>\n",
       "  </tbody>\n",
       "</table>\n",
       "</div>"
      ],
      "text/plain": [
       "  country_destination  smpl1_size  smpl2_size  avg_rank1  avg_rank2  \\\n",
       "1                 NDF     12434.0      8912.0   0.135918   0.547352   \n",
       "\n",
       "        stat  pval   cohen_d  \n",
       "1 -65.302507   0.0  0.871369  "
      ]
     },
     "execution_count": 30,
     "metadata": {},
     "output_type": "execute_result"
    }
   ],
   "source": [
    "ttest[ttest.country_destination == \"NDF\"]"
   ]
  },
  {
   "cell_type": "markdown",
   "metadata": {},
   "source": [
    "T-test shows significant difference between average ranks with large effect size."
   ]
  },
  {
   "cell_type": "markdown",
   "metadata": {},
   "source": [
    "Next we will consider different country destination and run Mann-Whitney rank tests as well as t-test for average ranks. Note that we perform multiple tests here. If we want to pick out classes which have significantly different ranks, than we have to perform some correction of significance level used for each individual model, for example, Bonferroni correction. "
   ]
  },
  {
   "cell_type": "markdown",
   "metadata": {},
   "source": [
    "Below are results of Mann-Whitney rank test and t-test for different destination classes. In the following two tables classes where significant decrease in ranks (or average ranks) was detected are highlighted with green, significance level was adjusted to the number of performed tests."
   ]
  },
  {
   "cell_type": "code",
   "execution_count": 31,
   "metadata": {
    "collapsed": false,
    "scrolled": false
   },
   "outputs": [
    {
     "data": {
      "text/html": [
       "\n",
       "        <style  type=\"text/css\" >\n",
       "        \n",
       "        \n",
       "            #T_02e5c421_fcce_11e6_a175_1040f37a57earow0_col0 {\n",
       "            \n",
       "                background-color:  #CCFFE5;\n",
       "            \n",
       "            }\n",
       "        \n",
       "            #T_02e5c421_fcce_11e6_a175_1040f37a57earow0_col1 {\n",
       "            \n",
       "                background-color:  #CCFFE5;\n",
       "            \n",
       "            }\n",
       "        \n",
       "            #T_02e5c421_fcce_11e6_a175_1040f37a57earow0_col2 {\n",
       "            \n",
       "                background-color:  #CCFFE5;\n",
       "            \n",
       "            }\n",
       "        \n",
       "            #T_02e5c421_fcce_11e6_a175_1040f37a57earow0_col3 {\n",
       "            \n",
       "                background-color:  #CCFFE5;\n",
       "            \n",
       "            }\n",
       "        \n",
       "            #T_02e5c421_fcce_11e6_a175_1040f37a57earow0_col4 {\n",
       "            \n",
       "                background-color:  #CCFFE5;\n",
       "            \n",
       "            }\n",
       "        \n",
       "            #T_02e5c421_fcce_11e6_a175_1040f37a57earow0_col5 {\n",
       "            \n",
       "                background-color:  #CCFFE5;\n",
       "            \n",
       "            }\n",
       "        \n",
       "            #T_02e5c421_fcce_11e6_a175_1040f37a57earow0_col6 {\n",
       "            \n",
       "                background-color:  #CCFFE5;\n",
       "            \n",
       "            }\n",
       "        \n",
       "            #T_02e5c421_fcce_11e6_a175_1040f37a57earow1_col0 {\n",
       "            \n",
       "                background-color:  #CCFFE5;\n",
       "            \n",
       "            }\n",
       "        \n",
       "            #T_02e5c421_fcce_11e6_a175_1040f37a57earow1_col1 {\n",
       "            \n",
       "                background-color:  #CCFFE5;\n",
       "            \n",
       "            }\n",
       "        \n",
       "            #T_02e5c421_fcce_11e6_a175_1040f37a57earow1_col2 {\n",
       "            \n",
       "                background-color:  #CCFFE5;\n",
       "            \n",
       "            }\n",
       "        \n",
       "            #T_02e5c421_fcce_11e6_a175_1040f37a57earow1_col3 {\n",
       "            \n",
       "                background-color:  #CCFFE5;\n",
       "            \n",
       "            }\n",
       "        \n",
       "            #T_02e5c421_fcce_11e6_a175_1040f37a57earow1_col4 {\n",
       "            \n",
       "                background-color:  #CCFFE5;\n",
       "            \n",
       "            }\n",
       "        \n",
       "            #T_02e5c421_fcce_11e6_a175_1040f37a57earow1_col5 {\n",
       "            \n",
       "                background-color:  #CCFFE5;\n",
       "            \n",
       "            }\n",
       "        \n",
       "            #T_02e5c421_fcce_11e6_a175_1040f37a57earow1_col6 {\n",
       "            \n",
       "                background-color:  #CCFFE5;\n",
       "            \n",
       "            }\n",
       "        \n",
       "            #T_02e5c421_fcce_11e6_a175_1040f37a57earow2_col0 {\n",
       "            \n",
       "                background-color:  #CCFFE5;\n",
       "            \n",
       "            }\n",
       "        \n",
       "            #T_02e5c421_fcce_11e6_a175_1040f37a57earow2_col1 {\n",
       "            \n",
       "                background-color:  #CCFFE5;\n",
       "            \n",
       "            }\n",
       "        \n",
       "            #T_02e5c421_fcce_11e6_a175_1040f37a57earow2_col2 {\n",
       "            \n",
       "                background-color:  #CCFFE5;\n",
       "            \n",
       "            }\n",
       "        \n",
       "            #T_02e5c421_fcce_11e6_a175_1040f37a57earow2_col3 {\n",
       "            \n",
       "                background-color:  #CCFFE5;\n",
       "            \n",
       "            }\n",
       "        \n",
       "            #T_02e5c421_fcce_11e6_a175_1040f37a57earow2_col4 {\n",
       "            \n",
       "                background-color:  #CCFFE5;\n",
       "            \n",
       "            }\n",
       "        \n",
       "            #T_02e5c421_fcce_11e6_a175_1040f37a57earow2_col5 {\n",
       "            \n",
       "                background-color:  #CCFFE5;\n",
       "            \n",
       "            }\n",
       "        \n",
       "            #T_02e5c421_fcce_11e6_a175_1040f37a57earow2_col6 {\n",
       "            \n",
       "                background-color:  #CCFFE5;\n",
       "            \n",
       "            }\n",
       "        \n",
       "            #T_02e5c421_fcce_11e6_a175_1040f37a57earow3_col0 {\n",
       "            \n",
       "                background-color:  #CCFFE5;\n",
       "            \n",
       "            }\n",
       "        \n",
       "            #T_02e5c421_fcce_11e6_a175_1040f37a57earow3_col1 {\n",
       "            \n",
       "                background-color:  #CCFFE5;\n",
       "            \n",
       "            }\n",
       "        \n",
       "            #T_02e5c421_fcce_11e6_a175_1040f37a57earow3_col2 {\n",
       "            \n",
       "                background-color:  #CCFFE5;\n",
       "            \n",
       "            }\n",
       "        \n",
       "            #T_02e5c421_fcce_11e6_a175_1040f37a57earow3_col3 {\n",
       "            \n",
       "                background-color:  #CCFFE5;\n",
       "            \n",
       "            }\n",
       "        \n",
       "            #T_02e5c421_fcce_11e6_a175_1040f37a57earow3_col4 {\n",
       "            \n",
       "                background-color:  #CCFFE5;\n",
       "            \n",
       "            }\n",
       "        \n",
       "            #T_02e5c421_fcce_11e6_a175_1040f37a57earow3_col5 {\n",
       "            \n",
       "                background-color:  #CCFFE5;\n",
       "            \n",
       "            }\n",
       "        \n",
       "            #T_02e5c421_fcce_11e6_a175_1040f37a57earow3_col6 {\n",
       "            \n",
       "                background-color:  #CCFFE5;\n",
       "            \n",
       "            }\n",
       "        \n",
       "            #T_02e5c421_fcce_11e6_a175_1040f37a57earow4_col0 {\n",
       "            \n",
       "                background-color:  #CCFFE5;\n",
       "            \n",
       "            }\n",
       "        \n",
       "            #T_02e5c421_fcce_11e6_a175_1040f37a57earow4_col1 {\n",
       "            \n",
       "                background-color:  #CCFFE5;\n",
       "            \n",
       "            }\n",
       "        \n",
       "            #T_02e5c421_fcce_11e6_a175_1040f37a57earow4_col2 {\n",
       "            \n",
       "                background-color:  #CCFFE5;\n",
       "            \n",
       "            }\n",
       "        \n",
       "            #T_02e5c421_fcce_11e6_a175_1040f37a57earow4_col3 {\n",
       "            \n",
       "                background-color:  #CCFFE5;\n",
       "            \n",
       "            }\n",
       "        \n",
       "            #T_02e5c421_fcce_11e6_a175_1040f37a57earow4_col4 {\n",
       "            \n",
       "                background-color:  #CCFFE5;\n",
       "            \n",
       "            }\n",
       "        \n",
       "            #T_02e5c421_fcce_11e6_a175_1040f37a57earow4_col5 {\n",
       "            \n",
       "                background-color:  #CCFFE5;\n",
       "            \n",
       "            }\n",
       "        \n",
       "            #T_02e5c421_fcce_11e6_a175_1040f37a57earow4_col6 {\n",
       "            \n",
       "                background-color:  #CCFFE5;\n",
       "            \n",
       "            }\n",
       "        \n",
       "            #T_02e5c421_fcce_11e6_a175_1040f37a57earow5_col0 {\n",
       "            \n",
       "                background-color:  #CCFFE5;\n",
       "            \n",
       "            }\n",
       "        \n",
       "            #T_02e5c421_fcce_11e6_a175_1040f37a57earow5_col1 {\n",
       "            \n",
       "                background-color:  #CCFFE5;\n",
       "            \n",
       "            }\n",
       "        \n",
       "            #T_02e5c421_fcce_11e6_a175_1040f37a57earow5_col2 {\n",
       "            \n",
       "                background-color:  #CCFFE5;\n",
       "            \n",
       "            }\n",
       "        \n",
       "            #T_02e5c421_fcce_11e6_a175_1040f37a57earow5_col3 {\n",
       "            \n",
       "                background-color:  #CCFFE5;\n",
       "            \n",
       "            }\n",
       "        \n",
       "            #T_02e5c421_fcce_11e6_a175_1040f37a57earow5_col4 {\n",
       "            \n",
       "                background-color:  #CCFFE5;\n",
       "            \n",
       "            }\n",
       "        \n",
       "            #T_02e5c421_fcce_11e6_a175_1040f37a57earow5_col5 {\n",
       "            \n",
       "                background-color:  #CCFFE5;\n",
       "            \n",
       "            }\n",
       "        \n",
       "            #T_02e5c421_fcce_11e6_a175_1040f37a57earow5_col6 {\n",
       "            \n",
       "                background-color:  #CCFFE5;\n",
       "            \n",
       "            }\n",
       "        \n",
       "            #T_02e5c421_fcce_11e6_a175_1040f37a57earow6_col0 {\n",
       "            \n",
       "                background-color:  #CCFFE5;\n",
       "            \n",
       "            }\n",
       "        \n",
       "            #T_02e5c421_fcce_11e6_a175_1040f37a57earow6_col1 {\n",
       "            \n",
       "                background-color:  #CCFFE5;\n",
       "            \n",
       "            }\n",
       "        \n",
       "            #T_02e5c421_fcce_11e6_a175_1040f37a57earow6_col2 {\n",
       "            \n",
       "                background-color:  #CCFFE5;\n",
       "            \n",
       "            }\n",
       "        \n",
       "            #T_02e5c421_fcce_11e6_a175_1040f37a57earow6_col3 {\n",
       "            \n",
       "                background-color:  #CCFFE5;\n",
       "            \n",
       "            }\n",
       "        \n",
       "            #T_02e5c421_fcce_11e6_a175_1040f37a57earow6_col4 {\n",
       "            \n",
       "                background-color:  #CCFFE5;\n",
       "            \n",
       "            }\n",
       "        \n",
       "            #T_02e5c421_fcce_11e6_a175_1040f37a57earow6_col5 {\n",
       "            \n",
       "                background-color:  #CCFFE5;\n",
       "            \n",
       "            }\n",
       "        \n",
       "            #T_02e5c421_fcce_11e6_a175_1040f37a57earow6_col6 {\n",
       "            \n",
       "                background-color:  #CCFFE5;\n",
       "            \n",
       "            }\n",
       "        \n",
       "        </style>\n",
       "\n",
       "        <table id=\"T_02e5c421_fcce_11e6_a175_1040f37a57ea\" None>\n",
       "        \n",
       "\n",
       "        <thead>\n",
       "            \n",
       "            <tr>\n",
       "                \n",
       "                \n",
       "                <th class=\"blank level0\" >\n",
       "                  \n",
       "                \n",
       "                \n",
       "                \n",
       "                <th class=\"col_heading level0 col0\" colspan=1>\n",
       "                  country_destination\n",
       "                \n",
       "                \n",
       "                \n",
       "                <th class=\"col_heading level0 col1\" colspan=1>\n",
       "                  smpl1_size\n",
       "                \n",
       "                \n",
       "                \n",
       "                <th class=\"col_heading level0 col2\" colspan=1>\n",
       "                  smpl2_size\n",
       "                \n",
       "                \n",
       "                \n",
       "                <th class=\"col_heading level0 col3\" colspan=1>\n",
       "                  stat\n",
       "                \n",
       "                \n",
       "                \n",
       "                <th class=\"col_heading level0 col4\" colspan=1>\n",
       "                  pval\n",
       "                \n",
       "                \n",
       "                \n",
       "                <th class=\"col_heading level0 col5\" colspan=1>\n",
       "                  clez\n",
       "                \n",
       "                \n",
       "                \n",
       "                <th class=\"col_heading level0 col6\" colspan=1>\n",
       "                  rb_corr\n",
       "                \n",
       "                \n",
       "            </tr>\n",
       "            \n",
       "        </thead>\n",
       "        <tbody>\n",
       "            \n",
       "            <tr>\n",
       "                \n",
       "                \n",
       "                <th id=\"T_02e5c421_fcce_11e6_a175_1040f37a57ea\"\n",
       "                 class=\"row_heading level0 row0\" rowspan=1>\n",
       "                    4\n",
       "                \n",
       "                \n",
       "                \n",
       "                <td id=\"T_02e5c421_fcce_11e6_a175_1040f37a57earow0_col0\"\n",
       "                 class=\"data row0 col0\" >\n",
       "                    NL\n",
       "                \n",
       "                \n",
       "                \n",
       "                <td id=\"T_02e5c421_fcce_11e6_a175_1040f37a57earow0_col1\"\n",
       "                 class=\"data row0 col1\" >\n",
       "                    83\n",
       "                \n",
       "                \n",
       "                \n",
       "                <td id=\"T_02e5c421_fcce_11e6_a175_1040f37a57earow0_col2\"\n",
       "                 class=\"data row0 col2\" >\n",
       "                    8829\n",
       "                \n",
       "                \n",
       "                \n",
       "                <td id=\"T_02e5c421_fcce_11e6_a175_1040f37a57earow0_col3\"\n",
       "                 class=\"data row0 col3\" >\n",
       "                    295073\n",
       "                \n",
       "                \n",
       "                \n",
       "                <td id=\"T_02e5c421_fcce_11e6_a175_1040f37a57earow0_col4\"\n",
       "                 class=\"data row0 col4\" >\n",
       "                    0.000278857\n",
       "                \n",
       "                \n",
       "                \n",
       "                <td id=\"T_02e5c421_fcce_11e6_a175_1040f37a57earow0_col5\"\n",
       "                 class=\"data row0 col5\" >\n",
       "                    0.406497\n",
       "                \n",
       "                \n",
       "                \n",
       "                <td id=\"T_02e5c421_fcce_11e6_a175_1040f37a57earow0_col6\"\n",
       "                 class=\"data row0 col6\" >\n",
       "                    0.194677\n",
       "                \n",
       "                \n",
       "            </tr>\n",
       "            \n",
       "            <tr>\n",
       "                \n",
       "                \n",
       "                <th id=\"T_02e5c421_fcce_11e6_a175_1040f37a57ea\"\n",
       "                 class=\"row_heading level0 row1\" rowspan=1>\n",
       "                    2\n",
       "                \n",
       "                \n",
       "                \n",
       "                <td id=\"T_02e5c421_fcce_11e6_a175_1040f37a57earow1_col0\"\n",
       "                 class=\"data row1 col0\" >\n",
       "                    FR\n",
       "                \n",
       "                \n",
       "                \n",
       "                <td id=\"T_02e5c421_fcce_11e6_a175_1040f37a57earow1_col1\"\n",
       "                 class=\"data row1 col1\" >\n",
       "                    510\n",
       "                \n",
       "                \n",
       "                \n",
       "                <td id=\"T_02e5c421_fcce_11e6_a175_1040f37a57earow1_col2\"\n",
       "                 class=\"data row1 col2\" >\n",
       "                    8402\n",
       "                \n",
       "                \n",
       "                \n",
       "                <td id=\"T_02e5c421_fcce_11e6_a175_1040f37a57earow1_col3\"\n",
       "                 class=\"data row1 col3\" >\n",
       "                    2.01867e+06\n",
       "                \n",
       "                \n",
       "                \n",
       "                <td id=\"T_02e5c421_fcce_11e6_a175_1040f37a57earow1_col4\"\n",
       "                 class=\"data row1 col4\" >\n",
       "                    0.000439711\n",
       "                \n",
       "                \n",
       "                \n",
       "                <td id=\"T_02e5c421_fcce_11e6_a175_1040f37a57earow1_col5\"\n",
       "                 class=\"data row1 col5\" >\n",
       "                    0.184449\n",
       "                \n",
       "                \n",
       "                \n",
       "                <td id=\"T_02e5c421_fcce_11e6_a175_1040f37a57earow1_col6\"\n",
       "                 class=\"data row1 col6\" >\n",
       "                    0.0578021\n",
       "                \n",
       "                \n",
       "            </tr>\n",
       "            \n",
       "            <tr>\n",
       "                \n",
       "                \n",
       "                <th id=\"T_02e5c421_fcce_11e6_a175_1040f37a57ea\"\n",
       "                 class=\"row_heading level0 row2\" rowspan=1>\n",
       "                    0\n",
       "                \n",
       "                \n",
       "                \n",
       "                <td id=\"T_02e5c421_fcce_11e6_a175_1040f37a57earow2_col0\"\n",
       "                 class=\"data row2 col0\" >\n",
       "                    ES\n",
       "                \n",
       "                \n",
       "                \n",
       "                <td id=\"T_02e5c421_fcce_11e6_a175_1040f37a57earow2_col1\"\n",
       "                 class=\"data row2 col1\" >\n",
       "                    235\n",
       "                \n",
       "                \n",
       "                \n",
       "                <td id=\"T_02e5c421_fcce_11e6_a175_1040f37a57earow2_col2\"\n",
       "                 class=\"data row2 col2\" >\n",
       "                    8677\n",
       "                \n",
       "                \n",
       "                \n",
       "                <td id=\"T_02e5c421_fcce_11e6_a175_1040f37a57earow2_col3\"\n",
       "                 class=\"data row2 col3\" >\n",
       "                    900894\n",
       "                \n",
       "                \n",
       "                \n",
       "                <td id=\"T_02e5c421_fcce_11e6_a175_1040f37a57earow2_col4\"\n",
       "                 class=\"data row2 col4\" >\n",
       "                    0.000738905\n",
       "                \n",
       "                \n",
       "                \n",
       "                <td id=\"T_02e5c421_fcce_11e6_a175_1040f37a57earow2_col5\"\n",
       "                 class=\"data row2 col5\" >\n",
       "                    0.433472\n",
       "                \n",
       "                \n",
       "                \n",
       "                <td id=\"T_02e5c421_fcce_11e6_a175_1040f37a57earow2_col6\"\n",
       "                 class=\"data row2 col6\" >\n",
       "                    0.116379\n",
       "                \n",
       "                \n",
       "            </tr>\n",
       "            \n",
       "            <tr>\n",
       "                \n",
       "                \n",
       "                <th id=\"T_02e5c421_fcce_11e6_a175_1040f37a57ea\"\n",
       "                 class=\"row_heading level0 row3\" rowspan=1>\n",
       "                    10\n",
       "                \n",
       "                \n",
       "                \n",
       "                <td id=\"T_02e5c421_fcce_11e6_a175_1040f37a57earow3_col0\"\n",
       "                 class=\"data row3 col0\" >\n",
       "                    AU\n",
       "                \n",
       "                \n",
       "                \n",
       "                <td id=\"T_02e5c421_fcce_11e6_a175_1040f37a57earow3_col1\"\n",
       "                 class=\"data row3 col1\" >\n",
       "                    49\n",
       "                \n",
       "                \n",
       "                \n",
       "                <td id=\"T_02e5c421_fcce_11e6_a175_1040f37a57earow3_col2\"\n",
       "                 class=\"data row3 col2\" >\n",
       "                    8863\n",
       "                \n",
       "                \n",
       "                \n",
       "                <td id=\"T_02e5c421_fcce_11e6_a175_1040f37a57earow3_col3\"\n",
       "                 class=\"data row3 col3\" >\n",
       "                    172153\n",
       "                \n",
       "                \n",
       "                \n",
       "                <td id=\"T_02e5c421_fcce_11e6_a175_1040f37a57earow3_col4\"\n",
       "                 class=\"data row3 col4\" >\n",
       "                    0.00104444\n",
       "                \n",
       "                \n",
       "                \n",
       "                <td id=\"T_02e5c421_fcce_11e6_a175_1040f37a57earow3_col5\"\n",
       "                 class=\"data row3 col5\" >\n",
       "                    0.392733\n",
       "                \n",
       "                \n",
       "                \n",
       "                <td id=\"T_02e5c421_fcce_11e6_a175_1040f37a57earow3_col6\"\n",
       "                 class=\"data row3 col6\" >\n",
       "                    0.207192\n",
       "                \n",
       "                \n",
       "            </tr>\n",
       "            \n",
       "            <tr>\n",
       "                \n",
       "                \n",
       "                <th id=\"T_02e5c421_fcce_11e6_a175_1040f37a57ea\"\n",
       "                 class=\"row_heading level0 row4\" rowspan=1>\n",
       "                    6\n",
       "                \n",
       "                \n",
       "                \n",
       "                <td id=\"T_02e5c421_fcce_11e6_a175_1040f37a57earow4_col0\"\n",
       "                 class=\"data row4 col0\" >\n",
       "                    IT\n",
       "                \n",
       "                \n",
       "                \n",
       "                <td id=\"T_02e5c421_fcce_11e6_a175_1040f37a57earow4_col1\"\n",
       "                 class=\"data row4 col1\" >\n",
       "                    269\n",
       "                \n",
       "                \n",
       "                \n",
       "                <td id=\"T_02e5c421_fcce_11e6_a175_1040f37a57earow4_col2\"\n",
       "                 class=\"data row4 col2\" >\n",
       "                    8643\n",
       "                \n",
       "                \n",
       "                \n",
       "                <td id=\"T_02e5c421_fcce_11e6_a175_1040f37a57earow4_col3\"\n",
       "                 class=\"data row4 col3\" >\n",
       "                    1.0553e+06\n",
       "                \n",
       "                \n",
       "                \n",
       "                <td id=\"T_02e5c421_fcce_11e6_a175_1040f37a57earow4_col4\"\n",
       "                 class=\"data row4 col4\" >\n",
       "                    0.00250829\n",
       "                \n",
       "                \n",
       "                \n",
       "                <td id=\"T_02e5c421_fcce_11e6_a175_1040f37a57earow4_col5\"\n",
       "                 class=\"data row4 col5\" >\n",
       "                    0.364863\n",
       "                \n",
       "                \n",
       "                \n",
       "                <td id=\"T_02e5c421_fcce_11e6_a175_1040f37a57earow4_col6\"\n",
       "                 class=\"data row4 col6\" >\n",
       "                    0.0922039\n",
       "                \n",
       "                \n",
       "            </tr>\n",
       "            \n",
       "            <tr>\n",
       "                \n",
       "                \n",
       "                <th id=\"T_02e5c421_fcce_11e6_a175_1040f37a57ea\"\n",
       "                 class=\"row_heading level0 row5\" rowspan=1>\n",
       "                    5\n",
       "                \n",
       "                \n",
       "                \n",
       "                <td id=\"T_02e5c421_fcce_11e6_a175_1040f37a57earow5_col0\"\n",
       "                 class=\"data row5 col0\" >\n",
       "                    other\n",
       "                \n",
       "                \n",
       "                \n",
       "                <td id=\"T_02e5c421_fcce_11e6_a175_1040f37a57earow5_col1\"\n",
       "                 class=\"data row5 col1\" >\n",
       "                    1027\n",
       "                \n",
       "                \n",
       "                \n",
       "                <td id=\"T_02e5c421_fcce_11e6_a175_1040f37a57earow5_col2\"\n",
       "                 class=\"data row5 col2\" >\n",
       "                    7885\n",
       "                \n",
       "                \n",
       "                \n",
       "                <td id=\"T_02e5c421_fcce_11e6_a175_1040f37a57earow5_col3\"\n",
       "                 class=\"data row5 col3\" >\n",
       "                    3.94573e+06\n",
       "                \n",
       "                \n",
       "                \n",
       "                <td id=\"T_02e5c421_fcce_11e6_a175_1040f37a57earow5_col4\"\n",
       "                 class=\"data row5 col4\" >\n",
       "                    0.00385755\n",
       "                \n",
       "                \n",
       "                \n",
       "                <td id=\"T_02e5c421_fcce_11e6_a175_1040f37a57earow5_col5\"\n",
       "                 class=\"data row5 col5\" >\n",
       "                    0.0932544\n",
       "                \n",
       "                \n",
       "                \n",
       "                <td id=\"T_02e5c421_fcce_11e6_a175_1040f37a57earow5_col6\"\n",
       "                 class=\"data row5 col6\" >\n",
       "                    0.0254921\n",
       "                \n",
       "                \n",
       "            </tr>\n",
       "            \n",
       "            <tr>\n",
       "                \n",
       "                \n",
       "                <th id=\"T_02e5c421_fcce_11e6_a175_1040f37a57ea\"\n",
       "                 class=\"row_heading level0 row6\" rowspan=1>\n",
       "                    11\n",
       "                \n",
       "                \n",
       "                \n",
       "                <td id=\"T_02e5c421_fcce_11e6_a175_1040f37a57earow6_col0\"\n",
       "                 class=\"data row6 col0\" >\n",
       "                    PT\n",
       "                \n",
       "                \n",
       "                \n",
       "                <td id=\"T_02e5c421_fcce_11e6_a175_1040f37a57earow6_col1\"\n",
       "                 class=\"data row6 col1\" >\n",
       "                    20\n",
       "                \n",
       "                \n",
       "                \n",
       "                <td id=\"T_02e5c421_fcce_11e6_a175_1040f37a57earow6_col2\"\n",
       "                 class=\"data row6 col2\" >\n",
       "                    8892\n",
       "                \n",
       "                \n",
       "                \n",
       "                <td id=\"T_02e5c421_fcce_11e6_a175_1040f37a57earow6_col3\"\n",
       "                 class=\"data row6 col3\" >\n",
       "                    80305\n",
       "                \n",
       "                \n",
       "                \n",
       "                <td id=\"T_02e5c421_fcce_11e6_a175_1040f37a57earow6_col4\"\n",
       "                 class=\"data row6 col4\" >\n",
       "                    0.0310333\n",
       "                \n",
       "                \n",
       "                \n",
       "                <td id=\"T_02e5c421_fcce_11e6_a175_1040f37a57earow6_col5\"\n",
       "                 class=\"data row6 col5\" >\n",
       "                    0.146531\n",
       "                \n",
       "                \n",
       "                \n",
       "                <td id=\"T_02e5c421_fcce_11e6_a175_1040f37a57earow6_col6\"\n",
       "                 class=\"data row6 col6\" >\n",
       "                    0.0968848\n",
       "                \n",
       "                \n",
       "            </tr>\n",
       "            \n",
       "            <tr>\n",
       "                \n",
       "                \n",
       "                <th id=\"T_02e5c421_fcce_11e6_a175_1040f37a57ea\"\n",
       "                 class=\"row_heading level0 row7\" rowspan=1>\n",
       "                    3\n",
       "                \n",
       "                \n",
       "                \n",
       "                <td id=\"T_02e5c421_fcce_11e6_a175_1040f37a57earow7_col0\"\n",
       "                 class=\"data row7 col0\" >\n",
       "                    US\n",
       "                \n",
       "                \n",
       "                \n",
       "                <td id=\"T_02e5c421_fcce_11e6_a175_1040f37a57earow7_col1\"\n",
       "                 class=\"data row7 col1\" >\n",
       "                    6236\n",
       "                \n",
       "                \n",
       "                \n",
       "                <td id=\"T_02e5c421_fcce_11e6_a175_1040f37a57earow7_col2\"\n",
       "                 class=\"data row7 col2\" >\n",
       "                    2676\n",
       "                \n",
       "                \n",
       "                \n",
       "                <td id=\"T_02e5c421_fcce_11e6_a175_1040f37a57earow7_col3\"\n",
       "                 class=\"data row7 col3\" >\n",
       "                    8.21031e+06\n",
       "                \n",
       "                \n",
       "                \n",
       "                <td id=\"T_02e5c421_fcce_11e6_a175_1040f37a57earow7_col4\"\n",
       "                 class=\"data row7 col4\" >\n",
       "                    0.0832293\n",
       "                \n",
       "                \n",
       "                \n",
       "                <td id=\"T_02e5c421_fcce_11e6_a175_1040f37a57earow7_col5\"\n",
       "                 class=\"data row7 col5\" >\n",
       "                    0.259017\n",
       "                \n",
       "                \n",
       "                \n",
       "                <td id=\"T_02e5c421_fcce_11e6_a175_1040f37a57earow7_col6\"\n",
       "                 class=\"data row7 col6\" >\n",
       "                    0.0159946\n",
       "                \n",
       "                \n",
       "            </tr>\n",
       "            \n",
       "            <tr>\n",
       "                \n",
       "                \n",
       "                <th id=\"T_02e5c421_fcce_11e6_a175_1040f37a57ea\"\n",
       "                 class=\"row_heading level0 row8\" rowspan=1>\n",
       "                    8\n",
       "                \n",
       "                \n",
       "                \n",
       "                <td id=\"T_02e5c421_fcce_11e6_a175_1040f37a57earow8_col0\"\n",
       "                 class=\"data row8 col0\" >\n",
       "                    DE\n",
       "                \n",
       "                \n",
       "                \n",
       "                <td id=\"T_02e5c421_fcce_11e6_a175_1040f37a57earow8_col1\"\n",
       "                 class=\"data row8 col1\" >\n",
       "                    109\n",
       "                \n",
       "                \n",
       "                \n",
       "                <td id=\"T_02e5c421_fcce_11e6_a175_1040f37a57earow8_col2\"\n",
       "                 class=\"data row8 col2\" >\n",
       "                    8803\n",
       "                \n",
       "                \n",
       "                \n",
       "                <td id=\"T_02e5c421_fcce_11e6_a175_1040f37a57earow8_col3\"\n",
       "                 class=\"data row8 col3\" >\n",
       "                    449278\n",
       "                \n",
       "                \n",
       "                \n",
       "                <td id=\"T_02e5c421_fcce_11e6_a175_1040f37a57earow8_col4\"\n",
       "                 class=\"data row8 col4\" >\n",
       "                    0.110653\n",
       "                \n",
       "                \n",
       "                \n",
       "                <td id=\"T_02e5c421_fcce_11e6_a175_1040f37a57earow8_col5\"\n",
       "                 class=\"data row8 col5\" >\n",
       "                    0.364559\n",
       "                \n",
       "                \n",
       "                \n",
       "                <td id=\"T_02e5c421_fcce_11e6_a175_1040f37a57earow8_col6\"\n",
       "                 class=\"data row8 col6\" >\n",
       "                    0.0635417\n",
       "                \n",
       "                \n",
       "            </tr>\n",
       "            \n",
       "            <tr>\n",
       "                \n",
       "                \n",
       "                <th id=\"T_02e5c421_fcce_11e6_a175_1040f37a57ea\"\n",
       "                 class=\"row_heading level0 row9\" rowspan=1>\n",
       "                    9\n",
       "                \n",
       "                \n",
       "                \n",
       "                <td id=\"T_02e5c421_fcce_11e6_a175_1040f37a57earow9_col0\"\n",
       "                 class=\"data row9 col0\" >\n",
       "                    CA\n",
       "                \n",
       "                \n",
       "                \n",
       "                <td id=\"T_02e5c421_fcce_11e6_a175_1040f37a57earow9_col1\"\n",
       "                 class=\"data row9 col1\" >\n",
       "                    127\n",
       "                \n",
       "                \n",
       "                \n",
       "                <td id=\"T_02e5c421_fcce_11e6_a175_1040f37a57earow9_col2\"\n",
       "                 class=\"data row9 col2\" >\n",
       "                    8785\n",
       "                \n",
       "                \n",
       "                \n",
       "                <td id=\"T_02e5c421_fcce_11e6_a175_1040f37a57earow9_col3\"\n",
       "                 class=\"data row9 col3\" >\n",
       "                    526848\n",
       "                \n",
       "                \n",
       "                \n",
       "                <td id=\"T_02e5c421_fcce_11e6_a175_1040f37a57earow9_col4\"\n",
       "                 class=\"data row9 col4\" >\n",
       "                    0.120885\n",
       "                \n",
       "                \n",
       "                \n",
       "                <td id=\"T_02e5c421_fcce_11e6_a175_1040f37a57earow9_col5\"\n",
       "                 class=\"data row9 col5\" >\n",
       "                    0.35632\n",
       "                \n",
       "                \n",
       "                \n",
       "                <td id=\"T_02e5c421_fcce_11e6_a175_1040f37a57earow9_col6\"\n",
       "                 class=\"data row9 col6\" >\n",
       "                    0.0555698\n",
       "                \n",
       "                \n",
       "            </tr>\n",
       "            \n",
       "            <tr>\n",
       "                \n",
       "                \n",
       "                <th id=\"T_02e5c421_fcce_11e6_a175_1040f37a57ea\"\n",
       "                 class=\"row_heading level0 row10\" rowspan=1>\n",
       "                    7\n",
       "                \n",
       "                \n",
       "                \n",
       "                <td id=\"T_02e5c421_fcce_11e6_a175_1040f37a57earow10_col0\"\n",
       "                 class=\"data row10 col0\" >\n",
       "                    GB\n",
       "                \n",
       "                \n",
       "                \n",
       "                <td id=\"T_02e5c421_fcce_11e6_a175_1040f37a57earow10_col1\"\n",
       "                 class=\"data row10 col1\" >\n",
       "                    247\n",
       "                \n",
       "                \n",
       "                \n",
       "                <td id=\"T_02e5c421_fcce_11e6_a175_1040f37a57earow10_col2\"\n",
       "                 class=\"data row10 col2\" >\n",
       "                    8665\n",
       "                \n",
       "                \n",
       "                \n",
       "                <td id=\"T_02e5c421_fcce_11e6_a175_1040f37a57earow10_col3\"\n",
       "                 class=\"data row10 col3\" >\n",
       "                    1.06461e+06\n",
       "                \n",
       "                \n",
       "                \n",
       "                <td id=\"T_02e5c421_fcce_11e6_a175_1040f37a57earow10_col4\"\n",
       "                 class=\"data row10 col4\" >\n",
       "                    0.442017\n",
       "                \n",
       "                \n",
       "                \n",
       "                <td id=\"T_02e5c421_fcce_11e6_a175_1040f37a57earow10_col5\"\n",
       "                 class=\"data row10 col5\" >\n",
       "                    0.352262\n",
       "                \n",
       "                \n",
       "                \n",
       "                <td id=\"T_02e5c421_fcce_11e6_a175_1040f37a57earow10_col6\"\n",
       "                 class=\"data row10 col6\" >\n",
       "                    0.00516013\n",
       "                \n",
       "                \n",
       "            </tr>\n",
       "            \n",
       "        </tbody>\n",
       "        </table>\n",
       "        "
      ],
      "text/plain": [
       "<pandas.formats.style.Styler at 0x11a81ff10>"
      ]
     },
     "execution_count": 31,
     "metadata": {},
     "output_type": "execute_result"
    }
   ],
   "source": [
    "def highlight_rows(s):\n",
    "    return ['background-color: #CCFFE5' if i in np.where(mannwhit.pval<0.05/11)[0] else '' for i in range(len(s))]\n",
    "mannwhit[mannwhit.country_destination != 'NDF'].style.apply(highlight_rows)"
   ]
  },
  {
   "cell_type": "markdown",
   "metadata": {},
   "source": [
    "Table above shows results of Mann-Whitney rank test along with Common language effect size (clez) and Rank-biserial correlation (rb_corr). For 7 classes significant decrease was detected, but effect sizes are rather small. It is interesting to note that for 'US' class, which is a dominant class among all destination classes, no significant decrease in ranks was detected."
   ]
  },
  {
   "cell_type": "code",
   "execution_count": 32,
   "metadata": {
    "collapsed": false
   },
   "outputs": [
    {
     "data": {
      "text/html": [
       "\n",
       "        <style  type=\"text/css\" >\n",
       "        \n",
       "        \n",
       "            #T_02f976c0_fcce_11e6_9409_1040f37a57earow0_col0 {\n",
       "            \n",
       "                background-color:  #CCFFE5;\n",
       "            \n",
       "            }\n",
       "        \n",
       "            #T_02f976c0_fcce_11e6_9409_1040f37a57earow0_col1 {\n",
       "            \n",
       "                background-color:  #CCFFE5;\n",
       "            \n",
       "            }\n",
       "        \n",
       "            #T_02f976c0_fcce_11e6_9409_1040f37a57earow0_col2 {\n",
       "            \n",
       "                background-color:  #CCFFE5;\n",
       "            \n",
       "            }\n",
       "        \n",
       "            #T_02f976c0_fcce_11e6_9409_1040f37a57earow0_col3 {\n",
       "            \n",
       "                background-color:  #CCFFE5;\n",
       "            \n",
       "            }\n",
       "        \n",
       "            #T_02f976c0_fcce_11e6_9409_1040f37a57earow0_col4 {\n",
       "            \n",
       "                background-color:  #CCFFE5;\n",
       "            \n",
       "            }\n",
       "        \n",
       "            #T_02f976c0_fcce_11e6_9409_1040f37a57earow0_col5 {\n",
       "            \n",
       "                background-color:  #CCFFE5;\n",
       "            \n",
       "            }\n",
       "        \n",
       "            #T_02f976c0_fcce_11e6_9409_1040f37a57earow0_col6 {\n",
       "            \n",
       "                background-color:  #CCFFE5;\n",
       "            \n",
       "            }\n",
       "        \n",
       "            #T_02f976c0_fcce_11e6_9409_1040f37a57earow0_col7 {\n",
       "            \n",
       "                background-color:  #CCFFE5;\n",
       "            \n",
       "            }\n",
       "        \n",
       "            #T_02f976c0_fcce_11e6_9409_1040f37a57earow1_col0 {\n",
       "            \n",
       "                background-color:  #CCFFE5;\n",
       "            \n",
       "            }\n",
       "        \n",
       "            #T_02f976c0_fcce_11e6_9409_1040f37a57earow1_col1 {\n",
       "            \n",
       "                background-color:  #CCFFE5;\n",
       "            \n",
       "            }\n",
       "        \n",
       "            #T_02f976c0_fcce_11e6_9409_1040f37a57earow1_col2 {\n",
       "            \n",
       "                background-color:  #CCFFE5;\n",
       "            \n",
       "            }\n",
       "        \n",
       "            #T_02f976c0_fcce_11e6_9409_1040f37a57earow1_col3 {\n",
       "            \n",
       "                background-color:  #CCFFE5;\n",
       "            \n",
       "            }\n",
       "        \n",
       "            #T_02f976c0_fcce_11e6_9409_1040f37a57earow1_col4 {\n",
       "            \n",
       "                background-color:  #CCFFE5;\n",
       "            \n",
       "            }\n",
       "        \n",
       "            #T_02f976c0_fcce_11e6_9409_1040f37a57earow1_col5 {\n",
       "            \n",
       "                background-color:  #CCFFE5;\n",
       "            \n",
       "            }\n",
       "        \n",
       "            #T_02f976c0_fcce_11e6_9409_1040f37a57earow1_col6 {\n",
       "            \n",
       "                background-color:  #CCFFE5;\n",
       "            \n",
       "            }\n",
       "        \n",
       "            #T_02f976c0_fcce_11e6_9409_1040f37a57earow1_col7 {\n",
       "            \n",
       "                background-color:  #CCFFE5;\n",
       "            \n",
       "            }\n",
       "        \n",
       "            #T_02f976c0_fcce_11e6_9409_1040f37a57earow2_col0 {\n",
       "            \n",
       "                background-color:  #CCFFE5;\n",
       "            \n",
       "            }\n",
       "        \n",
       "            #T_02f976c0_fcce_11e6_9409_1040f37a57earow2_col1 {\n",
       "            \n",
       "                background-color:  #CCFFE5;\n",
       "            \n",
       "            }\n",
       "        \n",
       "            #T_02f976c0_fcce_11e6_9409_1040f37a57earow2_col2 {\n",
       "            \n",
       "                background-color:  #CCFFE5;\n",
       "            \n",
       "            }\n",
       "        \n",
       "            #T_02f976c0_fcce_11e6_9409_1040f37a57earow2_col3 {\n",
       "            \n",
       "                background-color:  #CCFFE5;\n",
       "            \n",
       "            }\n",
       "        \n",
       "            #T_02f976c0_fcce_11e6_9409_1040f37a57earow2_col4 {\n",
       "            \n",
       "                background-color:  #CCFFE5;\n",
       "            \n",
       "            }\n",
       "        \n",
       "            #T_02f976c0_fcce_11e6_9409_1040f37a57earow2_col5 {\n",
       "            \n",
       "                background-color:  #CCFFE5;\n",
       "            \n",
       "            }\n",
       "        \n",
       "            #T_02f976c0_fcce_11e6_9409_1040f37a57earow2_col6 {\n",
       "            \n",
       "                background-color:  #CCFFE5;\n",
       "            \n",
       "            }\n",
       "        \n",
       "            #T_02f976c0_fcce_11e6_9409_1040f37a57earow2_col7 {\n",
       "            \n",
       "                background-color:  #CCFFE5;\n",
       "            \n",
       "            }\n",
       "        \n",
       "            #T_02f976c0_fcce_11e6_9409_1040f37a57earow3_col0 {\n",
       "            \n",
       "                background-color:  #CCFFE5;\n",
       "            \n",
       "            }\n",
       "        \n",
       "            #T_02f976c0_fcce_11e6_9409_1040f37a57earow3_col1 {\n",
       "            \n",
       "                background-color:  #CCFFE5;\n",
       "            \n",
       "            }\n",
       "        \n",
       "            #T_02f976c0_fcce_11e6_9409_1040f37a57earow3_col2 {\n",
       "            \n",
       "                background-color:  #CCFFE5;\n",
       "            \n",
       "            }\n",
       "        \n",
       "            #T_02f976c0_fcce_11e6_9409_1040f37a57earow3_col3 {\n",
       "            \n",
       "                background-color:  #CCFFE5;\n",
       "            \n",
       "            }\n",
       "        \n",
       "            #T_02f976c0_fcce_11e6_9409_1040f37a57earow3_col4 {\n",
       "            \n",
       "                background-color:  #CCFFE5;\n",
       "            \n",
       "            }\n",
       "        \n",
       "            #T_02f976c0_fcce_11e6_9409_1040f37a57earow3_col5 {\n",
       "            \n",
       "                background-color:  #CCFFE5;\n",
       "            \n",
       "            }\n",
       "        \n",
       "            #T_02f976c0_fcce_11e6_9409_1040f37a57earow3_col6 {\n",
       "            \n",
       "                background-color:  #CCFFE5;\n",
       "            \n",
       "            }\n",
       "        \n",
       "            #T_02f976c0_fcce_11e6_9409_1040f37a57earow3_col7 {\n",
       "            \n",
       "                background-color:  #CCFFE5;\n",
       "            \n",
       "            }\n",
       "        \n",
       "            #T_02f976c0_fcce_11e6_9409_1040f37a57earow4_col0 {\n",
       "            \n",
       "                background-color:  #CCFFE5;\n",
       "            \n",
       "            }\n",
       "        \n",
       "            #T_02f976c0_fcce_11e6_9409_1040f37a57earow4_col1 {\n",
       "            \n",
       "                background-color:  #CCFFE5;\n",
       "            \n",
       "            }\n",
       "        \n",
       "            #T_02f976c0_fcce_11e6_9409_1040f37a57earow4_col2 {\n",
       "            \n",
       "                background-color:  #CCFFE5;\n",
       "            \n",
       "            }\n",
       "        \n",
       "            #T_02f976c0_fcce_11e6_9409_1040f37a57earow4_col3 {\n",
       "            \n",
       "                background-color:  #CCFFE5;\n",
       "            \n",
       "            }\n",
       "        \n",
       "            #T_02f976c0_fcce_11e6_9409_1040f37a57earow4_col4 {\n",
       "            \n",
       "                background-color:  #CCFFE5;\n",
       "            \n",
       "            }\n",
       "        \n",
       "            #T_02f976c0_fcce_11e6_9409_1040f37a57earow4_col5 {\n",
       "            \n",
       "                background-color:  #CCFFE5;\n",
       "            \n",
       "            }\n",
       "        \n",
       "            #T_02f976c0_fcce_11e6_9409_1040f37a57earow4_col6 {\n",
       "            \n",
       "                background-color:  #CCFFE5;\n",
       "            \n",
       "            }\n",
       "        \n",
       "            #T_02f976c0_fcce_11e6_9409_1040f37a57earow4_col7 {\n",
       "            \n",
       "                background-color:  #CCFFE5;\n",
       "            \n",
       "            }\n",
       "        \n",
       "            #T_02f976c0_fcce_11e6_9409_1040f37a57earow5_col0 {\n",
       "            \n",
       "                background-color:  #CCFFE5;\n",
       "            \n",
       "            }\n",
       "        \n",
       "            #T_02f976c0_fcce_11e6_9409_1040f37a57earow5_col1 {\n",
       "            \n",
       "                background-color:  #CCFFE5;\n",
       "            \n",
       "            }\n",
       "        \n",
       "            #T_02f976c0_fcce_11e6_9409_1040f37a57earow5_col2 {\n",
       "            \n",
       "                background-color:  #CCFFE5;\n",
       "            \n",
       "            }\n",
       "        \n",
       "            #T_02f976c0_fcce_11e6_9409_1040f37a57earow5_col3 {\n",
       "            \n",
       "                background-color:  #CCFFE5;\n",
       "            \n",
       "            }\n",
       "        \n",
       "            #T_02f976c0_fcce_11e6_9409_1040f37a57earow5_col4 {\n",
       "            \n",
       "                background-color:  #CCFFE5;\n",
       "            \n",
       "            }\n",
       "        \n",
       "            #T_02f976c0_fcce_11e6_9409_1040f37a57earow5_col5 {\n",
       "            \n",
       "                background-color:  #CCFFE5;\n",
       "            \n",
       "            }\n",
       "        \n",
       "            #T_02f976c0_fcce_11e6_9409_1040f37a57earow5_col6 {\n",
       "            \n",
       "                background-color:  #CCFFE5;\n",
       "            \n",
       "            }\n",
       "        \n",
       "            #T_02f976c0_fcce_11e6_9409_1040f37a57earow5_col7 {\n",
       "            \n",
       "                background-color:  #CCFFE5;\n",
       "            \n",
       "            }\n",
       "        \n",
       "            #T_02f976c0_fcce_11e6_9409_1040f37a57earow6_col0 {\n",
       "            \n",
       "                background-color:  #CCFFE5;\n",
       "            \n",
       "            }\n",
       "        \n",
       "            #T_02f976c0_fcce_11e6_9409_1040f37a57earow6_col1 {\n",
       "            \n",
       "                background-color:  #CCFFE5;\n",
       "            \n",
       "            }\n",
       "        \n",
       "            #T_02f976c0_fcce_11e6_9409_1040f37a57earow6_col2 {\n",
       "            \n",
       "                background-color:  #CCFFE5;\n",
       "            \n",
       "            }\n",
       "        \n",
       "            #T_02f976c0_fcce_11e6_9409_1040f37a57earow6_col3 {\n",
       "            \n",
       "                background-color:  #CCFFE5;\n",
       "            \n",
       "            }\n",
       "        \n",
       "            #T_02f976c0_fcce_11e6_9409_1040f37a57earow6_col4 {\n",
       "            \n",
       "                background-color:  #CCFFE5;\n",
       "            \n",
       "            }\n",
       "        \n",
       "            #T_02f976c0_fcce_11e6_9409_1040f37a57earow6_col5 {\n",
       "            \n",
       "                background-color:  #CCFFE5;\n",
       "            \n",
       "            }\n",
       "        \n",
       "            #T_02f976c0_fcce_11e6_9409_1040f37a57earow6_col6 {\n",
       "            \n",
       "                background-color:  #CCFFE5;\n",
       "            \n",
       "            }\n",
       "        \n",
       "            #T_02f976c0_fcce_11e6_9409_1040f37a57earow6_col7 {\n",
       "            \n",
       "                background-color:  #CCFFE5;\n",
       "            \n",
       "            }\n",
       "        \n",
       "        </style>\n",
       "\n",
       "        <table id=\"T_02f976c0_fcce_11e6_9409_1040f37a57ea\" None>\n",
       "        \n",
       "\n",
       "        <thead>\n",
       "            \n",
       "            <tr>\n",
       "                \n",
       "                \n",
       "                <th class=\"blank level0\" >\n",
       "                  \n",
       "                \n",
       "                \n",
       "                \n",
       "                <th class=\"col_heading level0 col0\" colspan=1>\n",
       "                  country_destination\n",
       "                \n",
       "                \n",
       "                \n",
       "                <th class=\"col_heading level0 col1\" colspan=1>\n",
       "                  smpl1_size\n",
       "                \n",
       "                \n",
       "                \n",
       "                <th class=\"col_heading level0 col2\" colspan=1>\n",
       "                  smpl2_size\n",
       "                \n",
       "                \n",
       "                \n",
       "                <th class=\"col_heading level0 col3\" colspan=1>\n",
       "                  avg_rank1\n",
       "                \n",
       "                \n",
       "                \n",
       "                <th class=\"col_heading level0 col4\" colspan=1>\n",
       "                  avg_rank2\n",
       "                \n",
       "                \n",
       "                \n",
       "                <th class=\"col_heading level0 col5\" colspan=1>\n",
       "                  stat\n",
       "                \n",
       "                \n",
       "                \n",
       "                <th class=\"col_heading level0 col6\" colspan=1>\n",
       "                  pval\n",
       "                \n",
       "                \n",
       "                \n",
       "                <th class=\"col_heading level0 col7\" colspan=1>\n",
       "                  cohen_d\n",
       "                \n",
       "                \n",
       "            </tr>\n",
       "            \n",
       "        </thead>\n",
       "        <tbody>\n",
       "            \n",
       "            <tr>\n",
       "                \n",
       "                \n",
       "                <th id=\"T_02f976c0_fcce_11e6_9409_1040f37a57ea\"\n",
       "                 class=\"row_heading level0 row0\" rowspan=1>\n",
       "                    10\n",
       "                \n",
       "                \n",
       "                \n",
       "                <td id=\"T_02f976c0_fcce_11e6_9409_1040f37a57earow0_col0\"\n",
       "                 class=\"data row0 col0\" >\n",
       "                    AU\n",
       "                \n",
       "                \n",
       "                \n",
       "                <td id=\"T_02f976c0_fcce_11e6_9409_1040f37a57earow0_col1\"\n",
       "                 class=\"data row0 col1\" >\n",
       "                    49\n",
       "                \n",
       "                \n",
       "                \n",
       "                <td id=\"T_02f976c0_fcce_11e6_9409_1040f37a57earow0_col2\"\n",
       "                 class=\"data row0 col2\" >\n",
       "                    8863\n",
       "                \n",
       "                \n",
       "                \n",
       "                <td id=\"T_02f976c0_fcce_11e6_9409_1040f37a57earow0_col3\"\n",
       "                 class=\"data row0 col3\" >\n",
       "                    9.10204\n",
       "                \n",
       "                \n",
       "                \n",
       "                <td id=\"T_02f976c0_fcce_11e6_9409_1040f37a57earow0_col4\"\n",
       "                 class=\"data row0 col4\" >\n",
       "                    9.62812\n",
       "                \n",
       "                \n",
       "                \n",
       "                <td id=\"T_02f976c0_fcce_11e6_9409_1040f37a57earow0_col5\"\n",
       "                 class=\"data row0 col5\" >\n",
       "                    -4.13533\n",
       "                \n",
       "                \n",
       "                \n",
       "                <td id=\"T_02f976c0_fcce_11e6_9409_1040f37a57earow0_col6\"\n",
       "                 class=\"data row0 col6\" >\n",
       "                    3.57692e-05\n",
       "                \n",
       "                \n",
       "                \n",
       "                <td id=\"T_02f976c0_fcce_11e6_9409_1040f37a57earow0_col7\"\n",
       "                 class=\"data row0 col7\" >\n",
       "                    0.441966\n",
       "                \n",
       "                \n",
       "            </tr>\n",
       "            \n",
       "            <tr>\n",
       "                \n",
       "                \n",
       "                <th id=\"T_02f976c0_fcce_11e6_9409_1040f37a57ea\"\n",
       "                 class=\"row_heading level0 row1\" rowspan=1>\n",
       "                    11\n",
       "                \n",
       "                \n",
       "                \n",
       "                <td id=\"T_02f976c0_fcce_11e6_9409_1040f37a57earow1_col0\"\n",
       "                 class=\"data row1 col0\" >\n",
       "                    PT\n",
       "                \n",
       "                \n",
       "                \n",
       "                <td id=\"T_02f976c0_fcce_11e6_9409_1040f37a57earow1_col1\"\n",
       "                 class=\"data row1 col1\" >\n",
       "                    20\n",
       "                \n",
       "                \n",
       "                \n",
       "                <td id=\"T_02f976c0_fcce_11e6_9409_1040f37a57earow1_col2\"\n",
       "                 class=\"data row1 col2\" >\n",
       "                    8892\n",
       "                \n",
       "                \n",
       "                \n",
       "                <td id=\"T_02f976c0_fcce_11e6_9409_1040f37a57earow1_col3\"\n",
       "                 class=\"data row1 col3\" >\n",
       "                    10.55\n",
       "                \n",
       "                \n",
       "                \n",
       "                <td id=\"T_02f976c0_fcce_11e6_9409_1040f37a57earow1_col4\"\n",
       "                 class=\"data row1 col4\" >\n",
       "                    10.9027\n",
       "                \n",
       "                \n",
       "                \n",
       "                <td id=\"T_02f976c0_fcce_11e6_9409_1040f37a57earow1_col5\"\n",
       "                 class=\"data row1 col5\" >\n",
       "                    -3.23035\n",
       "                \n",
       "                \n",
       "                \n",
       "                <td id=\"T_02f976c0_fcce_11e6_9409_1040f37a57earow1_col6\"\n",
       "                 class=\"data row1 col6\" >\n",
       "                    0.00124086\n",
       "                \n",
       "                \n",
       "                \n",
       "                <td id=\"T_02f976c0_fcce_11e6_9409_1040f37a57earow1_col7\"\n",
       "                 class=\"data row1 col7\" >\n",
       "                    0.365374\n",
       "                \n",
       "                \n",
       "            </tr>\n",
       "            \n",
       "            <tr>\n",
       "                \n",
       "                \n",
       "                <th id=\"T_02f976c0_fcce_11e6_9409_1040f37a57ea\"\n",
       "                 class=\"row_heading level0 row2\" rowspan=1>\n",
       "                    4\n",
       "                \n",
       "                \n",
       "                \n",
       "                <td id=\"T_02f976c0_fcce_11e6_9409_1040f37a57earow2_col0\"\n",
       "                 class=\"data row2 col0\" >\n",
       "                    NL\n",
       "                \n",
       "                \n",
       "                \n",
       "                <td id=\"T_02f976c0_fcce_11e6_9409_1040f37a57earow2_col1\"\n",
       "                 class=\"data row2 col1\" >\n",
       "                    83\n",
       "                \n",
       "                \n",
       "                \n",
       "                <td id=\"T_02f976c0_fcce_11e6_9409_1040f37a57earow2_col2\"\n",
       "                 class=\"data row2 col2\" >\n",
       "                    8829\n",
       "                \n",
       "                \n",
       "                \n",
       "                <td id=\"T_02f976c0_fcce_11e6_9409_1040f37a57earow2_col3\"\n",
       "                 class=\"data row2 col3\" >\n",
       "                    8.63855\n",
       "                \n",
       "                \n",
       "                \n",
       "                <td id=\"T_02f976c0_fcce_11e6_9409_1040f37a57earow2_col4\"\n",
       "                 class=\"data row2 col4\" >\n",
       "                    8.92853\n",
       "                \n",
       "                \n",
       "                \n",
       "                <td id=\"T_02f976c0_fcce_11e6_9409_1040f37a57earow2_col5\"\n",
       "                 class=\"data row2 col5\" >\n",
       "                    -3.06097\n",
       "                \n",
       "                \n",
       "                \n",
       "                <td id=\"T_02f976c0_fcce_11e6_9409_1040f37a57earow2_col6\"\n",
       "                 class=\"data row2 col6\" >\n",
       "                    0.00221276\n",
       "                \n",
       "                \n",
       "                \n",
       "                <td id=\"T_02f976c0_fcce_11e6_9409_1040f37a57earow2_col7\"\n",
       "                 class=\"data row2 col7\" >\n",
       "                    0.336673\n",
       "                \n",
       "                \n",
       "            </tr>\n",
       "            \n",
       "            <tr>\n",
       "                \n",
       "                \n",
       "                <th id=\"T_02f976c0_fcce_11e6_9409_1040f37a57ea\"\n",
       "                 class=\"row_heading level0 row3\" rowspan=1>\n",
       "                    0\n",
       "                \n",
       "                \n",
       "                \n",
       "                <td id=\"T_02f976c0_fcce_11e6_9409_1040f37a57earow3_col0\"\n",
       "                 class=\"data row3 col0\" >\n",
       "                    ES\n",
       "                \n",
       "                \n",
       "                \n",
       "                <td id=\"T_02f976c0_fcce_11e6_9409_1040f37a57earow3_col1\"\n",
       "                 class=\"data row3 col1\" >\n",
       "                    235\n",
       "                \n",
       "                \n",
       "                \n",
       "                <td id=\"T_02f976c0_fcce_11e6_9409_1040f37a57earow3_col2\"\n",
       "                 class=\"data row3 col2\" >\n",
       "                    8677\n",
       "                \n",
       "                \n",
       "                \n",
       "                <td id=\"T_02f976c0_fcce_11e6_9409_1040f37a57earow3_col3\"\n",
       "                 class=\"data row3 col3\" >\n",
       "                    5.28936\n",
       "                \n",
       "                \n",
       "                \n",
       "                <td id=\"T_02f976c0_fcce_11e6_9409_1040f37a57earow3_col4\"\n",
       "                 class=\"data row3 col4\" >\n",
       "                    5.54477\n",
       "                \n",
       "                \n",
       "                \n",
       "                <td id=\"T_02f976c0_fcce_11e6_9409_1040f37a57earow3_col5\"\n",
       "                 class=\"data row3 col5\" >\n",
       "                    -3.48785\n",
       "                \n",
       "                \n",
       "                \n",
       "                <td id=\"T_02f976c0_fcce_11e6_9409_1040f37a57earow3_col6\"\n",
       "                 class=\"data row3 col6\" >\n",
       "                    0.000489273\n",
       "                \n",
       "                \n",
       "                \n",
       "                <td id=\"T_02f976c0_fcce_11e6_9409_1040f37a57earow3_col7\"\n",
       "                 class=\"data row3 col7\" >\n",
       "                    0.223639\n",
       "                \n",
       "                \n",
       "            </tr>\n",
       "            \n",
       "            <tr>\n",
       "                \n",
       "                \n",
       "                <th id=\"T_02f976c0_fcce_11e6_9409_1040f37a57ea\"\n",
       "                 class=\"row_heading level0 row4\" rowspan=1>\n",
       "                    6\n",
       "                \n",
       "                \n",
       "                \n",
       "                <td id=\"T_02f976c0_fcce_11e6_9409_1040f37a57earow4_col0\"\n",
       "                 class=\"data row4 col0\" >\n",
       "                    IT\n",
       "                \n",
       "                \n",
       "                \n",
       "                <td id=\"T_02f976c0_fcce_11e6_9409_1040f37a57earow4_col1\"\n",
       "                 class=\"data row4 col1\" >\n",
       "                    269\n",
       "                \n",
       "                \n",
       "                \n",
       "                <td id=\"T_02f976c0_fcce_11e6_9409_1040f37a57earow4_col2\"\n",
       "                 class=\"data row4 col2\" >\n",
       "                    8643\n",
       "                \n",
       "                \n",
       "                \n",
       "                <td id=\"T_02f976c0_fcce_11e6_9409_1040f37a57earow4_col3\"\n",
       "                 class=\"data row4 col3\" >\n",
       "                    4.35688\n",
       "                \n",
       "                \n",
       "                \n",
       "                <td id=\"T_02f976c0_fcce_11e6_9409_1040f37a57earow4_col4\"\n",
       "                 class=\"data row4 col4\" >\n",
       "                    4.5446\n",
       "                \n",
       "                \n",
       "                \n",
       "                <td id=\"T_02f976c0_fcce_11e6_9409_1040f37a57earow4_col5\"\n",
       "                 class=\"data row4 col5\" >\n",
       "                    -3.26774\n",
       "                \n",
       "                \n",
       "                \n",
       "                <td id=\"T_02f976c0_fcce_11e6_9409_1040f37a57earow4_col6\"\n",
       "                 class=\"data row4 col6\" >\n",
       "                    0.00108819\n",
       "                \n",
       "                \n",
       "                \n",
       "                <td id=\"T_02f976c0_fcce_11e6_9409_1040f37a57earow4_col7\"\n",
       "                 class=\"data row4 col7\" >\n",
       "                    0.203385\n",
       "                \n",
       "                \n",
       "            </tr>\n",
       "            \n",
       "            <tr>\n",
       "                \n",
       "                \n",
       "                <th id=\"T_02f976c0_fcce_11e6_9409_1040f37a57ea\"\n",
       "                 class=\"row_heading level0 row5\" rowspan=1>\n",
       "                    2\n",
       "                \n",
       "                \n",
       "                \n",
       "                <td id=\"T_02f976c0_fcce_11e6_9409_1040f37a57earow5_col0\"\n",
       "                 class=\"data row5 col0\" >\n",
       "                    FR\n",
       "                \n",
       "                \n",
       "                \n",
       "                <td id=\"T_02f976c0_fcce_11e6_9409_1040f37a57earow5_col1\"\n",
       "                 class=\"data row5 col1\" >\n",
       "                    510\n",
       "                \n",
       "                \n",
       "                \n",
       "                <td id=\"T_02f976c0_fcce_11e6_9409_1040f37a57earow5_col2\"\n",
       "                 class=\"data row5 col2\" >\n",
       "                    8402\n",
       "                \n",
       "                \n",
       "                \n",
       "                <td id=\"T_02f976c0_fcce_11e6_9409_1040f37a57earow5_col3\"\n",
       "                 class=\"data row5 col3\" >\n",
       "                    3.01569\n",
       "                \n",
       "                \n",
       "                \n",
       "                <td id=\"T_02f976c0_fcce_11e6_9409_1040f37a57earow5_col4\"\n",
       "                 class=\"data row5 col4\" >\n",
       "                    3.102\n",
       "                \n",
       "                \n",
       "                \n",
       "                <td id=\"T_02f976c0_fcce_11e6_9409_1040f37a57earow5_col5\"\n",
       "                 class=\"data row5 col5\" >\n",
       "                    -3.38377\n",
       "                \n",
       "                \n",
       "                \n",
       "                <td id=\"T_02f976c0_fcce_11e6_9409_1040f37a57earow5_col6\"\n",
       "                 class=\"data row5 col6\" >\n",
       "                    0.000718062\n",
       "                \n",
       "                \n",
       "                \n",
       "                <td id=\"T_02f976c0_fcce_11e6_9409_1040f37a57earow5_col7\"\n",
       "                 class=\"data row5 col7\" >\n",
       "                    0.163055\n",
       "                \n",
       "                \n",
       "            </tr>\n",
       "            \n",
       "            <tr>\n",
       "                \n",
       "                \n",
       "                <th id=\"T_02f976c0_fcce_11e6_9409_1040f37a57ea\"\n",
       "                 class=\"row_heading level0 row6\" rowspan=1>\n",
       "                    8\n",
       "                \n",
       "                \n",
       "                \n",
       "                <td id=\"T_02f976c0_fcce_11e6_9409_1040f37a57earow6_col0\"\n",
       "                 class=\"data row6 col0\" >\n",
       "                    DE\n",
       "                \n",
       "                \n",
       "                \n",
       "                <td id=\"T_02f976c0_fcce_11e6_9409_1040f37a57earow6_col1\"\n",
       "                 class=\"data row6 col1\" >\n",
       "                    109\n",
       "                \n",
       "                \n",
       "                \n",
       "                <td id=\"T_02f976c0_fcce_11e6_9409_1040f37a57earow6_col2\"\n",
       "                 class=\"data row6 col2\" >\n",
       "                    8803\n",
       "                \n",
       "                \n",
       "                \n",
       "                <td id=\"T_02f976c0_fcce_11e6_9409_1040f37a57earow6_col3\"\n",
       "                 class=\"data row6 col3\" >\n",
       "                    7.87156\n",
       "                \n",
       "                \n",
       "                \n",
       "                <td id=\"T_02f976c0_fcce_11e6_9409_1040f37a57earow6_col4\"\n",
       "                 class=\"data row6 col4\" >\n",
       "                    8.03101\n",
       "                \n",
       "                \n",
       "                \n",
       "                <td id=\"T_02f976c0_fcce_11e6_9409_1040f37a57earow6_col5\"\n",
       "                 class=\"data row6 col5\" >\n",
       "                    -1.54798\n",
       "                \n",
       "                \n",
       "                \n",
       "                <td id=\"T_02f976c0_fcce_11e6_9409_1040f37a57earow6_col6\"\n",
       "                 class=\"data row6 col6\" >\n",
       "                    0.121663\n",
       "                \n",
       "                \n",
       "                \n",
       "                <td id=\"T_02f976c0_fcce_11e6_9409_1040f37a57earow6_col7\"\n",
       "                 class=\"data row6 col7\" >\n",
       "                    0.146618\n",
       "                \n",
       "                \n",
       "            </tr>\n",
       "            \n",
       "            <tr>\n",
       "                \n",
       "                \n",
       "                <th id=\"T_02f976c0_fcce_11e6_9409_1040f37a57ea\"\n",
       "                 class=\"row_heading level0 row7\" rowspan=1>\n",
       "                    5\n",
       "                \n",
       "                \n",
       "                \n",
       "                <td id=\"T_02f976c0_fcce_11e6_9409_1040f37a57earow7_col0\"\n",
       "                 class=\"data row7 col0\" >\n",
       "                    other\n",
       "                \n",
       "                \n",
       "                \n",
       "                <td id=\"T_02f976c0_fcce_11e6_9409_1040f37a57earow7_col1\"\n",
       "                 class=\"data row7 col1\" >\n",
       "                    1027\n",
       "                \n",
       "                \n",
       "                \n",
       "                <td id=\"T_02f976c0_fcce_11e6_9409_1040f37a57earow7_col2\"\n",
       "                 class=\"data row7 col2\" >\n",
       "                    7885\n",
       "                \n",
       "                \n",
       "                \n",
       "                <td id=\"T_02f976c0_fcce_11e6_9409_1040f37a57earow7_col3\"\n",
       "                 class=\"data row7 col3\" >\n",
       "                    2.01461\n",
       "                \n",
       "                \n",
       "                \n",
       "                <td id=\"T_02f976c0_fcce_11e6_9409_1040f37a57earow7_col4\"\n",
       "                 class=\"data row7 col4\" >\n",
       "                    2.04172\n",
       "                \n",
       "                \n",
       "                \n",
       "                <td id=\"T_02f976c0_fcce_11e6_9409_1040f37a57earow7_col5\"\n",
       "                 class=\"data row7 col5\" >\n",
       "                    -2.53295\n",
       "                \n",
       "                \n",
       "                \n",
       "                <td id=\"T_02f976c0_fcce_11e6_9409_1040f37a57earow7_col6\"\n",
       "                 class=\"data row7 col6\" >\n",
       "                    0.0113277\n",
       "                \n",
       "                \n",
       "                \n",
       "                <td id=\"T_02f976c0_fcce_11e6_9409_1040f37a57earow7_col7\"\n",
       "                 class=\"data row7 col7\" >\n",
       "                    0.0861749\n",
       "                \n",
       "                \n",
       "            </tr>\n",
       "            \n",
       "            <tr>\n",
       "                \n",
       "                \n",
       "                <th id=\"T_02f976c0_fcce_11e6_9409_1040f37a57ea\"\n",
       "                 class=\"row_heading level0 row8\" rowspan=1>\n",
       "                    9\n",
       "                \n",
       "                \n",
       "                \n",
       "                <td id=\"T_02f976c0_fcce_11e6_9409_1040f37a57earow8_col0\"\n",
       "                 class=\"data row8 col0\" >\n",
       "                    CA\n",
       "                \n",
       "                \n",
       "                \n",
       "                <td id=\"T_02f976c0_fcce_11e6_9409_1040f37a57earow8_col1\"\n",
       "                 class=\"data row8 col1\" >\n",
       "                    127\n",
       "                \n",
       "                \n",
       "                \n",
       "                <td id=\"T_02f976c0_fcce_11e6_9409_1040f37a57earow8_col2\"\n",
       "                 class=\"data row8 col2\" >\n",
       "                    8785\n",
       "                \n",
       "                \n",
       "                \n",
       "                <td id=\"T_02f976c0_fcce_11e6_9409_1040f37a57earow8_col3\"\n",
       "                 class=\"data row8 col3\" >\n",
       "                    6.94488\n",
       "                \n",
       "                \n",
       "                \n",
       "                <td id=\"T_02f976c0_fcce_11e6_9409_1040f37a57earow8_col4\"\n",
       "                 class=\"data row8 col4\" >\n",
       "                    7.01024\n",
       "                \n",
       "                \n",
       "                \n",
       "                <td id=\"T_02f976c0_fcce_11e6_9409_1040f37a57earow8_col5\"\n",
       "                 class=\"data row8 col5\" >\n",
       "                    -0.695151\n",
       "                \n",
       "                \n",
       "                \n",
       "                <td id=\"T_02f976c0_fcce_11e6_9409_1040f37a57earow8_col6\"\n",
       "                 class=\"data row8 col6\" >\n",
       "                    0.486979\n",
       "                \n",
       "                \n",
       "                \n",
       "                <td id=\"T_02f976c0_fcce_11e6_9409_1040f37a57earow8_col7\"\n",
       "                 class=\"data row8 col7\" >\n",
       "                    0.0617854\n",
       "                \n",
       "                \n",
       "            </tr>\n",
       "            \n",
       "            <tr>\n",
       "                \n",
       "                \n",
       "                <th id=\"T_02f976c0_fcce_11e6_9409_1040f37a57ea\"\n",
       "                 class=\"row_heading level0 row9\" rowspan=1>\n",
       "                    3\n",
       "                \n",
       "                \n",
       "                \n",
       "                <td id=\"T_02f976c0_fcce_11e6_9409_1040f37a57earow9_col0\"\n",
       "                 class=\"data row9 col0\" >\n",
       "                    US\n",
       "                \n",
       "                \n",
       "                \n",
       "                <td id=\"T_02f976c0_fcce_11e6_9409_1040f37a57earow9_col1\"\n",
       "                 class=\"data row9 col1\" >\n",
       "                    6236\n",
       "                \n",
       "                \n",
       "                \n",
       "                <td id=\"T_02f976c0_fcce_11e6_9409_1040f37a57earow9_col2\"\n",
       "                 class=\"data row9 col2\" >\n",
       "                    2676\n",
       "                \n",
       "                \n",
       "                \n",
       "                <td id=\"T_02f976c0_fcce_11e6_9409_1040f37a57earow9_col3\"\n",
       "                 class=\"data row9 col3\" >\n",
       "                    0.483162\n",
       "                \n",
       "                \n",
       "                \n",
       "                <td id=\"T_02f976c0_fcce_11e6_9409_1040f37a57earow9_col4\"\n",
       "                 class=\"data row9 col4\" >\n",
       "                    0.502616\n",
       "                \n",
       "                \n",
       "                \n",
       "                <td id=\"T_02f976c0_fcce_11e6_9409_1040f37a57earow9_col5\"\n",
       "                 class=\"data row9 col5\" >\n",
       "                    -1.66768\n",
       "                \n",
       "                \n",
       "                \n",
       "                <td id=\"T_02f976c0_fcce_11e6_9409_1040f37a57earow9_col6\"\n",
       "                 class=\"data row9 col6\" >\n",
       "                    0.0954141\n",
       "                \n",
       "                \n",
       "                \n",
       "                <td id=\"T_02f976c0_fcce_11e6_9409_1040f37a57earow9_col7\"\n",
       "                 class=\"data row9 col7\" >\n",
       "                    0.03832\n",
       "                \n",
       "                \n",
       "            </tr>\n",
       "            \n",
       "            <tr>\n",
       "                \n",
       "                \n",
       "                <th id=\"T_02f976c0_fcce_11e6_9409_1040f37a57ea\"\n",
       "                 class=\"row_heading level0 row10\" rowspan=1>\n",
       "                    7\n",
       "                \n",
       "                \n",
       "                \n",
       "                <td id=\"T_02f976c0_fcce_11e6_9409_1040f37a57earow10_col0\"\n",
       "                 class=\"data row10 col0\" >\n",
       "                    GB\n",
       "                \n",
       "                \n",
       "                \n",
       "                <td id=\"T_02f976c0_fcce_11e6_9409_1040f37a57earow10_col1\"\n",
       "                 class=\"data row10 col1\" >\n",
       "                    247\n",
       "                \n",
       "                \n",
       "                \n",
       "                <td id=\"T_02f976c0_fcce_11e6_9409_1040f37a57earow10_col2\"\n",
       "                 class=\"data row10 col2\" >\n",
       "                    8665\n",
       "                \n",
       "                \n",
       "                \n",
       "                <td id=\"T_02f976c0_fcce_11e6_9409_1040f37a57earow10_col3\"\n",
       "                 class=\"data row10 col3\" >\n",
       "                    5.25506\n",
       "                \n",
       "                \n",
       "                \n",
       "                <td id=\"T_02f976c0_fcce_11e6_9409_1040f37a57earow10_col4\"\n",
       "                 class=\"data row10 col4\" >\n",
       "                    5.25978\n",
       "                \n",
       "                \n",
       "                \n",
       "                <td id=\"T_02f976c0_fcce_11e6_9409_1040f37a57earow10_col5\"\n",
       "                 class=\"data row10 col5\" >\n",
       "                    -0.0766344\n",
       "                \n",
       "                \n",
       "                \n",
       "                <td id=\"T_02f976c0_fcce_11e6_9409_1040f37a57earow10_col6\"\n",
       "                 class=\"data row10 col6\" >\n",
       "                    0.938916\n",
       "                \n",
       "                \n",
       "                \n",
       "                <td id=\"T_02f976c0_fcce_11e6_9409_1040f37a57earow10_col7\"\n",
       "                 class=\"data row10 col7\" >\n",
       "                    0.00493009\n",
       "                \n",
       "                \n",
       "            </tr>\n",
       "            \n",
       "        </tbody>\n",
       "        </table>\n",
       "        "
      ],
      "text/plain": [
       "<pandas.formats.style.Styler at 0x11cdba750>"
      ]
     },
     "execution_count": 32,
     "metadata": {},
     "output_type": "execute_result"
    }
   ],
   "source": [
    "def highlight_rows(s):\n",
    "    return ['background-color: #CCFFE5' if i in np.where(ttest.pval<0.05/11)[0] else '' for i in range(len(s))]\n",
    "ttest[ttest.country_destination != \"NDF\"].style.apply(highlight_rows)"
   ]
  },
  {
   "cell_type": "markdown",
   "metadata": {},
   "source": [
    "Table above shows results of t-test and Cohen`s D effect size (cohen_d). For 7 classes significant decrease was detected, list of classes is almost the same as for previous test (the only difference is that 'other' class was replaced with 'DE'). Effect sizes are medium or small. Again for 'US' class no significant decrease in average rank was detected.\n",
    "\n",
    "Although for 7 classes change in ranks (average ranks) are significantly different, we can see that for most cases it is not enough to move the class to the top 5 predictions. "
   ]
  },
  {
   "cell_type": "markdown",
   "metadata": {},
   "source": [
    "Performed analysis showed that suggested model is quite weak in prediction of country destination and is rather focused on prediction of \"booking\" and \"not booking\" events."
   ]
  },
  {
   "cell_type": "markdown",
   "metadata": {},
   "source": [
    "### Feature Importance"
   ]
  },
  {
   "cell_type": "markdown",
   "metadata": {},
   "source": [
    "In this section we will consider which features are considered to be most important by the model. Next two charts show top 10 features ranked by their performance. Feature importance was defined by two methods. In the left chart importance of a feature was estimated according to the number of times this feature was used in tree splits. In the right chart importance of feature was estimated by considering not just the number of splits, but average gain associated splits. "
   ]
  },
  {
   "cell_type": "code",
   "execution_count": 33,
   "metadata": {
    "collapsed": true
   },
   "outputs": [],
   "source": [
    "import pickle\n",
    "\n",
    "with open(\"../ModelValidation/dev/clf_md8.pkl\") as infile:\n",
    "    fitted_clf = pickle.load(infile)\n",
    "with open(\"../ModelValidation/dev/features_md8.pkl\") as infile:\n",
    "    features = pickle.load(infile)"
   ]
  },
  {
   "cell_type": "code",
   "execution_count": 34,
   "metadata": {
    "collapsed": false,
    "scrolled": false
   },
   "outputs": [
    {
     "data": {
      "image/png": "[encoded data removed]",
      "text/plain": [
       "<matplotlib.figure.Figure at 0x11c463650>"
      ]
     },
     "metadata": {},
     "output_type": "display_data"
    }
   ],
   "source": [
    "mv_utils.plot_importance(fitted_clf, features, 10)"
   ]
  },
  {
   "cell_type": "markdown",
   "metadata": {},
   "source": [
    "Note that different methods of importance estimation give different top features. From the left chart we see that, for example, day, month, year of account creation or first activity are considered to be important by the model. Probably, algorithm tried to catch some seasonality in the data. Age variable is considered important by both methods. From the right char, we can see that signup method and content of affiliate channel are important.  "
   ]
  },
  {
   "cell_type": "markdown",
   "metadata": {},
   "source": [
    "In the next two tables we list all actions from top10 important features. First table contains actions from the left chart and second - from the right. "
   ]
  },
  {
   "cell_type": "code",
   "execution_count": 35,
   "metadata": {
    "collapsed": false
   },
   "outputs": [],
   "source": [
    "actions = pd.read_csv(\"../data/agg_action_info.csv\")"
   ]
  },
  {
   "cell_type": "code",
   "execution_count": 52,
   "metadata": {
    "collapsed": false,
    "scrolled": true
   },
   "outputs": [
    {
     "data": {
      "text/html": [
       "<div>\n",
       "<table border=\"1\" class=\"dataframe\">\n",
       "  <thead>\n",
       "    <tr style=\"text-align: right;\">\n",
       "      <th></th>\n",
       "      <th>agg_action_code_gr</th>\n",
       "      <th>aggr_action</th>\n",
       "      <th>importance_rank</th>\n",
       "    </tr>\n",
       "  </thead>\n",
       "  <tbody>\n",
       "    <tr>\n",
       "      <th>8</th>\n",
       "      <td>agg_action_1</td>\n",
       "      <td>|a|header_userpic|t|data|d|header_userpic</td>\n",
       "      <td>7</td>\n",
       "    </tr>\n",
       "    <tr>\n",
       "      <th>7</th>\n",
       "      <td>agg_action_0</td>\n",
       "      <td>|a|show|t|view|d|p3</td>\n",
       "      <td>8</td>\n",
       "    </tr>\n",
       "    <tr>\n",
       "      <th>2</th>\n",
       "      <td>agg_action_3</td>\n",
       "      <td>|a|personalize|t|data|d|wishlist_content_update</td>\n",
       "      <td>10</td>\n",
       "    </tr>\n",
       "  </tbody>\n",
       "</table>\n",
       "</div>"
      ],
      "text/plain": [
       "  agg_action_code_gr                                      aggr_action  \\\n",
       "8       agg_action_1        |a|header_userpic|t|data|d|header_userpic   \n",
       "7       agg_action_0                              |a|show|t|view|d|p3   \n",
       "2       agg_action_3  |a|personalize|t|data|d|wishlist_content_update   \n",
       "\n",
       "   importance_rank  \n",
       "8                7  \n",
       "7                8  \n",
       "2               10  "
      ]
     },
     "execution_count": 52,
     "metadata": {},
     "output_type": "execute_result"
    }
   ],
   "source": [
    "a1 = actions.loc[actions.agg_action_code_gr.isin(flabels1),[\"agg_action_code_gr\", \"aggr_action\"]]\n",
    "a1[\"importance_rank\"] = a1.agg_action_code_gr.apply(lambda s: (len(flabels1) - flabels1.index(s)))\n",
    "a1.sort_values(by=\"importance_rank\")"
   ]
  },
  {
   "cell_type": "code",
   "execution_count": 53,
   "metadata": {
    "collapsed": false,
    "scrolled": true
   },
   "outputs": [
    {
     "data": {
      "text/html": [
       "<div>\n",
       "<table border=\"1\" class=\"dataframe\">\n",
       "  <thead>\n",
       "    <tr style=\"text-align: right;\">\n",
       "      <th></th>\n",
       "      <th>agg_action_code_gr</th>\n",
       "      <th>aggr_action</th>\n",
       "      <th>importance_rank</th>\n",
       "    </tr>\n",
       "  </thead>\n",
       "  <tbody>\n",
       "    <tr>\n",
       "      <th>24</th>\n",
       "      <td>agg_action_42</td>\n",
       "      <td>|a|pending|t|booking_request|d|pending</td>\n",
       "      <td>3</td>\n",
       "    </tr>\n",
       "    <tr>\n",
       "      <th>98</th>\n",
       "      <td>agg_action_74</td>\n",
       "      <td>|a|manage_listing|t|view|d|manage_listing</td>\n",
       "      <td>6</td>\n",
       "    </tr>\n",
       "    <tr>\n",
       "      <th>93</th>\n",
       "      <td>agg_action_82</td>\n",
       "      <td>|a|at_checkpoint|t|booking_request|d|at_checkp...</td>\n",
       "      <td>7</td>\n",
       "    </tr>\n",
       "    <tr>\n",
       "      <th>99</th>\n",
       "      <td>agg_action_76</td>\n",
       "      <td>|a|set_user|t|submit|d|create_listing</td>\n",
       "      <td>10</td>\n",
       "    </tr>\n",
       "  </tbody>\n",
       "</table>\n",
       "</div>"
      ],
      "text/plain": [
       "   agg_action_code_gr                                        aggr_action  \\\n",
       "24      agg_action_42             |a|pending|t|booking_request|d|pending   \n",
       "98      agg_action_74          |a|manage_listing|t|view|d|manage_listing   \n",
       "93      agg_action_82  |a|at_checkpoint|t|booking_request|d|at_checkp...   \n",
       "99      agg_action_76              |a|set_user|t|submit|d|create_listing   \n",
       "\n",
       "    importance_rank  \n",
       "24                3  \n",
       "98                6  \n",
       "93                7  \n",
       "99               10  "
      ]
     },
     "execution_count": 53,
     "metadata": {},
     "output_type": "execute_result"
    }
   ],
   "source": [
    "a1 = actions.loc[actions.agg_action_code_gr.isin(flabels2),[\"agg_action_code_gr\", \"aggr_action\"]]\n",
    "a1[\"importance_rank\"] = a1.agg_action_code_gr.apply(lambda s: (len(flabels2) - flabels2.index(s)))\n",
    "a1.sort_values(by=\"importance_rank\")"
   ]
  },
  {
   "cell_type": "markdown",
   "metadata": {},
   "source": [
    "It is reasonable to see that such actions like \"wishlist_content_update\" and \"booking_request\" are considered important. "
   ]
  },
  {
   "cell_type": "markdown",
   "metadata": {},
   "source": [
    "## Summary"
   ]
  },
  {
   "cell_type": "markdown",
   "metadata": {},
   "source": [
    "In this project AirBnb data containing information about users from 2010 and web session records from 1/1/2014 was analyzed. The goal of the project was to predict in which country a new user will make his or her first booking. There were 12 possible outcomes for destination variable including \"did not make any booking\" situation.\n",
    "\n",
    "Since for each user there were a history of web session records, some specific data aggregation was needed.\n",
    "After aggregation data was cleaned briefly without addition of significant changes to the data. As a final algorithm Gradient Boosted Decision Trees was used. Available data was separated on train and evaluation data sets. Parameter optimization was performed on train part with cross validation, while model evaluation and analysis was performed on evaluation data set.\n",
    "\n",
    "Trained model with optimized parameters got performance score on evaluation data close to that on cross validation step. \n",
    "\n",
    "Detailed analysis of the model revealed that it is more focused on prediction of the fact whether user made booking or not rather than on prediction of specific country destination. \n",
    "\n",
    "Possible future work:\n",
    "\n",
    " * Separate classification into two parts and develop two classification models, one for prediction of \"booking\" and \"not booking\" classes and one for prediction of country destination (assuming that booking was made).\n",
    " * Try different resampling schemes in order to increase influence of rare classes\n",
    " * Use provided information about countries (distance, language distance) and age - gender distributions. \n",
    " * Since day, month, year of account creation and first activity were considered important by the model, construct some seasonality variables. \n"
   ]
  },
  {
   "cell_type": "markdown",
   "metadata": {
    "collapsed": true
   },
   "source": [
    "## References"
   ]
  },
  {
   "cell_type": "markdown",
   "metadata": {},
   "source": [
    "https://en.wikipedia.org/wiki/Mann%E2%80%93Whitney_U_test#Common_language_effect_size\n",
    "\n",
    "https://en.wikipedia.org/wiki/Mann%E2%80%93Whitney_U_test#Rank-biserial_correlation\n",
    "\n",
    "https://en.wikipedia.org/wiki/Bonferroni_correction"
   ]
  }
 ],
 "metadata": {
  "kernelspec": {
   "display_name": "Python 2",
   "language": "python",
   "name": "python2"
  },
  "language_info": {
   "codemirror_mode": {
    "name": "ipython",
    "version": 2
   },
   "file_extension": ".py",
   "mimetype": "text/x-python",
   "name": "python",
   "nbconvert_exporter": "python",
   "pygments_lexer": "ipython2",
   "version": "2.7.13"
  }
 },
 "nbformat": 4,
 "nbformat_minor": 2
}
