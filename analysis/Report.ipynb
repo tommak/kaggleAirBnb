{
 "cells": [
  {
   "cell_type": "markdown",
   "metadata": {},
   "source": [
    "# AirBnb New User Bookings"
   ]
  },
  {
   "cell_type": "markdown",
   "metadata": {},
   "source": [
    "# Table of Contents\n",
    "* [AirBnb New User Bookings](#AirBnb-New-User-Bookings)\n",
    "\t* [Introduction](#Introduction)\n",
    "\t* [Data Description](#Data-Description)\n",
    "\t* [Evaluation method](#Evaluation-method)\n",
    "\t* [Data Preprocessing](#Data-Preprocessing)\n",
    "\t\t* [Data Exploration](#Data-Exploration)\n",
    "\t\t* [Data Aggregation](#Data-Aggregation)\n",
    "\t\t* [Cleaning and Feature Engeneering](#Cleaning-and-Feature-Engeneering)\n",
    "\t* [Building a model](#Building-a-model)\n",
    "\t\t* [_Data portioning_](#_Data-portioning_)\n",
    "\t\t* [_Cross Validation Results_](#_Cross-Validation-Results_)\n",
    "\t* [Evaluation](#Evaluation)\n",
    "\t\t* [Model Performance for different classes](#Model-Performance-for-different-classes)\n",
    "\t\t* [Comparison with random fixed decisions](#Comparison-with-random-fixed-decisions)\n",
    "\t\t* [Feature Importance](#Feature-Importance)\n",
    "\t* [Summary](#Summary)\n"
   ]
  },
  {
   "cell_type": "markdown",
   "metadata": {},
   "source": [
    "## Introduction"
   ]
  },
  {
   "cell_type": "markdown",
   "metadata": {},
   "source": [
    "New users on Airbnb can book a place to stay in 34,000+ cities across 190+ countries. By accurately predicting where a new user will book their first travel experience, Airbnb can share more personalized content with their community, decrease the average time to first booking, and better forecast demand.\n",
    "\n",
    "As a part of [Kaggle competition](https://www.kaggle.com/c/airbnb-recruiting-new-user-bookings) AirBnb provided a list of users along with their demographics, web session records, and some summary statistics. The goal of the project was to predict in which country a new user will make his or her first booking.\n",
    "\n",
    "I have participated in Kaggle competition and got 160th place being in top 11% among all participants, my profile can be found [here](https://www.kaggle.com/tmakarova) . Submitted solution got 0.88484 score on unseen test data."
   ]
  },
  {
   "cell_type": "markdown",
   "metadata": {},
   "source": [
    "## Data Description"
   ]
  },
  {
   "cell_type": "markdown",
   "metadata": {},
   "source": [
    "There are 12 possible outcomes of the destination country: &#39;US&#39;, &#39;FR&#39;, &#39;CA&#39;, &#39;GB&#39;, &#39;ES&#39;, &#39;IT&#39;, &#39;PT&#39;, &#39;NL&#39;,&#39;DE&#39;, &#39;AU&#39;, &#39;NDF&#39; (no destination found), and &#39;other&#39;. The training and test sets are split by dates. Test data set is used for submissions in competition. Test data set contains all users with first activities after  **7/1/2014**. In the sessions dataset, the data only dates back to 1/1/2014, while the users dataset dates back to 2010.\n",
    "\n",
    "In total, there are 4 data files provided for training:\n",
    "- User data file contain information about 213451 users and 15 features including target variable. Features describe the user (age, gender), devices and applications she uses and etc.\n",
    "- Session data file is the biggest among all provided files (nearly 600 Mb) and contain information about web session records for users. In total, it has 10567737 records and 6 features.\n",
    "- Other two files contain some information about countries and genders"
   ]
  },
  {
   "cell_type": "markdown",
   "metadata": {},
   "source": [
    "## Evaluation method"
   ]
  },
  {
   "cell_type": "markdown",
   "metadata": {},
   "source": [
    "The goal is to predict five most probable destinations for the user. Performance is evaluated by Normalized Discounted Cumulative Gain (NDCG), which measures the performance of a recommendation system based on the graded relevance of the recommended entities. It varies from 0.0 to 1.0, with 1.0 representing the ideal ranking of the entities. Some details on the metric can be found [here](https://en.wikipedia.org/wiki/Discounted_cumulative_gain#Normalized_DCG) .\n",
    "\n",
    "During evaluation of an algorithm on some test data set, NDCG is calculated for each test observation and than all values are averaged in order to generate one score value."
   ]
  },
  {
   "cell_type": "markdown",
   "metadata": {},
   "source": [
    "## Data Preprocessing "
   ]
  },
  {
   "cell_type": "markdown",
   "metadata": {},
   "source": [
    "### Data Exploration"
   ]
  },
  {
   "cell_type": "code",
   "execution_count": 41,
   "metadata": {
    "collapsed": true
   },
   "outputs": [],
   "source": [
    "import pandas as pd\n",
    "import numpy as np\n",
    "import seaborn as sns\n",
    "import matplotlib.pyplot as plt\n",
    "import ModelValidation.utils as mv_utils \n",
    "\n",
    "\n",
    "% matplotlib inline\n"
   ]
  },
  {
   "cell_type": "code",
   "execution_count": 16,
   "metadata": {
    "collapsed": true
   },
   "outputs": [],
   "source": [
    "users = pd.read_csv(\"data/users.csv\")\n",
    "sessions = pd.read_csv(\"data/sessions.csv\")"
   ]
  },
  {
   "cell_type": "markdown",
   "metadata": {},
   "source": [
    "Target variable _country_destination_ is highly unbalanced, most cases correspond to either NDF class (no booking) or US (travel whithin US)."
   ]
  },
  {
   "cell_type": "code",
   "execution_count": 3,
   "metadata": {
    "collapsed": false,
    "scrolled": true
   },
   "outputs": [
    {
     "data": {
      "text/plain": [
       "<matplotlib.axes._subplots.AxesSubplot at 0x10740b590>"
      ]
     },
     "execution_count": 3,
     "metadata": {},
     "output_type": "execute_result"
    },
    {
     "data": {
      "image/png": "[encoded data removed]",
      "text/plain": [
       "<matplotlib.figure.Figure at 0x10fefbed0>"
      ]
     },
     "metadata": {},
     "output_type": "display_data"
    }
   ],
   "source": [
    "counts_dest = users.country_destination.value_counts(dropna=False)\n",
    "perc_dest = 100 * counts_dest/users.shape[0]\n",
    "sns.barplot(perc_dest.index, perc_dest.values)"
   ]
  },
  {
   "cell_type": "markdown",
   "metadata": {},
   "source": [
    "Number of cases and percent in each target class"
   ]
  },
  {
   "cell_type": "code",
   "execution_count": 4,
   "metadata": {
    "collapsed": false,
    "scrolled": false
   },
   "outputs": [
    {
     "data": {
      "text/html": [
       "<div>\n",
       "<table border=\"1\" class=\"dataframe\">\n",
       "  <thead>\n",
       "    <tr style=\"text-align: right;\">\n",
       "      <th></th>\n",
       "      <th>NDF</th>\n",
       "      <th>US</th>\n",
       "      <th>other</th>\n",
       "      <th>FR</th>\n",
       "      <th>IT</th>\n",
       "      <th>GB</th>\n",
       "      <th>ES</th>\n",
       "      <th>CA</th>\n",
       "      <th>DE</th>\n",
       "      <th>NL</th>\n",
       "      <th>AU</th>\n",
       "      <th>PT</th>\n",
       "    </tr>\n",
       "  </thead>\n",
       "  <tbody>\n",
       "    <tr>\n",
       "      <th># cases</th>\n",
       "      <td>124543</td>\n",
       "      <td>62376</td>\n",
       "      <td>10094</td>\n",
       "      <td>5023</td>\n",
       "      <td>2835</td>\n",
       "      <td>2324</td>\n",
       "      <td>2249</td>\n",
       "      <td>1428</td>\n",
       "      <td>1061</td>\n",
       "      <td>762</td>\n",
       "      <td>539</td>\n",
       "      <td>217</td>\n",
       "    </tr>\n",
       "    <tr>\n",
       "      <th>% cases</th>\n",
       "      <td>58.3473</td>\n",
       "      <td>29.2226</td>\n",
       "      <td>4.72895</td>\n",
       "      <td>2.35323</td>\n",
       "      <td>1.32817</td>\n",
       "      <td>1.08877</td>\n",
       "      <td>1.05364</td>\n",
       "      <td>0.669006</td>\n",
       "      <td>0.49707</td>\n",
       "      <td>0.356991</td>\n",
       "      <td>0.252517</td>\n",
       "      <td>0.101663</td>\n",
       "    </tr>\n",
       "  </tbody>\n",
       "</table>\n",
       "</div>"
      ],
      "text/plain": [
       "             NDF       US    other       FR       IT       GB       ES  \\\n",
       "# cases   124543    62376    10094     5023     2835     2324     2249   \n",
       "% cases  58.3473  29.2226  4.72895  2.35323  1.32817  1.08877  1.05364   \n",
       "\n",
       "               CA       DE        NL        AU        PT  \n",
       "# cases      1428     1061       762       539       217  \n",
       "% cases  0.669006  0.49707  0.356991  0.252517  0.101663  "
      ]
     },
     "execution_count": 4,
     "metadata": {},
     "output_type": "execute_result"
    }
   ],
   "source": [
    "pd.DataFrame({\"# cases\" : counts_dest.apply(lambda v : \"%d\" % v), \"% cases\" : perc_dest}).transpose()"
   ]
  },
  {
   "cell_type": "markdown",
   "metadata": {},
   "source": [
    "Target variable country_destination is quite unbalanced. Most cases (nearly 60%) correspons to 'NDF' - situation when booking was not made. The second destination is 'US' - nearly 30 % of all trainig cases. This means that only 10% of cases corresponds to other destinations, where 5% relates to not listed destination ('other' group)."
   ]
  },
  {
   "cell_type": "markdown",
   "metadata": {},
   "source": [
    "Some categorical features also have some unbalanced features.  "
   ]
  },
  {
   "cell_type": "code",
   "execution_count": 14,
   "metadata": {
    "collapsed": false
   },
   "outputs": [
    {
     "data": {
      "text/plain": [
       "<matplotlib.axes._subplots.AxesSubplot at 0x1107968d0>"
      ]
     },
     "execution_count": 14,
     "metadata": {},
     "output_type": "execute_result"
    },
    {
     "data": {
      "image/png": "[encoded data removed]",
      "text/plain": [
       "<matplotlib.figure.Figure at 0x10ffd0f10>"
      ]
     },
     "metadata": {},
     "output_type": "display_data"
    }
   ],
   "source": [
    "excl_vars = [\"id\",\"age\", \"date_account_created\", \"date_first_active\", \\\n",
    "             \"timestamp_first_active\", \"date_first_booking\", \"country_destination\"]\n",
    "fields_stat = mv_utils.get_levels_stat(users, excl_vars)\n",
    "\n",
    "fig, ax = plt.subplots(figsize=(10,7))\n",
    "sns.stripplot(y=\"field\", x=\"perc\", data=fields_stat, size=8, ax=ax)"
   ]
  },
  {
   "cell_type": "markdown",
   "metadata": {},
   "source": [
    "For example, _language_ variable has 25 levels, but more than 97% correspond to English ('en')."
   ]
  },
  {
   "cell_type": "markdown",
   "metadata": {},
   "source": [
    "Level distribution for session variables"
   ]
  },
  {
   "cell_type": "code",
   "execution_count": 17,
   "metadata": {
    "collapsed": false,
    "scrolled": false
   },
   "outputs": [
    {
     "data": {
      "text/plain": [
       "<matplotlib.axes._subplots.AxesSubplot at 0x110e94790>"
      ]
     },
     "execution_count": 17,
     "metadata": {},
     "output_type": "execute_result"
    },
    {
     "data": {
      "image/png": "[encoded data removed]",
      "text/plain": [
       "<matplotlib.figure.Figure at 0x10ffe6290>"
      ]
     },
     "metadata": {},
     "output_type": "display_data"
    }
   ],
   "source": [
    "ses_fields_stat = get_levels_stat(sessions, [\"user_id\", \"secs_elapsed\"])\n",
    "\n",
    "fig, ax = plt.subplots(figsize=(10,4))\n",
    "sns.stripplot(y=\"field\", x=\"perc\", data=ses_fields_stat, size=8, ax=ax)"
   ]
  },
  {
   "cell_type": "markdown",
   "metadata": {},
   "source": [
    "Percent of missed cases in users and sessions data sets (including categories like \"unknown\")"
   ]
  },
  {
   "cell_type": "code",
   "execution_count": 24,
   "metadata": {
    "collapsed": false,
    "scrolled": true
   },
   "outputs": [
    {
     "name": "stdout",
     "output_type": "stream",
     "text": [
      "Missing values in users data set\n",
      "****************************************\n",
      "field\n",
      "first_affiliate_tracked    54.015676\n",
      "first_browser              12.773892\n",
      "first_device_type           4.997400\n",
      "gender                     44.829024\n",
      "Name: perc, dtype: float64\n",
      "\n",
      "Missing values in sessions data set\n",
      "****************************************\n",
      "field\n",
      "action            0.753482\n",
      "action_detail    20.414446\n",
      "action_type      20.414721\n",
      "device_type       1.999283\n",
      "Name: perc, dtype: float64\n"
     ]
    }
   ],
   "source": [
    "not_specified_levels = [\"-unknown-\", \"untracked\", \"other/unknown\", \"unknown\", \"nan\"]\n",
    "print \"Missing values in users data set\\n\" + \"*\"*40\n",
    "print fields_stat[fields_stat.level.str.lower().isin(not_specified_levels) | fields_stat.level.isnull()] \\\n",
    "                .groupby(\"field\").perc.sum()\n",
    "print \"\\nMissing values in sessions data set\\n\" + \"*\"*40\n",
    "print ses_fields_stat[ses_fields_stat.level.str.lower().isin(not_specified_levels) | ses_fields_stat.level.isnull()] \\\n",
    "                .groupby(\"field\").perc.sum()"
   ]
  },
  {
   "cell_type": "markdown",
   "metadata": {},
   "source": [
    "Continious variables and outliers"
   ]
  },
  {
   "cell_type": "code",
   "execution_count": 25,
   "metadata": {
    "collapsed": false,
    "scrolled": false
   },
   "outputs": [
    {
     "data": {
      "text/plain": [
       "<matplotlib.axes._subplots.AxesSubplot at 0x110191d90>"
      ]
     },
     "execution_count": 25,
     "metadata": {},
     "output_type": "execute_result"
    },
    {
     "data": {
      "image/png": "[encoded data removed]",
      "text/plain": [
       "<matplotlib.figure.Figure at 0x112a87f90>"
      ]
     },
     "metadata": {},
     "output_type": "display_data"
    }
   ],
   "source": [
    "keep = (users.age.notnull()) \n",
    "fig, ax = plt.subplots(1,2, figsize=(13,5))\n",
    "ax[0].set_xscale('log')\n",
    "ax[1].set_xscale('log')\n",
    "sns.distplot(users[keep].age, ax=ax[0], bins=1000, kde=False, color= sns.xkcd_rgb[\"denim blue\"])\n",
    "sns.boxplot('age', data=users[keep], ax=ax[1])"
   ]
  },
  {
   "cell_type": "markdown",
   "metadata": {},
   "source": [
    "TO DO\n",
    "Summary\n"
   ]
  },
  {
   "cell_type": "markdown",
   "metadata": {},
   "source": [
    "### Data Aggregation"
   ]
  },
  {
   "cell_type": "markdown",
   "metadata": {},
   "source": [
    "Session actions are presented in 3 variables. However, considering them separately often does not clarify what user actually done and if it can be important.\n",
    "\n",
    "For example, there is a action = personalize with action\\_type = data. However, variable action\\_detail is very clear - wishlist\\_content\\_update, which is definitely can be an action which users who made a booking performed\n",
    "\n",
    "I combine all three variables in one aggregated variable aggr\\_action of specified format.\n",
    "\n",
    "For each aggr\\_action we will define a short name (agg\\_action\\_number). We will create a table with full and short names for actions. Giving number for each action we will order them by percent of users, who used that action (agg\\_action\\_0 is the most common action among users).\n",
    "\n",
    "This kind of renaming is not important for the algorithm, but can be useful for further exploration and interpretation.\n",
    "\n",
    "In total there are 467 unique aggregated actions. Some part of these actions were used quite rarely by the users.\n",
    "\n",
    "We will add some simple classification of actions mostly to exclude those which were rarely used. All actions which were used by less than 1% of users were combined in special &quot;other&quot; group (called &quot;agg\\_action\\_other&quot;). However, some rarely used actions could still be related to booking activity. In order not to lose this information, actions from &quot;other&quot; group were further combined if they contained the same key\\_word (called &quot;agg\\_action\\_other\\_[key\\_word]&quot;). A simple list of key words were used: [&quot;host&quot;, &quot;book&quot;, &quot;wishlist&quot;, &quot;reserv&quot;, &quot;transl&quot;, &quot;coupon&quot;].\n",
    "\n",
    "Note that all actions which were used by more than 1% of users, were not grouped in any way.  After grouping there 150 unique action groups. Note that use of 1% threshold is quite arbitrary and can be reconsidered in further analysis.\n",
    "\n",
    "Pivot sessions dataset and merge it with users data by user\\_id field. As a result, in combined dataset for each user\\_id there are:\n",
    "\n",
    "- 15 variable coming from users data (age, gender, etc);\n",
    "- 150 actions (coded aggregated and grouped) with corresponding number of uses (number of sessions). If a user did not perform an action, value is set to NaN.\n",
    "- 14 types of devices with corresponding number of uses (number of sessions). If a user did not use specific type of device, value is set to NaN.\n",
    "- Total duration of all sessions for a user\n",
    "- Total number of actions\n",
    "\n",
    "In total, combined dataset has 213451 lines (users) and 182 variables.\n",
    "\n",
    "Note that, only around 35% of users have session data. It is not clear how to impute missing data for all other users and if it makes sense at all. This fact imposes certain restrictions on the choice of classification algorithm."
   ]
  },
  {
   "cell_type": "markdown",
   "metadata": {},
   "source": [
    "### Cleaning and Feature Engeneering"
   ]
  },
  {
   "cell_type": "markdown",
   "metadata": {},
   "source": [
    "Simple basic cleaning was performed. "
   ]
  },
  {
   "cell_type": "markdown",
   "metadata": {},
   "source": [
    "- Date account created was transformed into three variables : year, date, month;\n",
    "- Date first active was transformed into three variables : year, date, month;\n",
    "- Session duration is transformed into days\n",
    "- Action variables are transformed to percentages – percentage of times when specific action was performed by the user\n",
    "- Clean age variable and remove age below 14 and over 95.\n",
    "- Fill Na values with -1\n"
   ]
  },
  {
   "cell_type": "markdown",
   "metadata": {},
   "source": [
    "## Building a model"
   ]
  },
  {
   "cell_type": "markdown",
   "metadata": {},
   "source": [
    "Note that, only around 35% of users have session data. It is not clear how to impute missing data for all other users and if it makes sense at all. This fact imposes certain restrictions on the choice of classification algorithm.\n",
    "\n",
    "Decision trees are known be good in handling data of mixed type and data with missing values. Decision trees are also known to have often weaker predictive power in comparison with some other algorithms. However, using of various ensemble methods (like boosting or random forest) can significantky improve predictive power. \n",
    "\n",
    "I will use Gradient Boosting Trees (GBT) and Random Forest (RF) for multiclass classification. As a comparison, I will also use Random Forest."
   ]
  },
  {
   "cell_type": "markdown",
   "metadata": {},
   "source": [
    "#### _Data portioning_"
   ]
  },
  {
   "cell_type": "markdown",
   "metadata": {},
   "source": [
    "I randomly split the data into two groups: train and evaluation (90% and 10%). Train part is used for model training and optimization of parameters with cross validation. During cross validation part of the data is used for training and part of the data is used for evaluation, so that model performance is always estimated on unseen data. Cross validation has a few iterations when data is split in different ways, at the end scores can be averaged and give single performance estimation.\n",
    "\n",
    "Once models and parameters are selected, they can be trained on the whole train data and applied to untouched evaluation data part. Evaluation step is important in order to provide estimate about model performance in real conditions.\n"
   ]
  },
  {
   "cell_type": "markdown",
   "metadata": {},
   "source": [
    "#### _Cross Validation Results_"
   ]
  },
  {
   "cell_type": "code",
   "execution_count": 71,
   "metadata": {
    "collapsed": true
   },
   "outputs": [],
   "source": [
    "xgb_parvar = pd.read_csv(\"ModelValidation/xgb_parvar_add.csv\")\n",
    "rf_parvar = pd.read_csv(\"ModelValidation/rf_parvar.csv\")"
   ]
  },
  {
   "cell_type": "markdown",
   "metadata": {},
   "source": [
    "For XGB I considered three parameters for tuning: number of estimators, learning rate and tree depth. \n",
    "\n",
    "First for fixed tree depth (equal to 6) learning rate and number of estimators were varied in ranges:\n",
    " * learning rate : 0.1, 0.15, 0.2, 0.3\n",
    " * number of estimators: 20, 25, 30:10:100\n",
    " \n",
    " Once best learning rate and number of estimators were fixed, a few values of tree depth were considerd:\n",
    " * tree depth: 3, 6, 8, 10 "
   ]
  },
  {
   "cell_type": "markdown",
   "metadata": {},
   "source": [
    "Next results of 3-fold cross validation on training data set are presented"
   ]
  },
  {
   "cell_type": "code",
   "execution_count": 73,
   "metadata": {
    "collapsed": false
   },
   "outputs": [
    {
     "data": {
      "text/plain": [
       "<matplotlib.axes._subplots.AxesSubplot at 0x11d411f50>"
      ]
     },
     "execution_count": 73,
     "metadata": {},
     "output_type": "execute_result"
    },
    {
     "data": {
      "image/png": "[encoded data removed]",
      "text/plain": [
       "<matplotlib.figure.Figure at 0x11c1bfa50>"
      ]
     },
     "metadata": {},
     "output_type": "display_data"
    }
   ],
   "source": [
    "fig, ax = plt.subplots(1,2, figsize=(10,5), sharey=True)\n",
    "colormap = plt.cm.gist_ncar\n",
    "plt.gca().set_color_cycle([colormap(i) for i in np.linspace(0, 0.9, 3)])\n",
    "\n",
    "sns.set_style(\"darkgrid\")\n",
    "sns.pointplot(x=\"n_estimators\", y=\"score\", data=xgb_parvar[xgb_parvar.max_depth==6],\n",
    "              hue=\"learning_rate\", scale=0.5, ax=ax[0])\n",
    "sns.pointplot(x=\"max_depth\", y=\"score\", data=xgb_parvar[(xgb_parvar.n_estimators==90) &\n",
    "                                (xgb_parvar.learning_rate==0.1)], scale=0.5, ax=ax[1])\n",
    "\n"
   ]
  },
  {
   "cell_type": "markdown",
   "metadata": {},
   "source": [
    "Learning rates 0.1 and 0.15 with number of estimators greater or equal to 40 outperformed other model runs. \n",
    "Pair (0.1, 90) was selected as the best option from performed calculatiom, note that it is quite stable and performance in close neighborhood almost doest not change. Next, for fixed pair of learning rate and number of estimators I calculated a few values of tree depth and selected __this value__ as optimal.\n",
    "\n",
    "This two step procedure was performed only because of computational issues only, since it takes time to calculated a lot of model runs."
   ]
  },
  {
   "cell_type": "markdown",
   "metadata": {},
   "source": [
    "For Random Forest Model I considered two parameters:\n",
    " * number of estimators : 100, 200, 300, 400\n",
    " * number of features : 15, 50, 100, 150\n"
   ]
  },
  {
   "cell_type": "code",
   "execution_count": 63,
   "metadata": {
    "collapsed": false
   },
   "outputs": [
    {
     "data": {
      "text/plain": [
       "<matplotlib.axes._subplots.AxesSubplot at 0x11c1d3410>"
      ]
     },
     "execution_count": 63,
     "metadata": {},
     "output_type": "execute_result"
    },
    {
     "data": {
      "image/png": "[encoded data removed]",
      "text/plain": [
       "<matplotlib.figure.Figure at 0x11944e050>"
      ]
     },
     "metadata": {},
     "output_type": "display_data"
    }
   ],
   "source": [
    "sns.pointplot(x=\"max_features\", y=\"score\", data=rf_parvar, hue=\"n_estimators\", scale=0.5)"
   ]
  },
  {
   "cell_type": "markdown",
   "metadata": {},
   "source": [
    "As a final model I will use GBM with "
   ]
  },
  {
   "cell_type": "markdown",
   "metadata": {},
   "source": [
    "## Evaluation"
   ]
  },
  {
   "cell_type": "markdown",
   "metadata": {},
   "source": [
    "### Model Performance for different classes"
   ]
  },
  {
   "cell_type": "markdown",
   "metadata": {},
   "source": [
    "### Comparison with random fixed decisions"
   ]
  },
  {
   "cell_type": "markdown",
   "metadata": {},
   "source": [
    "### Feature Importance"
   ]
  },
  {
   "cell_type": "markdown",
   "metadata": {},
   "source": [
    "## Summary"
   ]
  },
  {
   "cell_type": "code",
   "execution_count": null,
   "metadata": {
    "collapsed": true
   },
   "outputs": [],
   "source": []
  }
 ],
 "metadata": {
  "kernelspec": {
   "display_name": "Python 2",
   "language": "python",
   "name": "python2"
  },
  "language_info": {
   "codemirror_mode": {
    "name": "ipython",
    "version": 2
   },
   "file_extension": ".py",
   "mimetype": "text/x-python",
   "name": "python",
   "nbconvert_exporter": "python",
   "pygments_lexer": "ipython2",
   "version": "2.7.13"
  }
 },
 "nbformat": 4,
 "nbformat_minor": 2
}
