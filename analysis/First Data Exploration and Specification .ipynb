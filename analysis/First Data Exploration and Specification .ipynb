{
 "cells": [
  {
   "cell_type": "markdown",
   "metadata": {},
   "source": [
    "# Table of Contents\n",
    "* [Data Exploration and Specification](#Data-Exploration-and-Specification)\n",
    "\t* [Data Specification](#Data-Specification)\n",
    "\t* [Variable screening](#Variable-screening)\n",
    "\t\t* [Date Variables](#Date-Variables)\n",
    "\t\t* [Categorical Variables](#Categorical-Variables)\n",
    "\t\t* [Continous variables](#Continous-variables)\n",
    "\t\t* [Missed values](#Missed-values)\n",
    "\t\t* [Sessions strucure](#Sessions-strucure)\n"
   ]
  },
  {
   "cell_type": "markdown",
   "metadata": {
    "deletable": true,
    "editable": true
   },
   "source": [
    "# Data Exploration and Specification"
   ]
  },
  {
   "cell_type": "markdown",
   "metadata": {
    "deletable": true,
    "editable": true
   },
   "source": [
    "<a id='section1'></a>"
   ]
  },
  {
   "cell_type": "markdown",
   "metadata": {},
   "source": [
    "## Data Specification"
   ]
  },
  {
   "cell_type": "code",
   "execution_count": 22,
   "metadata": {
    "collapsed": false,
    "deletable": true,
    "editable": true
   },
   "outputs": [],
   "source": [
    "import pandas as pd\n",
    "import seaborn as sns\n",
    "import numpy as np\n",
    "import matplotlib.pyplot as plt\n",
    "\n",
    "%matplotlib inline"
   ]
  },
  {
   "cell_type": "markdown",
   "metadata": {
    "deletable": true,
    "editable": true
   },
   "source": [
    "Read data from all provided data files."
   ]
  },
  {
   "cell_type": "code",
   "execution_count": 23,
   "metadata": {
    "collapsed": true
   },
   "outputs": [],
   "source": [
    "users_path = 'data/train_users_2.csv'\n",
    "countries_path = 'data/countries.csv'\n",
    "age_genders_path = 'data/age_gender_bkts.csv'\n",
    "sessions_path = 'data/sessions.csv'\n",
    "test_users_path = 'data/test_users.csv'"
   ]
  },
  {
   "cell_type": "code",
   "execution_count": 24,
   "metadata": {
    "collapsed": false,
    "deletable": true,
    "editable": true
   },
   "outputs": [],
   "source": [
    "users = pd.read_csv(users_path)\n",
    "countries = pd.read_csv(countries_path)\n",
    "age_genders = pd.read_csv(age_genders_path)\n",
    "sessions = pd.read_csv(sessions_path)\n",
    "test_users = pd.read_csv(test_users_path) "
   ]
  },
  {
   "cell_type": "code",
   "execution_count": 25,
   "metadata": {
    "collapsed": true
   },
   "outputs": [],
   "source": [
    "import os\n",
    "def convert_bytes(num):\n",
    "    \"\"\"\n",
    "    this function will convert bytes to MB.... GB... etc\n",
    "    \"\"\"\n",
    "    for x in ['bytes', 'KB', 'MB', 'GB', 'TB']:\n",
    "        if num < 1024.0:\n",
    "            return \"%3.1f %s\" % (num, x)\n",
    "        num /= 1024.0"
   ]
  },
  {
   "cell_type": "code",
   "execution_count": 26,
   "metadata": {
    "collapsed": false,
    "deletable": true,
    "editable": true
   },
   "outputs": [
    {
     "name": "stdout",
     "output_type": "stream",
     "text": [
      "Datasets details:\n",
      "users           | 23.7 MB         | 16  columns | 213451       lines \n",
      "countries       | 632.0 bytes     | 7   columns | 10           lines \n",
      "age_genders     | 11.6 KB         | 5   columns | 420          lines \n",
      "sessions        | 602.4 MB        | 6   columns | 10567737     lines \n",
      "test_users      | 6.4 MB          | 15  columns | 62096        lines \n"
     ]
    }
   ],
   "source": [
    "print \"Datasets details:\"\n",
    "width = 15\n",
    "for f in [\"users\", \"countries\", \"age_genders\", \"sessions\", \"test_users\"]:\n",
    "    size = convert_bytes(os.path.getsize(eval(f + \"_path\") ))\n",
    "    print \"{} | {} | {} columns | {} lines \".format(f.ljust(width), size.ljust(width), \\\n",
    "                                                   str(eval(f).shape[1]).ljust(3), \\\n",
    "                                                   str(eval(f).shape[0]).ljust(12))"
   ]
  },
  {
   "cell_type": "markdown",
   "metadata": {
    "deletable": true,
    "editable": true
   },
   "source": [
    "We will briefly look at these datasets to understand what kind of variables we will have for analysis. "
   ]
  },
  {
   "cell_type": "code",
   "execution_count": 27,
   "metadata": {
    "collapsed": false,
    "deletable": true,
    "editable": true
   },
   "outputs": [
    {
     "data": {
      "text/html": [
       "<div>\n",
       "<table border=\"1\" class=\"dataframe\">\n",
       "  <thead>\n",
       "    <tr style=\"text-align: right;\">\n",
       "      <th></th>\n",
       "      <th>count (train)</th>\n",
       "      <th>unique (train)</th>\n",
       "      <th>top (train)</th>\n",
       "      <th>count (test)</th>\n",
       "      <th>unique (test)</th>\n",
       "      <th>top (test)</th>\n",
       "      <th>perc missed (train)</th>\n",
       "      <th>perc missed (test)</th>\n",
       "    </tr>\n",
       "  </thead>\n",
       "  <tbody>\n",
       "    <tr>\n",
       "      <th>id</th>\n",
       "      <td>213451</td>\n",
       "      <td>213451</td>\n",
       "      <td>wm38s2q7pp</td>\n",
       "      <td>62096</td>\n",
       "      <td>62096</td>\n",
       "      <td>p5xo3bxz4w</td>\n",
       "      <td>0</td>\n",
       "      <td>0</td>\n",
       "    </tr>\n",
       "    <tr>\n",
       "      <th>date_account_created</th>\n",
       "      <td>213451</td>\n",
       "      <td>1634</td>\n",
       "      <td>2014-05-13</td>\n",
       "      <td>62096</td>\n",
       "      <td>92</td>\n",
       "      <td>2014-07-23</td>\n",
       "      <td>0</td>\n",
       "      <td>0</td>\n",
       "    </tr>\n",
       "    <tr>\n",
       "      <th>timestamp_first_active</th>\n",
       "      <td>213451</td>\n",
       "      <td>NaN</td>\n",
       "      <td>NaN</td>\n",
       "      <td>62096</td>\n",
       "      <td>NaN</td>\n",
       "      <td>NaN</td>\n",
       "      <td>0</td>\n",
       "      <td>0</td>\n",
       "    </tr>\n",
       "    <tr>\n",
       "      <th>date_first_booking</th>\n",
       "      <td>88908</td>\n",
       "      <td>1976</td>\n",
       "      <td>2014-05-22</td>\n",
       "      <td>0</td>\n",
       "      <td>NaN</td>\n",
       "      <td>NaN</td>\n",
       "      <td>58.3473</td>\n",
       "      <td>100</td>\n",
       "    </tr>\n",
       "    <tr>\n",
       "      <th>gender</th>\n",
       "      <td>213451</td>\n",
       "      <td>4</td>\n",
       "      <td>-unknown-</td>\n",
       "      <td>62096</td>\n",
       "      <td>4</td>\n",
       "      <td>-unknown-</td>\n",
       "      <td>0</td>\n",
       "      <td>0</td>\n",
       "    </tr>\n",
       "    <tr>\n",
       "      <th>age</th>\n",
       "      <td>125461</td>\n",
       "      <td>NaN</td>\n",
       "      <td>NaN</td>\n",
       "      <td>33220</td>\n",
       "      <td>NaN</td>\n",
       "      <td>NaN</td>\n",
       "      <td>41.2226</td>\n",
       "      <td>46.5022</td>\n",
       "    </tr>\n",
       "    <tr>\n",
       "      <th>signup_method</th>\n",
       "      <td>213451</td>\n",
       "      <td>3</td>\n",
       "      <td>basic</td>\n",
       "      <td>62096</td>\n",
       "      <td>4</td>\n",
       "      <td>basic</td>\n",
       "      <td>0</td>\n",
       "      <td>0</td>\n",
       "    </tr>\n",
       "    <tr>\n",
       "      <th>signup_flow</th>\n",
       "      <td>213451</td>\n",
       "      <td>NaN</td>\n",
       "      <td>NaN</td>\n",
       "      <td>62096</td>\n",
       "      <td>NaN</td>\n",
       "      <td>NaN</td>\n",
       "      <td>0</td>\n",
       "      <td>0</td>\n",
       "    </tr>\n",
       "    <tr>\n",
       "      <th>language</th>\n",
       "      <td>213451</td>\n",
       "      <td>25</td>\n",
       "      <td>en</td>\n",
       "      <td>62096</td>\n",
       "      <td>24</td>\n",
       "      <td>en</td>\n",
       "      <td>0</td>\n",
       "      <td>0</td>\n",
       "    </tr>\n",
       "    <tr>\n",
       "      <th>affiliate_channel</th>\n",
       "      <td>213451</td>\n",
       "      <td>8</td>\n",
       "      <td>direct</td>\n",
       "      <td>62096</td>\n",
       "      <td>7</td>\n",
       "      <td>direct</td>\n",
       "      <td>0</td>\n",
       "      <td>0</td>\n",
       "    </tr>\n",
       "    <tr>\n",
       "      <th>affiliate_provider</th>\n",
       "      <td>213451</td>\n",
       "      <td>18</td>\n",
       "      <td>direct</td>\n",
       "      <td>62096</td>\n",
       "      <td>17</td>\n",
       "      <td>direct</td>\n",
       "      <td>0</td>\n",
       "      <td>0</td>\n",
       "    </tr>\n",
       "    <tr>\n",
       "      <th>first_affiliate_tracked</th>\n",
       "      <td>207386</td>\n",
       "      <td>7</td>\n",
       "      <td>untracked</td>\n",
       "      <td>62076</td>\n",
       "      <td>7</td>\n",
       "      <td>untracked</td>\n",
       "      <td>2.8414</td>\n",
       "      <td>0.0322082</td>\n",
       "    </tr>\n",
       "    <tr>\n",
       "      <th>signup_app</th>\n",
       "      <td>213451</td>\n",
       "      <td>4</td>\n",
       "      <td>Web</td>\n",
       "      <td>62096</td>\n",
       "      <td>4</td>\n",
       "      <td>Web</td>\n",
       "      <td>0</td>\n",
       "      <td>0</td>\n",
       "    </tr>\n",
       "    <tr>\n",
       "      <th>first_device_type</th>\n",
       "      <td>213451</td>\n",
       "      <td>9</td>\n",
       "      <td>Mac Desktop</td>\n",
       "      <td>62096</td>\n",
       "      <td>9</td>\n",
       "      <td>iPhone</td>\n",
       "      <td>0</td>\n",
       "      <td>0</td>\n",
       "    </tr>\n",
       "    <tr>\n",
       "      <th>first_browser</th>\n",
       "      <td>213451</td>\n",
       "      <td>52</td>\n",
       "      <td>Chrome</td>\n",
       "      <td>62096</td>\n",
       "      <td>31</td>\n",
       "      <td>-unknown-</td>\n",
       "      <td>0</td>\n",
       "      <td>0</td>\n",
       "    </tr>\n",
       "    <tr>\n",
       "      <th>country_destination</th>\n",
       "      <td>213451</td>\n",
       "      <td>12</td>\n",
       "      <td>NDF</td>\n",
       "      <td>NaN</td>\n",
       "      <td>NaN</td>\n",
       "      <td>NaN</td>\n",
       "      <td>0</td>\n",
       "      <td>NaN</td>\n",
       "    </tr>\n",
       "  </tbody>\n",
       "</table>\n",
       "</div>"
      ],
      "text/plain": [
       "                        count (train) unique (train)  top (train)  \\\n",
       "id                             213451         213451   wm38s2q7pp   \n",
       "date_account_created           213451           1634   2014-05-13   \n",
       "timestamp_first_active         213451            NaN          NaN   \n",
       "date_first_booking              88908           1976   2014-05-22   \n",
       "gender                         213451              4    -unknown-   \n",
       "age                            125461            NaN          NaN   \n",
       "signup_method                  213451              3        basic   \n",
       "signup_flow                    213451            NaN          NaN   \n",
       "language                       213451             25           en   \n",
       "affiliate_channel              213451              8       direct   \n",
       "affiliate_provider             213451             18       direct   \n",
       "first_affiliate_tracked        207386              7    untracked   \n",
       "signup_app                     213451              4          Web   \n",
       "first_device_type              213451              9  Mac Desktop   \n",
       "first_browser                  213451             52       Chrome   \n",
       "country_destination            213451             12          NDF   \n",
       "\n",
       "                        count (test) unique (test)  top (test)  \\\n",
       "id                             62096         62096  p5xo3bxz4w   \n",
       "date_account_created           62096            92  2014-07-23   \n",
       "timestamp_first_active         62096           NaN         NaN   \n",
       "date_first_booking                 0           NaN         NaN   \n",
       "gender                         62096             4   -unknown-   \n",
       "age                            33220           NaN         NaN   \n",
       "signup_method                  62096             4       basic   \n",
       "signup_flow                    62096           NaN         NaN   \n",
       "language                       62096            24          en   \n",
       "affiliate_channel              62096             7      direct   \n",
       "affiliate_provider             62096            17      direct   \n",
       "first_affiliate_tracked        62076             7   untracked   \n",
       "signup_app                     62096             4         Web   \n",
       "first_device_type              62096             9      iPhone   \n",
       "first_browser                  62096            31   -unknown-   \n",
       "country_destination              NaN           NaN         NaN   \n",
       "\n",
       "                        perc missed (train) perc missed (test)  \n",
       "id                                        0                  0  \n",
       "date_account_created                      0                  0  \n",
       "timestamp_first_active                    0                  0  \n",
       "date_first_booking                  58.3473                100  \n",
       "gender                                    0                  0  \n",
       "age                                 41.2226            46.5022  \n",
       "signup_method                             0                  0  \n",
       "signup_flow                               0                  0  \n",
       "language                                  0                  0  \n",
       "affiliate_channel                         0                  0  \n",
       "affiliate_provider                        0                  0  \n",
       "first_affiliate_tracked              2.8414          0.0322082  \n",
       "signup_app                                0                  0  \n",
       "first_device_type                         0                  0  \n",
       "first_browser                             0                  0  \n",
       "country_destination                       0                NaN  "
      ]
     },
     "execution_count": 27,
     "metadata": {},
     "output_type": "execute_result"
    }
   ],
   "source": [
    "df_users = users.describe(include='all').transpose()[['count', 'unique', 'top']]\n",
    "df_all_users = df_users.join(test_users.describe(include='all').transpose()[['count', 'unique', 'top']],\n",
    "                             lsuffix=\" (train)\", rsuffix=\" (test)\")\n",
    "df_all_users[\"perc missed (train)\"] = (1 - df_all_users[\"count (train)\"]/users.shape[0]) * 100\n",
    "df_all_users[\"perc missed (test)\"] = (1 - df_all_users[\"count (test)\"]/test_users.shape[0]) * 100\n",
    "df_all_users"
   ]
  },
  {
   "cell_type": "markdown",
   "metadata": {
    "deletable": true,
    "editable": true
   },
   "source": [
    "<p>As expected test_users dataset contains the same fields as users except for target variable country_destination. For detailed information about variables meaning see Data Specification document.\n",
    "<br>Since date_first_booking variable is directly connected to the fact of booking, it is not presented in the test dataset. As was stated by data provider, this variable appeared in the train dataset by accident and should not be considered.</p>\n",
    "\n",
    "The following variables will be used for further analysis:\n",
    "* *Date variables*\n",
    "    * date_account_created\n",
    "    * timestamp_first_active (will be transformed to date later) \n",
    "* *Categorical variables*\n",
    "    * gender\n",
    "    * signup_method\n",
    "    * signup_flow\n",
    "    * language\n",
    "    * affiliate_channel\n",
    "    * affiliate_provider\n",
    "    * first_affiliate_tracked\n",
    "    * signup_app\n",
    "    * first_device_type\n",
    "    * first_browser\n",
    "* *Continuous variables*\n",
    "    * age\n",
    "* *Target variable (Categorical)* \n",
    "    * country_destination\n",
    "    \n",
    "We alredy can notice that some categorical variables have high number of level, e.g. first_browser (52 levels in training dataset), language(25 levels). This variables can be difficult for analysis (especialy if levels are also unbalanced).\n",
    "<br>\n",
    "Percent of missing values for age is 41% in train dataset and 46% in test dataset. Nearly half values for this variables are missing!\n",
    "For variable first_affiliate_tracked nearly 2.8% of values are missing in train dataset and only 0.03% in test dataset. "
   ]
  },
  {
   "cell_type": "code",
   "execution_count": 28,
   "metadata": {
    "collapsed": false,
    "deletable": true,
    "editable": true
   },
   "outputs": [
    {
     "data": {
      "text/html": [
       "<div>\n",
       "<table border=\"1\" class=\"dataframe\">\n",
       "  <thead>\n",
       "    <tr style=\"text-align: right;\">\n",
       "      <th></th>\n",
       "      <th>count</th>\n",
       "      <th>unique</th>\n",
       "      <th>top</th>\n",
       "      <th>perc missing</th>\n",
       "    </tr>\n",
       "  </thead>\n",
       "  <tbody>\n",
       "    <tr>\n",
       "      <th>user_id</th>\n",
       "      <td>10533241</td>\n",
       "      <td>135483</td>\n",
       "      <td>mxqbh3ykxl</td>\n",
       "      <td>0.326428</td>\n",
       "    </tr>\n",
       "    <tr>\n",
       "      <th>action</th>\n",
       "      <td>10488111</td>\n",
       "      <td>359</td>\n",
       "      <td>show</td>\n",
       "      <td>0.753482</td>\n",
       "    </tr>\n",
       "    <tr>\n",
       "      <th>action_type</th>\n",
       "      <td>9441533</td>\n",
       "      <td>10</td>\n",
       "      <td>view</td>\n",
       "      <td>10.657</td>\n",
       "    </tr>\n",
       "    <tr>\n",
       "      <th>action_detail</th>\n",
       "      <td>9441533</td>\n",
       "      <td>155</td>\n",
       "      <td>view_search_results</td>\n",
       "      <td>10.657</td>\n",
       "    </tr>\n",
       "    <tr>\n",
       "      <th>device_type</th>\n",
       "      <td>10567737</td>\n",
       "      <td>14</td>\n",
       "      <td>Mac Desktop</td>\n",
       "      <td>0</td>\n",
       "    </tr>\n",
       "    <tr>\n",
       "      <th>secs_elapsed</th>\n",
       "      <td>1.04317e+07</td>\n",
       "      <td>NaN</td>\n",
       "      <td>NaN</td>\n",
       "      <td>1.28723</td>\n",
       "    </tr>\n",
       "  </tbody>\n",
       "</table>\n",
       "</div>"
      ],
      "text/plain": [
       "                     count  unique                  top perc missing\n",
       "user_id           10533241  135483           mxqbh3ykxl     0.326428\n",
       "action            10488111     359                 show     0.753482\n",
       "action_type        9441533      10                 view       10.657\n",
       "action_detail      9441533     155  view_search_results       10.657\n",
       "device_type       10567737      14          Mac Desktop            0\n",
       "secs_elapsed   1.04317e+07     NaN                  NaN      1.28723"
      ]
     },
     "execution_count": 28,
     "metadata": {},
     "output_type": "execute_result"
    }
   ],
   "source": [
    "sessions_desc = sessions.describe(include='all').transpose()[['count', 'unique', 'top']]\n",
    "sessions_desc[\"perc missing\"] = (1 - sessions_desc[\"count\"]/sessions.shape[0]) * 100\n",
    "sessions_desc"
   ]
  },
  {
   "cell_type": "markdown",
   "metadata": {
    "deletable": true,
    "editable": true
   },
   "source": [
    "Session dataset provides information about web sessions for users from users and test_users datasets\n",
    "In sessions dataset there are 6 fields, user_id field can be used for joining with users and test_users data set.\n",
    "\n",
    "From preceding table we can see that session information is provided for 135483 users, in average for each user there are 78 actions. \n",
    "\n",
    "The following variables will be used for further analysis:\n",
    "* *Categorical variables*\n",
    "    * action\n",
    "    * action_type\n",
    "    * action_detail\n",
    "    * device_type\n",
    "* *Continuous variables*\n",
    "    * secs_elapsed\n",
    "    \n",
    "In this dataset there are categorical variables with quite large number of levels: action (359 levels), action_detail (155 levels)\n",
    "Variable user_id is a foreign key used to join sessions with users dataset, but this variable also has some missing values - 0.3%.\n",
    "Such action specifications as action_type and action_detail have nearly 10% missing values, but variable action itself has only 0.7% missing values.\n",
    "    "
   ]
  },
  {
   "cell_type": "code",
   "execution_count": 29,
   "metadata": {
    "collapsed": false,
    "deletable": true,
    "editable": true
   },
   "outputs": [
    {
     "data": {
      "text/html": [
       "<div>\n",
       "<table border=\"1\" class=\"dataframe\">\n",
       "  <thead>\n",
       "    <tr style=\"text-align: right;\">\n",
       "      <th></th>\n",
       "      <th>age_bucket</th>\n",
       "      <th>country_destination</th>\n",
       "      <th>gender</th>\n",
       "      <th>population_in_thousands</th>\n",
       "      <th>year</th>\n",
       "    </tr>\n",
       "  </thead>\n",
       "  <tbody>\n",
       "    <tr>\n",
       "      <th>count</th>\n",
       "      <td>420</td>\n",
       "      <td>420</td>\n",
       "      <td>420</td>\n",
       "      <td>420.0</td>\n",
       "      <td>420.0</td>\n",
       "    </tr>\n",
       "    <tr>\n",
       "      <th>unique</th>\n",
       "      <td>21</td>\n",
       "      <td>10</td>\n",
       "      <td>2</td>\n",
       "      <td>NaN</td>\n",
       "      <td>NaN</td>\n",
       "    </tr>\n",
       "    <tr>\n",
       "      <th>top</th>\n",
       "      <td>85-89</td>\n",
       "      <td>US</td>\n",
       "      <td>male</td>\n",
       "      <td>NaN</td>\n",
       "      <td>NaN</td>\n",
       "    </tr>\n",
       "  </tbody>\n",
       "</table>\n",
       "</div>"
      ],
      "text/plain": [
       "       age_bucket country_destination gender  population_in_thousands   year\n",
       "count         420                 420    420                    420.0  420.0\n",
       "unique         21                  10      2                      NaN    NaN\n",
       "top         85-89                  US   male                      NaN    NaN"
      ]
     },
     "execution_count": 29,
     "metadata": {},
     "output_type": "execute_result"
    }
   ],
   "source": [
    "age_genders.describe(include='all')[:3]"
   ]
  },
  {
   "cell_type": "code",
   "execution_count": 30,
   "metadata": {
    "collapsed": false,
    "deletable": true,
    "editable": true
   },
   "outputs": [
    {
     "data": {
      "text/html": [
       "<div>\n",
       "<table border=\"1\" class=\"dataframe\">\n",
       "  <thead>\n",
       "    <tr style=\"text-align: right;\">\n",
       "      <th></th>\n",
       "      <th>country_destination</th>\n",
       "      <th>lat_destination</th>\n",
       "      <th>lng_destination</th>\n",
       "      <th>distance_km</th>\n",
       "      <th>destination_km2</th>\n",
       "      <th>destination_language</th>\n",
       "      <th>language_levenshtein_distance</th>\n",
       "    </tr>\n",
       "  </thead>\n",
       "  <tbody>\n",
       "    <tr>\n",
       "      <th>0</th>\n",
       "      <td>AU</td>\n",
       "      <td>-26.853388</td>\n",
       "      <td>133.275160</td>\n",
       "      <td>15297.7440</td>\n",
       "      <td>7741220.0</td>\n",
       "      <td>eng</td>\n",
       "      <td>0.00</td>\n",
       "    </tr>\n",
       "    <tr>\n",
       "      <th>1</th>\n",
       "      <td>CA</td>\n",
       "      <td>62.393303</td>\n",
       "      <td>-96.818146</td>\n",
       "      <td>2828.1333</td>\n",
       "      <td>9984670.0</td>\n",
       "      <td>eng</td>\n",
       "      <td>0.00</td>\n",
       "    </tr>\n",
       "    <tr>\n",
       "      <th>2</th>\n",
       "      <td>DE</td>\n",
       "      <td>51.165707</td>\n",
       "      <td>10.452764</td>\n",
       "      <td>7879.5680</td>\n",
       "      <td>357022.0</td>\n",
       "      <td>deu</td>\n",
       "      <td>72.61</td>\n",
       "    </tr>\n",
       "    <tr>\n",
       "      <th>3</th>\n",
       "      <td>ES</td>\n",
       "      <td>39.896027</td>\n",
       "      <td>-2.487694</td>\n",
       "      <td>7730.7240</td>\n",
       "      <td>505370.0</td>\n",
       "      <td>spa</td>\n",
       "      <td>92.25</td>\n",
       "    </tr>\n",
       "  </tbody>\n",
       "</table>\n",
       "</div>"
      ],
      "text/plain": [
       "  country_destination  lat_destination  lng_destination  distance_km  \\\n",
       "0                  AU       -26.853388       133.275160   15297.7440   \n",
       "1                  CA        62.393303       -96.818146    2828.1333   \n",
       "2                  DE        51.165707        10.452764    7879.5680   \n",
       "3                  ES        39.896027        -2.487694    7730.7240   \n",
       "\n",
       "   destination_km2 destination_language   language_levenshtein_distance  \n",
       "0        7741220.0                   eng                           0.00  \n",
       "1        9984670.0                   eng                           0.00  \n",
       "2         357022.0                   deu                          72.61  \n",
       "3         505370.0                   spa                          92.25  "
      ]
     },
     "execution_count": 30,
     "metadata": {},
     "output_type": "execute_result"
    }
   ],
   "source": [
    "countries.head(4)"
   ]
  },
  {
   "cell_type": "markdown",
   "metadata": {
    "deletable": true,
    "editable": true
   },
   "source": [
    "Remainig datasets are age_genders and countries. These datasets do not provide information directly about users, so presented variables can not be used as predictors. However they can be involved somehow in analysis, countries dataset provides some additional information about target variable \n",
    "\n"
   ]
  },
  {
   "cell_type": "markdown",
   "metadata": {},
   "source": [
    "## Variable screening "
   ]
  },
  {
   "cell_type": "markdown",
   "metadata": {
    "deletable": true,
    "editable": true
   },
   "source": [
    "<a id='section3'></a>\n",
    "The target value is *destination country*, according to specification there are \n",
    "12 possible variants: 'US', 'FR', 'CA', 'GB', 'ES', 'IT', 'PT', 'NL','DE', 'AU', 'NDF' (no destination found), and 'other'."
   ]
  },
  {
   "cell_type": "code",
   "execution_count": 31,
   "metadata": {
    "collapsed": false,
    "deletable": true,
    "editable": true
   },
   "outputs": [
    {
     "data": {
      "text/plain": [
       "<matplotlib.axes._subplots.AxesSubplot at 0x116bce550>"
      ]
     },
     "execution_count": 31,
     "metadata": {},
     "output_type": "execute_result"
    },
    {
     "data": {
      "image/png": "[encoded data removed]",
      "text/plain": [
       "<matplotlib.figure.Figure at 0x116bc02d0>"
      ]
     },
     "metadata": {},
     "output_type": "display_data"
    }
   ],
   "source": [
    "counts_dest = users.country_destination.value_counts(dropna=False)\n",
    "perc_dest = 100 * counts_dest/users.shape[0]\n",
    "sns.barplot(perc_dest.index, perc_dest.values)"
   ]
  },
  {
   "cell_type": "markdown",
   "metadata": {},
   "source": [
    "Number of cases and percent in each target class"
   ]
  },
  {
   "cell_type": "code",
   "execution_count": 32,
   "metadata": {
    "collapsed": false,
    "deletable": true,
    "editable": true,
    "scrolled": true
   },
   "outputs": [
    {
     "data": {
      "text/html": [
       "<div>\n",
       "<table border=\"1\" class=\"dataframe\">\n",
       "  <thead>\n",
       "    <tr style=\"text-align: right;\">\n",
       "      <th></th>\n",
       "      <th>NDF</th>\n",
       "      <th>US</th>\n",
       "      <th>other</th>\n",
       "      <th>FR</th>\n",
       "      <th>IT</th>\n",
       "      <th>GB</th>\n",
       "      <th>ES</th>\n",
       "      <th>CA</th>\n",
       "      <th>DE</th>\n",
       "      <th>NL</th>\n",
       "      <th>AU</th>\n",
       "      <th>PT</th>\n",
       "    </tr>\n",
       "  </thead>\n",
       "  <tbody>\n",
       "    <tr>\n",
       "      <th># cases</th>\n",
       "      <td>124543</td>\n",
       "      <td>62376</td>\n",
       "      <td>10094</td>\n",
       "      <td>5023</td>\n",
       "      <td>2835</td>\n",
       "      <td>2324</td>\n",
       "      <td>2249</td>\n",
       "      <td>1428</td>\n",
       "      <td>1061</td>\n",
       "      <td>762</td>\n",
       "      <td>539</td>\n",
       "      <td>217</td>\n",
       "    </tr>\n",
       "    <tr>\n",
       "      <th>% cases</th>\n",
       "      <td>58.3473</td>\n",
       "      <td>29.2226</td>\n",
       "      <td>4.72895</td>\n",
       "      <td>2.35323</td>\n",
       "      <td>1.32817</td>\n",
       "      <td>1.08877</td>\n",
       "      <td>1.05364</td>\n",
       "      <td>0.669006</td>\n",
       "      <td>0.49707</td>\n",
       "      <td>0.356991</td>\n",
       "      <td>0.252517</td>\n",
       "      <td>0.101663</td>\n",
       "    </tr>\n",
       "  </tbody>\n",
       "</table>\n",
       "</div>"
      ],
      "text/plain": [
       "             NDF       US    other       FR       IT       GB       ES  \\\n",
       "# cases   124543    62376    10094     5023     2835     2324     2249   \n",
       "% cases  58.3473  29.2226  4.72895  2.35323  1.32817  1.08877  1.05364   \n",
       "\n",
       "               CA       DE        NL        AU        PT  \n",
       "# cases      1428     1061       762       539       217  \n",
       "% cases  0.669006  0.49707  0.356991  0.252517  0.101663  "
      ]
     },
     "execution_count": 32,
     "metadata": {},
     "output_type": "execute_result"
    }
   ],
   "source": [
    "pd.DataFrame({\"# cases\" : counts_dest.apply(lambda v : \"%d\" % v), \"% cases\" : perc_dest}).transpose()"
   ]
  },
  {
   "cell_type": "markdown",
   "metadata": {
    "deletable": true,
    "editable": true
   },
   "source": [
    "Target variable country_destination is quite unbalanced. Most cases (nearly 60%) correspons to 'NDF' - situation when booking was not made. The second destination is 'US' - nearly 30 % of all trainig cases. This means that only 10% of cases corresponds to other destinations, where 5% relates to not listed destination ('other' group). "
   ]
  },
  {
   "cell_type": "markdown",
   "metadata": {},
   "source": [
    "### Date Variables"
   ]
  },
  {
   "cell_type": "markdown",
   "metadata": {},
   "source": [
    "Now we will consider date variables.\n",
    "<br> First convert variables to datetime type, transform timestamp_first_active to date_first_active"
   ]
  },
  {
   "cell_type": "code",
   "execution_count": 33,
   "metadata": {
    "collapsed": false,
    "deletable": true,
    "editable": true
   },
   "outputs": [
    {
     "data": {
      "text/html": [
       "<div>\n",
       "<table border=\"1\" class=\"dataframe\">\n",
       "  <thead>\n",
       "    <tr style=\"text-align: right;\">\n",
       "      <th></th>\n",
       "      <th>date_account_created</th>\n",
       "      <th>date_first_booking</th>\n",
       "      <th>date_first_active</th>\n",
       "    </tr>\n",
       "  </thead>\n",
       "  <tbody>\n",
       "    <tr>\n",
       "      <th>count</th>\n",
       "      <td>213451</td>\n",
       "      <td>88908</td>\n",
       "      <td>213451</td>\n",
       "    </tr>\n",
       "    <tr>\n",
       "      <th>unique</th>\n",
       "      <td>1634</td>\n",
       "      <td>1976</td>\n",
       "      <td>1639</td>\n",
       "    </tr>\n",
       "    <tr>\n",
       "      <th>top</th>\n",
       "      <td>2014-05-13 00:00:00</td>\n",
       "      <td>2014-05-22 00:00:00</td>\n",
       "      <td>2014-05-13 00:00:00</td>\n",
       "    </tr>\n",
       "    <tr>\n",
       "      <th>freq</th>\n",
       "      <td>674</td>\n",
       "      <td>248</td>\n",
       "      <td>673</td>\n",
       "    </tr>\n",
       "    <tr>\n",
       "      <th>first</th>\n",
       "      <td>2010-01-01 00:00:00</td>\n",
       "      <td>2010-01-02 00:00:00</td>\n",
       "      <td>2009-03-19 00:00:00</td>\n",
       "    </tr>\n",
       "    <tr>\n",
       "      <th>last</th>\n",
       "      <td>2014-06-30 00:00:00</td>\n",
       "      <td>2015-06-29 00:00:00</td>\n",
       "      <td>2014-06-30 00:00:00</td>\n",
       "    </tr>\n",
       "  </tbody>\n",
       "</table>\n",
       "</div>"
      ],
      "text/plain": [
       "       date_account_created   date_first_booking    date_first_active\n",
       "count                213451                88908               213451\n",
       "unique                 1634                 1976                 1639\n",
       "top     2014-05-13 00:00:00  2014-05-22 00:00:00  2014-05-13 00:00:00\n",
       "freq                    674                  248                  673\n",
       "first   2010-01-01 00:00:00  2010-01-02 00:00:00  2009-03-19 00:00:00\n",
       "last    2014-06-30 00:00:00  2015-06-29 00:00:00  2014-06-30 00:00:00"
      ]
     },
     "execution_count": 33,
     "metadata": {},
     "output_type": "execute_result"
    }
   ],
   "source": [
    "users['date_account_created'] = pd.to_datetime(users['date_account_created'])\n",
    "users['date_first_booking'] = pd.to_datetime(users['date_first_booking'])\n",
    "users['date_first_active'] = pd.to_datetime((users.timestamp_first_active // 1000000), format='%Y%m%d')\n",
    "users[[\"date_account_created\", \"date_first_booking\", \"date_first_active\"]].describe()"
   ]
  },
  {
   "cell_type": "markdown",
   "metadata": {
    "deletable": true,
    "editable": true
   },
   "source": [
    "date_first_active can be before date_account_created "
   ]
  },
  {
   "cell_type": "code",
   "execution_count": 34,
   "metadata": {
    "collapsed": false,
    "deletable": true,
    "editable": true
   },
   "outputs": [
    {
     "name": "stdout",
     "output_type": "stream",
     "text": [
      "Number and percent of cases for positive signup_delay: 178, 0.083% \n"
     ]
    }
   ],
   "source": [
    "signup_delay = users[\"date_account_created\"] - users[\"date_first_active\"]\n",
    "signup_delay = signup_delay.apply(lambda d: d/np.timedelta64(1,'D')) \n",
    "print \"Number and percent of cases for positive signup_delay: %d, %.3f%% \" % \\\n",
    "                  (((signup_delay>0).sum()), (100 * float((signup_delay>0).sum())/users.shape[0]) )"
   ]
  },
  {
   "cell_type": "code",
   "execution_count": 35,
   "metadata": {
    "collapsed": false,
    "deletable": true,
    "editable": true
   },
   "outputs": [
    {
     "data": {
      "text/html": [
       "<div>\n",
       "<table border=\"1\" class=\"dataframe\">\n",
       "  <thead>\n",
       "    <tr style=\"text-align: right;\">\n",
       "      <th></th>\n",
       "      <th>date_account_created</th>\n",
       "      <th>date_first_active</th>\n",
       "    </tr>\n",
       "  </thead>\n",
       "  <tbody>\n",
       "    <tr>\n",
       "      <th>count</th>\n",
       "      <td>62096</td>\n",
       "      <td>62096</td>\n",
       "    </tr>\n",
       "    <tr>\n",
       "      <th>unique</th>\n",
       "      <td>92</td>\n",
       "      <td>92</td>\n",
       "    </tr>\n",
       "    <tr>\n",
       "      <th>top</th>\n",
       "      <td>2014-07-23 00:00:00</td>\n",
       "      <td>2014-07-23 00:00:00</td>\n",
       "    </tr>\n",
       "    <tr>\n",
       "      <th>freq</th>\n",
       "      <td>1105</td>\n",
       "      <td>1105</td>\n",
       "    </tr>\n",
       "    <tr>\n",
       "      <th>first</th>\n",
       "      <td>2014-07-01 00:00:00</td>\n",
       "      <td>2014-07-01 00:00:00</td>\n",
       "    </tr>\n",
       "    <tr>\n",
       "      <th>last</th>\n",
       "      <td>2014-09-30 00:00:00</td>\n",
       "      <td>2014-09-30 00:00:00</td>\n",
       "    </tr>\n",
       "  </tbody>\n",
       "</table>\n",
       "</div>"
      ],
      "text/plain": [
       "       date_account_created    date_first_active\n",
       "count                 62096                62096\n",
       "unique                   92                   92\n",
       "top     2014-07-23 00:00:00  2014-07-23 00:00:00\n",
       "freq                   1105                 1105\n",
       "first   2014-07-01 00:00:00  2014-07-01 00:00:00\n",
       "last    2014-09-30 00:00:00  2014-09-30 00:00:00"
      ]
     },
     "execution_count": 35,
     "metadata": {},
     "output_type": "execute_result"
    }
   ],
   "source": [
    "test_users['date_account_created'] = pd.to_datetime(test_users['date_account_created'])\n",
    "test_users['date_first_active'] = pd.to_datetime((test_users.timestamp_first_active // 1000000), format='%Y%m%d')\n",
    "test_users[[\"date_account_created\", \"date_first_active\"]].describe()"
   ]
  },
  {
   "cell_type": "code",
   "execution_count": 36,
   "metadata": {
    "collapsed": false,
    "deletable": true,
    "editable": true
   },
   "outputs": [
    {
     "name": "stdout",
     "output_type": "stream",
     "text": [
      "Number and percent of cases for positive signup_delay (test_users): 0, 0.000% \n"
     ]
    }
   ],
   "source": [
    "signup_delay_test = test_users[\"date_account_created\"] - test_users[\"date_first_active\"]\n",
    "signup_delay_test = signup_delay_test.apply(lambda d: d/np.timedelta64(1,'D')) \n",
    "print \"Number and percent of cases for positive signup_delay (test_users): %d, %.3f%% \" % \\\n",
    "                  (((signup_delay_test>0).sum()), (100 * float((signup_delay_test>0).sum())/test_users.shape[0]) )"
   ]
  },
  {
   "cell_type": "markdown",
   "metadata": {
    "deletable": true,
    "editable": true
   },
   "source": [
    "There are a few cases in train_users where variables date_account_created and date_first_active are different, there are no such cases in test_users"
   ]
  },
  {
   "cell_type": "markdown",
   "metadata": {},
   "source": [
    "### Categorical Variables"
   ]
  },
  {
   "cell_type": "markdown",
   "metadata": {},
   "source": [
    "Here we will consider categorical variables.\n",
    "First check values of variables from users dataset"
   ]
  },
  {
   "cell_type": "code",
   "execution_count": 37,
   "metadata": {
    "collapsed": false,
    "deletable": true,
    "editable": true
   },
   "outputs": [],
   "source": [
    "def plot_categories(df, variable):\n",
    "    perc = 100 * df[variable].value_counts(normalize=True, dropna=False)\n",
    "    plt.figure()\n",
    "    if len(perc) <= 5: \n",
    "        plt.xlabel(variable)\n",
    "        plt.ylabel(\"Cases, %\")\n",
    "        x = perc.index\n",
    "        y = perc.values\n",
    "    else:\n",
    "        plt.xlabel(\"Cases, %\")\n",
    "        plt.ylabel(variable)\n",
    "        y = perc.index\n",
    "        x = perc.values\n",
    "    print sns.barplot(x, y) \n",
    "\n",
    "def print_var_levels(df, cols, excl_col = []):\n",
    "    for col in cols:\n",
    "        if col in excl_col:\n",
    "            continue\n",
    "        print \"\\n\" , col\n",
    "        print \"******************************************\"\n",
    "        print df[col].unique()\n",
    "        \n",
    "def perc_counts(data_col, dropna = False):\n",
    "    counts = data_col.value_counts(dropna = False)\n",
    "    perc = 100 * data_col.value_counts(normalize=True, dropna = dropna)\n",
    "    return pd.concat([counts, perc], join='inner', axis=1, keys = [\"number\", \"perc\"])\n",
    "        \n",
    "def nrm_entropy(v):\n",
    "    n = len(v)\n",
    "    s = 0\n",
    "    for val in v:\n",
    "        if val > 0:\n",
    "            s += - val/100. * np.log2(val/100.)\n",
    "    return s/np.log2(n)\n",
    "     \n",
    "    \n",
    "def var_values(df, excl_col = []):\n",
    "    res = pd.DataFrame([], columns=[\"field\", \"# levels\", \"max % cases in a level\", \\\n",
    "                                    \"min % cases in a level\", \"min # cases in a level\", \\\n",
    "                                   \"nrm_entropy\"])\n",
    "    for col in df.columns:\n",
    "        if col in excl_col:\n",
    "            continue\n",
    "        s = df[col]\n",
    "        counts_dest = df[col].value_counts(dropna=False)\n",
    "        perc_dest = 100 * counts_dest/df.shape[0]\n",
    "        vc = pd.DataFrame({\"number\" : counts_dest, \"perc\" : perc_dest})\n",
    "        \n",
    "        res = res.append(pd.DataFrame([[col, len(vc), vc.perc.max(), vc.perc.min(), \\\n",
    "                                        vc.perc.median(), vc.number.min(), nrm_entropy(vc.perc.values)]], \n",
    "                        columns=[\"field\", \"# levels\", \"max % cases in a level\", \"min % cases in a level\", \\\n",
    "                                 \"median % cases in a level\", \"min # cases in a level\", \"nrm_entropy\"]),\n",
    "                     ignore_index=True)\n",
    "    return res[[\"field\", \"# levels\", \"max % cases in a level\", \"min % cases in a level\", \\\n",
    "                                 \"median % cases in a level\", \"min # cases in a level\", \"nrm_entropy\"]]\n",
    "    "
   ]
  },
  {
   "cell_type": "code",
   "execution_count": 38,
   "metadata": {
    "collapsed": false,
    "deletable": true,
    "editable": true,
    "scrolled": true
   },
   "outputs": [
    {
     "data": {
      "text/html": [
       "<div>\n",
       "<table border=\"1\" class=\"dataframe\">\n",
       "  <thead>\n",
       "    <tr style=\"text-align: right;\">\n",
       "      <th></th>\n",
       "      <th>field</th>\n",
       "      <th># levels</th>\n",
       "      <th>max % cases in a level</th>\n",
       "      <th>min % cases in a level</th>\n",
       "      <th>median % cases in a level</th>\n",
       "      <th>min # cases in a level</th>\n",
       "      <th>nrm_entropy</th>\n",
       "    </tr>\n",
       "  </thead>\n",
       "  <tbody>\n",
       "    <tr>\n",
       "      <th>0</th>\n",
       "      <td>gender</td>\n",
       "      <td>4.0</td>\n",
       "      <td>44.829024</td>\n",
       "      <td>0.132115</td>\n",
       "      <td>27.519431</td>\n",
       "      <td>282.0</td>\n",
       "      <td>0.776968</td>\n",
       "    </tr>\n",
       "    <tr>\n",
       "      <th>1</th>\n",
       "      <td>signup_method</td>\n",
       "      <td>3.0</td>\n",
       "      <td>71.630960</td>\n",
       "      <td>0.255796</td>\n",
       "      <td>28.113244</td>\n",
       "      <td>546.0</td>\n",
       "      <td>0.556153</td>\n",
       "    </tr>\n",
       "    <tr>\n",
       "      <th>2</th>\n",
       "      <td>signup_flow</td>\n",
       "      <td>17.0</td>\n",
       "      <td>77.178837</td>\n",
       "      <td>0.000468</td>\n",
       "      <td>0.141016</td>\n",
       "      <td>1.0</td>\n",
       "      <td>0.336070</td>\n",
       "    </tr>\n",
       "    <tr>\n",
       "      <th>3</th>\n",
       "      <td>language</td>\n",
       "      <td>25.0</td>\n",
       "      <td>96.656375</td>\n",
       "      <td>0.000937</td>\n",
       "      <td>0.029983</td>\n",
       "      <td>2.0</td>\n",
       "      <td>0.069690</td>\n",
       "    </tr>\n",
       "    <tr>\n",
       "      <th>4</th>\n",
       "      <td>affiliate_channel</td>\n",
       "      <td>8.0</td>\n",
       "      <td>64.523942</td>\n",
       "      <td>0.513467</td>\n",
       "      <td>4.128348</td>\n",
       "      <td>1096.0</td>\n",
       "      <td>0.597537</td>\n",
       "    </tr>\n",
       "    <tr>\n",
       "      <th>5</th>\n",
       "      <td>affiliate_provider</td>\n",
       "      <td>18.0</td>\n",
       "      <td>64.382926</td>\n",
       "      <td>0.000468</td>\n",
       "      <td>0.243850</td>\n",
       "      <td>1.0</td>\n",
       "      <td>0.367700</td>\n",
       "    </tr>\n",
       "    <tr>\n",
       "      <th>6</th>\n",
       "      <td>first_affiliate_tracked</td>\n",
       "      <td>8.0</td>\n",
       "      <td>51.174274</td>\n",
       "      <td>0.015929</td>\n",
       "      <td>2.862718</td>\n",
       "      <td>34.0</td>\n",
       "      <td>0.598851</td>\n",
       "    </tr>\n",
       "    <tr>\n",
       "      <th>7</th>\n",
       "      <td>signup_app</td>\n",
       "      <td>4.0</td>\n",
       "      <td>85.601379</td>\n",
       "      <td>2.555153</td>\n",
       "      <td>5.921734</td>\n",
       "      <td>5454.0</td>\n",
       "      <td>0.393672</td>\n",
       "    </tr>\n",
       "    <tr>\n",
       "      <th>8</th>\n",
       "      <td>first_device_type</td>\n",
       "      <td>9.0</td>\n",
       "      <td>41.976847</td>\n",
       "      <td>0.035605</td>\n",
       "      <td>4.997400</td>\n",
       "      <td>76.0</td>\n",
       "      <td>0.641154</td>\n",
       "    </tr>\n",
       "    <tr>\n",
       "      <th>9</th>\n",
       "      <td>first_browser</td>\n",
       "      <td>52.0</td>\n",
       "      <td>29.910846</td>\n",
       "      <td>0.000468</td>\n",
       "      <td>0.004685</td>\n",
       "      <td>1.0</td>\n",
       "      <td>0.450814</td>\n",
       "    </tr>\n",
       "  </tbody>\n",
       "</table>\n",
       "</div>"
      ],
      "text/plain": [
       "                     field  # levels  max % cases in a level  \\\n",
       "0                   gender       4.0               44.829024   \n",
       "1            signup_method       3.0               71.630960   \n",
       "2              signup_flow      17.0               77.178837   \n",
       "3                 language      25.0               96.656375   \n",
       "4        affiliate_channel       8.0               64.523942   \n",
       "5       affiliate_provider      18.0               64.382926   \n",
       "6  first_affiliate_tracked       8.0               51.174274   \n",
       "7               signup_app       4.0               85.601379   \n",
       "8        first_device_type       9.0               41.976847   \n",
       "9            first_browser      52.0               29.910846   \n",
       "\n",
       "   min % cases in a level  median % cases in a level  min # cases in a level  \\\n",
       "0                0.132115                  27.519431                   282.0   \n",
       "1                0.255796                  28.113244                   546.0   \n",
       "2                0.000468                   0.141016                     1.0   \n",
       "3                0.000937                   0.029983                     2.0   \n",
       "4                0.513467                   4.128348                  1096.0   \n",
       "5                0.000468                   0.243850                     1.0   \n",
       "6                0.015929                   2.862718                    34.0   \n",
       "7                2.555153                   5.921734                  5454.0   \n",
       "8                0.035605                   4.997400                    76.0   \n",
       "9                0.000468                   0.004685                     1.0   \n",
       "\n",
       "   nrm_entropy  \n",
       "0     0.776968  \n",
       "1     0.556153  \n",
       "2     0.336070  \n",
       "3     0.069690  \n",
       "4     0.597537  \n",
       "5     0.367700  \n",
       "6     0.598851  \n",
       "7     0.393672  \n",
       "8     0.641154  \n",
       "9     0.450814  "
      ]
     },
     "execution_count": 38,
     "metadata": {},
     "output_type": "execute_result"
    }
   ],
   "source": [
    "excl_vars = [\"id\",\"age\", \"date_account_created\", \"date_first_active\", \\\n",
    "             \"timestamp_first_active\", \"date_first_booking\", \"country_destination\"]\n",
    "var_values(users, excl_vars)"
   ]
  },
  {
   "cell_type": "markdown",
   "metadata": {},
   "source": [
    "From the table above we can see number of levels for each categorical variable and estimate of cases distribution among levels. Some variables like language are highly unbalanced meaning that most cases correspond only to the few levels."
   ]
  },
  {
   "cell_type": "code",
   "execution_count": 39,
   "metadata": {
    "collapsed": false,
    "deletable": true,
    "editable": true
   },
   "outputs": [
    {
     "data": {
      "text/plain": [
       "<matplotlib.axes._subplots.AxesSubplot at 0x116db2410>"
      ]
     },
     "execution_count": 39,
     "metadata": {},
     "output_type": "execute_result"
    },
    {
     "data": {
      "image/png": "[encoded data removed]",
      "text/plain": [
       "<matplotlib.figure.Figure at 0x116c58050>"
      ]
     },
     "metadata": {},
     "output_type": "display_data"
    }
   ],
   "source": [
    "def get_levels_stat(df, excl_fields=None):\n",
    "    res = pd.DataFrame([], columns=[\"field\", \"level\", \"count\", \"perc\"])\n",
    "    for field in df.columns:\n",
    "        if field in excl_fields:\n",
    "            continue\n",
    "        counts = df[field].value_counts(dropna=False)\n",
    "        perc = 100 * counts/df.shape[0]\n",
    "        levels_stat = pd.DataFrame({ \"field\": field, \"level\" : perc.index, \"perc\" : perc, \"count\": counts })\n",
    "        res = res.append(levels_stat, ignore_index=True)\n",
    "    return res\n",
    "\n",
    "excl_vars = [\"id\",\"age\", \"date_account_created\", \"date_first_active\", \\\n",
    "             \"timestamp_first_active\", \"date_first_booking\", \"country_destination\"]\n",
    "\n",
    "fields_stat = get_levels_stat(users, excl_vars)\n",
    "\n",
    "fig, ax = plt.subplots(figsize=(10,7))\n",
    "sns.stripplot(y=\"field\", x=\"perc\", data=fields_stat, size=8, ax=ax)"
   ]
  },
  {
   "cell_type": "code",
   "execution_count": 40,
   "metadata": {
    "collapsed": false,
    "deletable": true,
    "editable": true
   },
   "outputs": [
    {
     "name": "stderr",
     "output_type": "stream",
     "text": [
      "/anaconda/envs/xgb_last/lib/python2.7/site-packages/ipykernel/__main__.py:3: FutureWarning: sort(columns=....) is deprecated, use sort_values(by=.....)\n",
      "  app.launch_new_instance()\n"
     ]
    },
    {
     "data": {
      "text/html": [
       "<div>\n",
       "<table border=\"1\" class=\"dataframe\">\n",
       "  <thead>\n",
       "    <tr style=\"text-align: right;\">\n",
       "      <th></th>\n",
       "      <th>min</th>\n",
       "      <th>median</th>\n",
       "      <th>max</th>\n",
       "      <th>Min_Max Difference</th>\n",
       "    </tr>\n",
       "    <tr>\n",
       "      <th>field</th>\n",
       "      <th></th>\n",
       "      <th></th>\n",
       "      <th></th>\n",
       "      <th></th>\n",
       "    </tr>\n",
       "  </thead>\n",
       "  <tbody>\n",
       "    <tr>\n",
       "      <th>language</th>\n",
       "      <td>0.000937</td>\n",
       "      <td>0.029983</td>\n",
       "      <td>96.656375</td>\n",
       "      <td>96.655438</td>\n",
       "    </tr>\n",
       "    <tr>\n",
       "      <th>signup_app</th>\n",
       "      <td>2.555153</td>\n",
       "      <td>5.921734</td>\n",
       "      <td>85.601379</td>\n",
       "      <td>83.046226</td>\n",
       "    </tr>\n",
       "    <tr>\n",
       "      <th>signup_flow</th>\n",
       "      <td>0.000468</td>\n",
       "      <td>0.141016</td>\n",
       "      <td>77.178837</td>\n",
       "      <td>77.178369</td>\n",
       "    </tr>\n",
       "    <tr>\n",
       "      <th>signup_method</th>\n",
       "      <td>0.255796</td>\n",
       "      <td>28.113244</td>\n",
       "      <td>71.630960</td>\n",
       "      <td>71.375163</td>\n",
       "    </tr>\n",
       "    <tr>\n",
       "      <th>affiliate_provider</th>\n",
       "      <td>0.000468</td>\n",
       "      <td>0.243850</td>\n",
       "      <td>64.382926</td>\n",
       "      <td>64.382458</td>\n",
       "    </tr>\n",
       "    <tr>\n",
       "      <th>affiliate_channel</th>\n",
       "      <td>0.513467</td>\n",
       "      <td>4.128348</td>\n",
       "      <td>64.523942</td>\n",
       "      <td>64.010475</td>\n",
       "    </tr>\n",
       "    <tr>\n",
       "      <th>first_affiliate_tracked</th>\n",
       "      <td>0.015929</td>\n",
       "      <td>2.862718</td>\n",
       "      <td>51.174274</td>\n",
       "      <td>51.158345</td>\n",
       "    </tr>\n",
       "    <tr>\n",
       "      <th>gender</th>\n",
       "      <td>0.132115</td>\n",
       "      <td>27.519431</td>\n",
       "      <td>44.829024</td>\n",
       "      <td>44.696909</td>\n",
       "    </tr>\n",
       "    <tr>\n",
       "      <th>first_device_type</th>\n",
       "      <td>0.035605</td>\n",
       "      <td>4.997400</td>\n",
       "      <td>41.976847</td>\n",
       "      <td>41.941242</td>\n",
       "    </tr>\n",
       "    <tr>\n",
       "      <th>first_browser</th>\n",
       "      <td>0.000468</td>\n",
       "      <td>0.004685</td>\n",
       "      <td>29.910846</td>\n",
       "      <td>29.910378</td>\n",
       "    </tr>\n",
       "  </tbody>\n",
       "</table>\n",
       "</div>"
      ],
      "text/plain": [
       "                              min     median        max  Min_Max Difference\n",
       "field                                                                      \n",
       "language                 0.000937   0.029983  96.656375           96.655438\n",
       "signup_app               2.555153   5.921734  85.601379           83.046226\n",
       "signup_flow              0.000468   0.141016  77.178837           77.178369\n",
       "signup_method            0.255796  28.113244  71.630960           71.375163\n",
       "affiliate_provider       0.000468   0.243850  64.382926           64.382458\n",
       "affiliate_channel        0.513467   4.128348  64.523942           64.010475\n",
       "first_affiliate_tracked  0.015929   2.862718  51.174274           51.158345\n",
       "gender                   0.132115  27.519431  44.829024           44.696909\n",
       "first_device_type        0.035605   4.997400  41.976847           41.941242\n",
       "first_browser            0.000468   0.004685  29.910846           29.910378"
      ]
     },
     "execution_count": 40,
     "metadata": {},
     "output_type": "execute_result"
    }
   ],
   "source": [
    "fields_gr = fields_stat.groupby(\"field\")[\"perc\"].agg([\"min\", \"median\", \"max\"])\n",
    "fields_gr[\"Min_Max Difference\"] = fields_gr[\"max\"]-fields_gr[\"min\"]\n",
    "fields_gr.sort(columns=[\"Min_Max Difference\"], ascending=False, inplace=True)\n",
    "fields_gr"
   ]
  },
  {
   "cell_type": "markdown",
   "metadata": {
    "deletable": true,
    "editable": true
   },
   "source": [
    "Almost all categorical variables have levels with very low number of observations\n",
    "<br>Some variable levels like '-unknown-', \"untracked\", etc are possible missing valies, because they do not give any specific information.\n"
   ]
  },
  {
   "cell_type": "markdown",
   "metadata": {},
   "source": [
    "Next consider session variables"
   ]
  },
  {
   "cell_type": "code",
   "execution_count": 42,
   "metadata": {
    "collapsed": false
   },
   "outputs": [
    {
     "data": {
      "text/html": [
       "<div>\n",
       "<table border=\"1\" class=\"dataframe\">\n",
       "  <thead>\n",
       "    <tr style=\"text-align: right;\">\n",
       "      <th></th>\n",
       "      <th>user_id</th>\n",
       "      <th>action</th>\n",
       "      <th>action_type</th>\n",
       "      <th>action_detail</th>\n",
       "      <th>device_type</th>\n",
       "      <th>secs_elapsed</th>\n",
       "    </tr>\n",
       "  </thead>\n",
       "  <tbody>\n",
       "    <tr>\n",
       "      <th>0</th>\n",
       "      <td>d1mm9tcy42</td>\n",
       "      <td>lookup</td>\n",
       "      <td>NaN</td>\n",
       "      <td>NaN</td>\n",
       "      <td>Windows Desktop</td>\n",
       "      <td>319.0</td>\n",
       "    </tr>\n",
       "    <tr>\n",
       "      <th>1</th>\n",
       "      <td>d1mm9tcy42</td>\n",
       "      <td>search_results</td>\n",
       "      <td>click</td>\n",
       "      <td>view_search_results</td>\n",
       "      <td>Windows Desktop</td>\n",
       "      <td>67753.0</td>\n",
       "    </tr>\n",
       "    <tr>\n",
       "      <th>2</th>\n",
       "      <td>d1mm9tcy42</td>\n",
       "      <td>lookup</td>\n",
       "      <td>NaN</td>\n",
       "      <td>NaN</td>\n",
       "      <td>Windows Desktop</td>\n",
       "      <td>301.0</td>\n",
       "    </tr>\n",
       "    <tr>\n",
       "      <th>3</th>\n",
       "      <td>d1mm9tcy42</td>\n",
       "      <td>search_results</td>\n",
       "      <td>click</td>\n",
       "      <td>view_search_results</td>\n",
       "      <td>Windows Desktop</td>\n",
       "      <td>22141.0</td>\n",
       "    </tr>\n",
       "    <tr>\n",
       "      <th>4</th>\n",
       "      <td>d1mm9tcy42</td>\n",
       "      <td>lookup</td>\n",
       "      <td>NaN</td>\n",
       "      <td>NaN</td>\n",
       "      <td>Windows Desktop</td>\n",
       "      <td>435.0</td>\n",
       "    </tr>\n",
       "  </tbody>\n",
       "</table>\n",
       "</div>"
      ],
      "text/plain": [
       "      user_id          action action_type        action_detail  \\\n",
       "0  d1mm9tcy42          lookup         NaN                  NaN   \n",
       "1  d1mm9tcy42  search_results       click  view_search_results   \n",
       "2  d1mm9tcy42          lookup         NaN                  NaN   \n",
       "3  d1mm9tcy42  search_results       click  view_search_results   \n",
       "4  d1mm9tcy42          lookup         NaN                  NaN   \n",
       "\n",
       "       device_type  secs_elapsed  \n",
       "0  Windows Desktop         319.0  \n",
       "1  Windows Desktop       67753.0  \n",
       "2  Windows Desktop         301.0  \n",
       "3  Windows Desktop       22141.0  \n",
       "4  Windows Desktop         435.0  "
      ]
     },
     "execution_count": 42,
     "metadata": {},
     "output_type": "execute_result"
    }
   ],
   "source": [
    "sessions.head()"
   ]
  },
  {
   "cell_type": "code",
   "execution_count": 43,
   "metadata": {
    "collapsed": false,
    "deletable": true,
    "editable": true,
    "scrolled": true
   },
   "outputs": [
    {
     "data": {
      "text/html": [
       "<div>\n",
       "<table border=\"1\" class=\"dataframe\">\n",
       "  <thead>\n",
       "    <tr style=\"text-align: right;\">\n",
       "      <th></th>\n",
       "      <th>field</th>\n",
       "      <th># levels</th>\n",
       "      <th>max % cases in a level</th>\n",
       "      <th>min % cases in a level</th>\n",
       "      <th>median % cases in a level</th>\n",
       "      <th>min # cases in a level</th>\n",
       "      <th>nrm_entropy</th>\n",
       "    </tr>\n",
       "  </thead>\n",
       "  <tbody>\n",
       "    <tr>\n",
       "      <th>0</th>\n",
       "      <td>action</td>\n",
       "      <td>360.0</td>\n",
       "      <td>26.195561</td>\n",
       "      <td>0.000009</td>\n",
       "      <td>0.004471</td>\n",
       "      <td>1.0</td>\n",
       "      <td>0.548525</td>\n",
       "    </tr>\n",
       "    <tr>\n",
       "      <th>1</th>\n",
       "      <td>action_type</td>\n",
       "      <td>11.0</td>\n",
       "      <td>33.695975</td>\n",
       "      <td>0.000038</td>\n",
       "      <td>5.898680</td>\n",
       "      <td>4.0</td>\n",
       "      <td>0.708341</td>\n",
       "    </tr>\n",
       "    <tr>\n",
       "      <th>2</th>\n",
       "      <td>action_detail</td>\n",
       "      <td>156.0</td>\n",
       "      <td>16.814243</td>\n",
       "      <td>0.000009</td>\n",
       "      <td>0.025862</td>\n",
       "      <td>1.0</td>\n",
       "      <td>0.603230</td>\n",
       "    </tr>\n",
       "    <tr>\n",
       "      <th>3</th>\n",
       "      <td>device_type</td>\n",
       "      <td>14.0</td>\n",
       "      <td>34.011880</td>\n",
       "      <td>0.000643</td>\n",
       "      <td>1.661496</td>\n",
       "      <td>68.0</td>\n",
       "      <td>0.636909</td>\n",
       "    </tr>\n",
       "  </tbody>\n",
       "</table>\n",
       "</div>"
      ],
      "text/plain": [
       "           field  # levels  max % cases in a level  min % cases in a level  \\\n",
       "0         action     360.0               26.195561                0.000009   \n",
       "1    action_type      11.0               33.695975                0.000038   \n",
       "2  action_detail     156.0               16.814243                0.000009   \n",
       "3    device_type      14.0               34.011880                0.000643   \n",
       "\n",
       "   median % cases in a level  min # cases in a level  nrm_entropy  \n",
       "0                   0.004471                     1.0     0.548525  \n",
       "1                   5.898680                     4.0     0.708341  \n",
       "2                   0.025862                     1.0     0.603230  \n",
       "3                   1.661496                    68.0     0.636909  "
      ]
     },
     "execution_count": 43,
     "metadata": {},
     "output_type": "execute_result"
    }
   ],
   "source": [
    "var_values(sessions, [\"user_id\", \"secs_elapsed\"])"
   ]
  },
  {
   "cell_type": "code",
   "execution_count": 44,
   "metadata": {
    "collapsed": false
   },
   "outputs": [
    {
     "data": {
      "text/plain": [
       "<matplotlib.axes._subplots.AxesSubplot at 0x11a269990>"
      ]
     },
     "execution_count": 44,
     "metadata": {},
     "output_type": "execute_result"
    },
    {
     "data": {
      "image/png": "[encoded data removed]",
      "text/plain": [
       "<matplotlib.figure.Figure at 0x116dfdad0>"
      ]
     },
     "metadata": {},
     "output_type": "display_data"
    }
   ],
   "source": [
    "ses_fields_stat = get_levels_stat(sessions, [\"user_id\", \"secs_elapsed\"])\n",
    "\n",
    "fig, ax = plt.subplots(figsize=(10,4))\n",
    "sns.stripplot(y=\"field\", x=\"perc\", data=ses_fields_stat, size=8, ax=ax)"
   ]
  },
  {
   "cell_type": "markdown",
   "metadata": {},
   "source": [
    "### Continous variables"
   ]
  },
  {
   "cell_type": "code",
   "execution_count": 46,
   "metadata": {
    "collapsed": false,
    "deletable": true,
    "editable": true,
    "scrolled": true
   },
   "outputs": [
    {
     "data": {
      "text/html": [
       "<div>\n",
       "<table border=\"1\" class=\"dataframe\">\n",
       "  <thead>\n",
       "    <tr style=\"text-align: right;\">\n",
       "      <th></th>\n",
       "      <th>age(train)</th>\n",
       "      <th>age(test)</th>\n",
       "    </tr>\n",
       "  </thead>\n",
       "  <tbody>\n",
       "    <tr>\n",
       "      <th>count</th>\n",
       "      <td>125461.000000</td>\n",
       "      <td>33220.000000</td>\n",
       "    </tr>\n",
       "    <tr>\n",
       "      <th>mean</th>\n",
       "      <td>49.668335</td>\n",
       "      <td>37.616677</td>\n",
       "    </tr>\n",
       "    <tr>\n",
       "      <th>std</th>\n",
       "      <td>155.666612</td>\n",
       "      <td>74.440647</td>\n",
       "    </tr>\n",
       "    <tr>\n",
       "      <th>min</th>\n",
       "      <td>1.000000</td>\n",
       "      <td>1.000000</td>\n",
       "    </tr>\n",
       "    <tr>\n",
       "      <th>25%</th>\n",
       "      <td>28.000000</td>\n",
       "      <td>26.000000</td>\n",
       "    </tr>\n",
       "    <tr>\n",
       "      <th>50%</th>\n",
       "      <td>34.000000</td>\n",
       "      <td>31.000000</td>\n",
       "    </tr>\n",
       "    <tr>\n",
       "      <th>75%</th>\n",
       "      <td>43.000000</td>\n",
       "      <td>40.000000</td>\n",
       "    </tr>\n",
       "    <tr>\n",
       "      <th>max</th>\n",
       "      <td>2014.000000</td>\n",
       "      <td>2002.000000</td>\n",
       "    </tr>\n",
       "  </tbody>\n",
       "</table>\n",
       "</div>"
      ],
      "text/plain": [
       "          age(train)     age(test)\n",
       "count  125461.000000  33220.000000\n",
       "mean       49.668335     37.616677\n",
       "std       155.666612     74.440647\n",
       "min         1.000000      1.000000\n",
       "25%        28.000000     26.000000\n",
       "50%        34.000000     31.000000\n",
       "75%        43.000000     40.000000\n",
       "max      2014.000000   2002.000000"
      ]
     },
     "execution_count": 46,
     "metadata": {},
     "output_type": "execute_result"
    }
   ],
   "source": [
    "pd.concat ([users['age'].describe(), test_users['age'].describe()], axis=1, keys = ['age(train)', 'age(test)'])"
   ]
  },
  {
   "cell_type": "markdown",
   "metadata": {
    "deletable": true,
    "editable": true
   },
   "source": [
    "Age variable has a lot of missing values (nearly 41% in training set and 46% in test data set).\n",
    "Age variable also has some outliers in both datasets. Minumun value is 1 and max value is greater that 2000."
   ]
  },
  {
   "cell_type": "code",
   "execution_count": 47,
   "metadata": {
    "collapsed": true,
    "deletable": true,
    "editable": true
   },
   "outputs": [],
   "source": [
    "users['source']=\"Train\"\n",
    "test_users['source']=\"Test\"\n",
    "all_users = pd.concat([users, test_users], axis=0).reindex()"
   ]
  },
  {
   "cell_type": "code",
   "execution_count": 48,
   "metadata": {
    "collapsed": false,
    "deletable": true,
    "editable": true
   },
   "outputs": [
    {
     "data": {
      "text/plain": [
       "<matplotlib.axes._subplots.AxesSubplot at 0x119176390>"
      ]
     },
     "execution_count": 48,
     "metadata": {},
     "output_type": "execute_result"
    },
    {
     "data": {
      "image/png": "[encoded data removed]",
      "text/plain": [
       "<matplotlib.figure.Figure at 0x116c1e390>"
      ]
     },
     "metadata": {},
     "output_type": "display_data"
    }
   ],
   "source": [
    "sns.boxplot(\"source\", 'age', data=all_users)"
   ]
  },
  {
   "cell_type": "code",
   "execution_count": 60,
   "metadata": {
    "collapsed": false,
    "deletable": true,
    "editable": true
   },
   "outputs": [
    {
     "data": {
      "text/plain": [
       "<matplotlib.axes._subplots.AxesSubplot at 0x121c902d0>"
      ]
     },
     "execution_count": 60,
     "metadata": {},
     "output_type": "execute_result"
    },
    {
     "data": {
      "image/png": "[encoded data removed]",
      "text/plain": [
       "<matplotlib.figure.Figure at 0x121eab390>"
      ]
     },
     "metadata": {},
     "output_type": "display_data"
    }
   ],
   "source": [
    "sns.boxplot(\"source\", 'age', data=all_users[all_users['age']<60])"
   ]
  },
  {
   "cell_type": "code",
   "execution_count": 77,
   "metadata": {
    "collapsed": false,
    "scrolled": true
   },
   "outputs": [
    {
     "data": {
      "text/plain": [
       "<matplotlib.axes._subplots.AxesSubplot at 0x128db1ed0>"
      ]
     },
     "execution_count": 77,
     "metadata": {},
     "output_type": "execute_result"
    },
    {
     "data": {
      "image/png": "[encoded data removed]",
      "text/plain": [
       "<matplotlib.figure.Figure at 0x128cbcf90>"
      ]
     },
     "metadata": {},
     "output_type": "display_data"
    }
   ],
   "source": [
    "keep = (users.age.notnull()) \n",
    "fig, ax = plt.subplots(1,2, figsize=(13,5))\n",
    "ax[0].set_xscale('log')\n",
    "ax[1].set_xscale('log')\n",
    "sns.distplot(users[keep].age, ax=ax[0], bins=1000, kde=False, color= sns.xkcd_rgb[\"denim blue\"])\n",
    "sns.boxplot('age', data=users[keep], ax=ax[1])"
   ]
  },
  {
   "cell_type": "code",
   "execution_count": 79,
   "metadata": {
    "collapsed": false
   },
   "outputs": [
    {
     "data": {
      "text/plain": [
       "<matplotlib.axes._subplots.AxesSubplot at 0x12f53c550>"
      ]
     },
     "execution_count": 79,
     "metadata": {},
     "output_type": "execute_result"
    },
    {
     "data": {
      "image/png": "[encoded data removed]",
      "text/plain": [
       "<matplotlib.figure.Figure at 0x12eb99390>"
      ]
     },
     "metadata": {},
     "output_type": "display_data"
    }
   ],
   "source": [
    "keep = (sessions.secs_elapsed.notnull()) \n",
    "fig, ax = plt.subplots(1,2, figsize=(13,5))\n",
    "ax[0].set_xscale('log')\n",
    "ax[1].set_xscale('log')\n",
    "sns.distplot(sessions[keep].secs_elapsed, ax=ax[0], bins=1000, kde=False, color= sns.xkcd_rgb[\"denim blue\"])\n",
    "sns.boxplot('secs_elapsed', data=sessions[keep], ax=ax[1])"
   ]
  },
  {
   "cell_type": "markdown",
   "metadata": {},
   "source": [
    "### Missed values"
   ]
  },
  {
   "cell_type": "code",
   "execution_count": 45,
   "metadata": {
    "collapsed": false,
    "deletable": true,
    "editable": true,
    "scrolled": true
   },
   "outputs": [
    {
     "name": "stdout",
     "output_type": "stream",
     "text": [
      "Missing values in users data set\n",
      "****************************************\n",
      "field\n",
      "first_affiliate_tracked    54.015676\n",
      "first_browser              12.773892\n",
      "first_device_type           4.997400\n",
      "gender                     44.829024\n",
      "Name: perc, dtype: float64\n",
      "\n",
      "Missing values in sessions data set\n",
      "****************************************\n",
      "field\n",
      "action            0.753482\n",
      "action_detail    20.414446\n",
      "action_type      20.414721\n",
      "device_type       1.999283\n",
      "Name: perc, dtype: float64\n"
     ]
    }
   ],
   "source": [
    "not_specified_levels = [\"-unknown-\", \"untracked\", \"other/unknown\", \"unknown\", \"nan\"]\n",
    "print \"Missing values in users data set\\n\" + \"*\"*40\n",
    "print fields_stat[fields_stat.level.str.lower().isin(not_specified_levels) | fields_stat.level.isnull()] \\\n",
    "                .groupby(\"field\").perc.sum()\n",
    "print \"\\nMissing values in sessions data set\\n\" + \"*\"*40\n",
    "print ses_fields_stat[ses_fields_stat.level.str.lower().isin(not_specified_levels) | ses_fields_stat.level.isnull()] \\\n",
    "                .groupby(\"field\").perc.sum()"
   ]
  },
  {
   "cell_type": "markdown",
   "metadata": {
    "deletable": true,
    "editable": true
   },
   "source": [
    "Gender is unknown for nearly half users - 45%, first_affiliate_tracked is untracked for 51% of users."
   ]
  },
  {
   "cell_type": "markdown",
   "metadata": {},
   "source": [
    "Action is specified for most records, action_detail and action_type is missed for nearly 20% cases."
   ]
  },
  {
   "cell_type": "markdown",
   "metadata": {
    "deletable": true,
    "editable": true
   },
   "source": [
    "### Sessions strucure"
   ]
  },
  {
   "cell_type": "code",
   "execution_count": 46,
   "metadata": {
    "collapsed": false,
    "deletable": true,
    "editable": true
   },
   "outputs": [
    {
     "data": {
      "text/plain": [
       "view                33.695975\n",
       "data                19.907479\n",
       "click               18.889408\n",
       "NaN                 10.657003\n",
       "-unknown-            9.757718\n",
       "submit               5.898680\n",
       "message_post         0.824235\n",
       "partner_callback     0.181042\n",
       "booking_request      0.177644\n",
       "modify               0.010778\n",
       "booking_response     0.000038\n",
       "Name: action_type, dtype: float64"
      ]
     },
     "execution_count": 46,
     "metadata": {},
     "output_type": "execute_result"
    }
   ],
   "source": [
    "100 * sessions.action_type.value_counts(normalize=True, dropna=False)"
   ]
  },
  {
   "cell_type": "code",
   "execution_count": 109,
   "metadata": {
    "collapsed": false,
    "deletable": true,
    "editable": true,
    "scrolled": true
   },
   "outputs": [
    {
     "data": {
      "text/plain": [
       "update                       56.541597\n",
       "create                       16.967324\n",
       "ask_question                  7.068662\n",
       "authenticate                  6.156665\n",
       "notifications                 5.251405\n",
       "apply_reservation             1.751003\n",
       "connect                       1.622024\n",
       "requested                     1.422459\n",
       "qt_reply_v2                   1.368076\n",
       "set_user                      1.124877\n",
       "delete                        0.219457\n",
       "add_note                      0.154165\n",
       "set_password                  0.121279\n",
       "cancel                        0.093526\n",
       "email_share                   0.051175\n",
       "forgot_password               0.036255\n",
       "change_password               0.027593\n",
       "ajax_worth                    0.008984\n",
       "change_availability           0.006738\n",
       "set_default                   0.003048\n",
       "respond                       0.001765\n",
       "destroy                       0.000963\n",
       "approve                       0.000642\n",
       "refund_guest_cancellation     0.000321\n",
       "dtype: float64"
      ]
     },
     "execution_count": 109,
     "metadata": {},
     "output_type": "execute_result"
    }
   ],
   "source": [
    "100 * sessions[sessions.action_type==\"submit\"].action.value_counts(normalize=True)"
   ]
  },
  {
   "cell_type": "code",
   "execution_count": 116,
   "metadata": {
    "collapsed": false,
    "scrolled": false
   },
   "outputs": [
    {
     "data": {
      "text/plain": [
       "data    1\n",
       "dtype: float64"
      ]
     },
     "execution_count": 116,
     "metadata": {},
     "output_type": "execute_result"
    }
   ],
   "source": [
    "sessions[sessions.action == \"personalize\"].action_type.value_counts(normalize=True)"
   ]
  },
  {
   "cell_type": "code",
   "execution_count": 117,
   "metadata": {
    "collapsed": false
   },
   "outputs": [
    {
     "data": {
      "text/plain": [
       "wishlist_content_update    1\n",
       "dtype: float64"
      ]
     },
     "execution_count": 117,
     "metadata": {},
     "output_type": "execute_result"
    }
   ],
   "source": [
    "sessions[(sessions.action == \"personalize\")&(sessions.action_type ==\"data\") ].action_detail.value_counts(normalize=True)"
   ]
  },
  {
   "cell_type": "markdown",
   "metadata": {
    "deletable": true,
    "editable": true
   },
   "source": [
    "<a id='section6'></a>"
   ]
  },
  {
   "cell_type": "code",
   "execution_count": null,
   "metadata": {
    "collapsed": true,
    "deletable": true,
    "editable": true
   },
   "outputs": [],
   "source": []
  }
 ],
 "metadata": {
  "kernelspec": {
   "display_name": "Python 2",
   "language": "python",
   "name": "python2"
  },
  "language_info": {
   "codemirror_mode": {
    "name": "ipython",
    "version": 2
   },
   "file_extension": ".py",
   "mimetype": "text/x-python",
   "name": "python",
   "nbconvert_exporter": "python",
   "pygments_lexer": "ipython2",
   "version": "2.7.13"
  }
 },
 "nbformat": 4,
 "nbformat_minor": 0
}
